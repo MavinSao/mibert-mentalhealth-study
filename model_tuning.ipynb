{
 "cells": [
  {
   "cell_type": "code",
   "execution_count": 1,
   "id": "9357a9d5-3c01-464b-86f6-54efc1412304",
   "metadata": {},
   "outputs": [],
   "source": [
    "import torch\n",
    "import torch.nn as nn\n",
    "import pandas as pd\n",
    "from transformers import BertTokenizer, BertModel,AutoTokenizer, AutoModelForSequenceClassification\n",
    "from torch.utils.data import Dataset, DataLoader\n",
    "from sklearn.metrics import accuracy_score, precision_recall_fscore_support, confusion_matrix, classification_report\n",
    "import numpy as np\n",
    "from tqdm import tqdm\n",
    "import time\n",
    "import matplotlib.pyplot as plt\n",
    "import seaborn as sns"
   ]
  },
  {
   "cell_type": "code",
   "execution_count": 2,
   "id": "a0cb0dce-cb55-4676-9c4a-8d67ef922d28",
   "metadata": {},
   "outputs": [
    {
     "data": {
      "application/vnd.jupyter.widget-view+json": {
       "model_id": "df5bd62e4ed541159dc48621799b6cc3",
       "version_major": 2,
       "version_minor": 0
      },
      "text/plain": [
       "VBox(children=(HTML(value='<center> <img\\nsrc=https://huggingface.co/front/assets/huggingface_logo-noborder.sv…"
      ]
     },
     "metadata": {},
     "output_type": "display_data"
    }
   ],
   "source": [
    "from huggingface_hub import notebook_login\n",
    "\n",
    "notebook_login()"
   ]
  },
  {
   "cell_type": "code",
   "execution_count": 3,
   "id": "aec44065-9bfc-45c5-be9e-3255dd4298c4",
   "metadata": {},
   "outputs": [
    {
     "name": "stdout",
     "output_type": "stream",
     "text": [
      "Process started - Using device: cuda\n"
     ]
    }
   ],
   "source": [
    "# Set device\n",
    "device = torch.device(\"cuda\" if torch.cuda.is_available() else \"cpu\")\n",
    "print(f\"Process started - Using device: {device}\")"
   ]
  },
  {
   "cell_type": "code",
   "execution_count": 4,
   "id": "5c1e7220-28c5-4032-ba1e-9b11d81ad0c5",
   "metadata": {},
   "outputs": [],
   "source": [
    "# Custom Dataset\n",
    "class MentalHealthDataset(Dataset):\n",
    "    def __init__(self, encodings, labels):\n",
    "        self.encodings = encodings\n",
    "        self.labels = labels\n",
    "\n",
    "    def __getitem__(self, idx):\n",
    "        item = {key: torch.tensor(val[idx]) for key, val in self.encodings.items()}\n",
    "        item[\"labels\"] = torch.tensor(self.labels[idx], dtype=torch.long)\n",
    "        return item\n",
    "\n",
    "    def __len__(self):\n",
    "        return len(self.labels)"
   ]
  },
  {
   "cell_type": "code",
   "execution_count": 5,
   "id": "83c57f99-93fd-4f13-a2a3-602752bec7ab",
   "metadata": {},
   "outputs": [
    {
     "name": "stdout",
     "output_type": "stream",
     "text": [
      "Loading and preprocessing data...\n"
     ]
    }
   ],
   "source": [
    "# Load and preprocess data\n",
    "print(\"Loading and preprocessing data...\")\n",
    "train_df = pd.read_csv(\"./dataset/train_dataset.csv\")\n",
    "val_df = pd.read_csv(\"./dataset/val_dataset.csv\")\n",
    "\n",
    "label_map = {\"adhd\": 0, \"anxiety\": 1, \"bipolar\": 2, \"bpd\": 3, \"depression\": 4, \"ocd\": 5, \"ptsd\": 6, \"none\": 7}\n",
    "train_df[\"label_id\"] = train_df[\"label\"].map(label_map)\n",
    "val_df[\"label_id\"] = val_df[\"label\"].map(label_map)\n",
    "label_names = list(label_map.keys())"
   ]
  },
  {
   "cell_type": "code",
   "execution_count": 6,
   "id": "e4243d50-583c-4ac7-950a-9a017d9cdfeb",
   "metadata": {},
   "outputs": [
    {
     "name": "stdout",
     "output_type": "stream",
     "text": [
      "Tokenizing texts with model-specific tokenizers...\n"
     ]
    },
    {
     "data": {
      "application/vnd.jupyter.widget-view+json": {
       "model_id": "9bfcfe55810a411a8145b8196d11e0b1",
       "version_major": 2,
       "version_minor": 0
      },
      "text/plain": [
       "tokenizer_config.json:   0%|          | 0.00/62.0 [00:00<?, ?B/s]"
      ]
     },
     "metadata": {},
     "output_type": "display_data"
    },
    {
     "data": {
      "application/vnd.jupyter.widget-view+json": {
       "model_id": "975f726b9650421bad4e2aa026287d4b",
       "version_major": 2,
       "version_minor": 0
      },
      "text/plain": [
       "config.json:   0%|          | 0.00/466 [00:00<?, ?B/s]"
      ]
     },
     "metadata": {},
     "output_type": "display_data"
    },
    {
     "data": {
      "application/vnd.jupyter.widget-view+json": {
       "model_id": "d36e0f2ef854416ea170933c8dbc2997",
       "version_major": 2,
       "version_minor": 0
      },
      "text/plain": [
       "vocab.txt:   0%|          | 0.00/996k [00:00<?, ?B/s]"
      ]
     },
     "metadata": {},
     "output_type": "display_data"
    },
    {
     "data": {
      "application/vnd.jupyter.widget-view+json": {
       "model_id": "c91865cabbca45b697a94ba45aafdac0",
       "version_major": 2,
       "version_minor": 0
      },
      "text/plain": [
       "special_tokens_map.json:   0%|          | 0.00/112 [00:00<?, ?B/s]"
      ]
     },
     "metadata": {},
     "output_type": "display_data"
    },
    {
     "name": "stdout",
     "output_type": "stream",
     "text": [
      "Datasets created for all models.\n"
     ]
    }
   ],
   "source": [
    "# Model-specific tokenizers and encodings\n",
    "print(\"Tokenizing texts with model-specific tokenizers...\")\n",
    "\n",
    "# BioBERT\n",
    "biobert_tokenizer = AutoTokenizer.from_pretrained('dmis-lab/biobert-base-cased-v1.2')\n",
    "biobert_train_encodings = biobert_tokenizer(train_df[\"processed_text\"].tolist(), truncation=True, padding=True, max_length=256)\n",
    "biobert_val_encodings = biobert_tokenizer(val_df[\"processed_text\"].tolist(), truncation=True, padding=True, max_length=256)\n",
    "\n",
    "# ClinicalBERT\n",
    "clinicalbert_tokenizer = AutoTokenizer.from_pretrained('medicalai/ClinicalBERT')\n",
    "clinicalbert_train_encodings = clinicalbert_tokenizer(train_df[\"processed_text\"].tolist(), truncation=True, padding=True, max_length=256)\n",
    "clinicalbert_val_encodings = clinicalbert_tokenizer(val_df[\"processed_text\"].tolist(), truncation=True, padding=True, max_length=256)\n",
    "\n",
    "# MedBERT\n",
    "medbert_tokenizer = AutoTokenizer.from_pretrained('Charangan/MedBERT')\n",
    "medbert_train_encodings = medbert_tokenizer(train_df[\"processed_text\"].tolist(), truncation=True, padding=True, max_length=256)\n",
    "medbert_val_encodings = medbert_tokenizer(val_df[\"processed_text\"].tolist(), truncation=True, padding=True, max_length=256)\n",
    "\n",
    "# Create datasets for each model\n",
    "biobert_train_dataset = MentalHealthDataset(biobert_train_encodings, train_df[\"label_id\"].tolist())\n",
    "biobert_val_dataset = MentalHealthDataset(biobert_val_encodings, val_df[\"label_id\"].tolist())\n",
    "\n",
    "clinicalbert_train_dataset = MentalHealthDataset(clinicalbert_train_encodings, train_df[\"label_id\"].tolist())\n",
    "clinicalbert_val_dataset = MentalHealthDataset(clinicalbert_val_encodings, val_df[\"label_id\"].tolist())\n",
    "\n",
    "medbert_train_dataset = MentalHealthDataset(medbert_train_encodings, train_df[\"label_id\"].tolist())\n",
    "medbert_val_dataset = MentalHealthDataset(medbert_val_encodings, val_df[\"label_id\"].tolist())\n",
    "\n",
    "print(\"Datasets created for all models.\")"
   ]
  },
  {
   "cell_type": "code",
   "execution_count": 7,
   "id": "f0b1f98c-d523-482e-9b0a-3b375e40a31b",
   "metadata": {},
   "outputs": [],
   "source": [
    "# Training function\n",
    "def train_model(model, train_loader, val_loader, learning_rate, epochs=3):\n",
    "    optimizer = torch.optim.AdamW(model.parameters(), lr=learning_rate, weight_decay=1e-5)\n",
    "    scheduler = torch.optim.lr_scheduler.ReduceLROnPlateau(optimizer, mode='min', patience=1, factor=0.5, verbose=True)\n",
    "    criterion = nn.CrossEntropyLoss()\n",
    "    model.to(device)\n",
    "    accumulation_steps = 2\n",
    "\n",
    "    start_time = time.time()\n",
    "    for epoch in range(epochs):\n",
    "        model.train()\n",
    "        train_loss = 0\n",
    "        for step, batch in enumerate(tqdm(train_loader, desc=f\"Epoch {epoch+1}/{epochs} - Training\")):\n",
    "            input_ids = batch['input_ids'].to(device)\n",
    "            attention_mask = batch['attention_mask'].to(device)\n",
    "            labels = batch['labels'].to(device)\n",
    "            optimizer.zero_grad()\n",
    "            outputs = model(input_ids, attention_mask).logits\n",
    "            loss = criterion(outputs, labels)\n",
    "            loss.backward()\n",
    "            if (step + 1) % accumulation_steps == 0:\n",
    "                optimizer.step()\n",
    "            train_loss += loss.item()\n",
    "\n",
    "        avg_train_loss = train_loss / len(train_loader)\n",
    "        print(f\"Epoch {epoch+1} - Avg Train Loss: {avg_train_loss:.4f}\")\n",
    "\n",
    "        model.eval()\n",
    "        val_loss = 0\n",
    "        val_preds, val_labels = [], []\n",
    "        with torch.no_grad():\n",
    "            for batch in val_loader:\n",
    "                input_ids = batch['input_ids'].to(device)\n",
    "                attention_mask = batch['attention_mask'].to(device)\n",
    "                labels = batch['labels'].to(device)\n",
    "                outputs = model(input_ids, attention_mask).logits\n",
    "                loss = criterion(outputs, labels)\n",
    "                val_loss += loss.item()\n",
    "                preds = torch.argmax(outputs, dim=1)\n",
    "                val_preds.extend(preds.cpu().numpy())\n",
    "                val_labels.extend(labels.cpu().numpy())\n",
    "\n",
    "        avg_val_loss = val_loss / len(val_loader)\n",
    "        acc = accuracy_score(val_labels, val_preds)\n",
    "        print(f\"Epoch {epoch+1} - Val Loss: {avg_val_loss:.4f}, Val Accuracy: {acc:.4f}\")\n",
    "        scheduler.step(avg_val_loss)\n",
    "\n",
    "    duration = (time.time() - start_time) / 60\n",
    "    return model, duration"
   ]
  },
  {
   "cell_type": "code",
   "execution_count": 8,
   "id": "ddeeebd0-91f3-499e-9105-b62eba513bda",
   "metadata": {},
   "outputs": [],
   "source": [
    "# Evaluation function\n",
    "def evaluate_model(model, val_loader):\n",
    "    model.eval()\n",
    "    val_preds, val_labels = [], []\n",
    "    val_loss = 0\n",
    "    criterion = nn.CrossEntropyLoss()\n",
    "    with torch.no_grad():\n",
    "        for batch in val_loader:\n",
    "            input_ids = batch['input_ids'].to(device)\n",
    "            attention_mask = batch['attention_mask'].to(device)\n",
    "            labels = batch['labels'].to(device)\n",
    "            outputs = model(input_ids, attention_mask).logits\n",
    "            loss = criterion(outputs, labels)\n",
    "            val_loss += loss.item()\n",
    "            preds = torch.argmax(outputs, dim=1)\n",
    "            val_preds.extend(preds.cpu().numpy())\n",
    "            val_labels.extend(labels.cpu().numpy())\n",
    "\n",
    "    avg_val_loss = val_loss / len(val_loader)\n",
    "    acc = accuracy_score(val_labels, val_preds)\n",
    "    precision, recall, f1, _ = precision_recall_fscore_support(val_labels, val_preds, average='weighted')\n",
    "    return acc, precision, recall, f1, val_preds, val_labels"
   ]
  },
  {
   "cell_type": "markdown",
   "id": "e0cc7446-f277-4323-85ca-d6b401551b19",
   "metadata": {},
   "source": [
    "## Parameter Tuning"
   ]
  },
  {
   "cell_type": "code",
   "execution_count": 9,
   "id": "fef6ae32-6ece-412c-ac06-37582550c150",
   "metadata": {},
   "outputs": [],
   "source": [
    "# Test configurations\n",
    "batch_sizes = [8, 16, 32]\n",
    "learning_rates = [1e-5, 2e-5, 3e-5]"
   ]
  },
  {
   "cell_type": "markdown",
   "id": "825dc7ab-962d-4dc6-be1d-08a19096f4f6",
   "metadata": {},
   "source": [
    "## BioBERT"
   ]
  },
  {
   "cell_type": "code",
   "execution_count": 10,
   "id": "154c6744-d881-47f0-ae3a-f739f25f8d00",
   "metadata": {},
   "outputs": [
    {
     "name": "stdout",
     "output_type": "stream",
     "text": [
      "\n",
      "=== Training BioBERT Model ===\n",
      "\n",
      "Training BioBERT - Batch Size: 8, Learning Rate: 1e-05\n"
     ]
    },
    {
     "name": "stderr",
     "output_type": "stream",
     "text": [
      "Some weights of BertForSequenceClassification were not initialized from the model checkpoint at dmis-lab/biobert-base-cased-v1.2 and are newly initialized: ['classifier.bias', 'classifier.weight']\n",
      "You should probably TRAIN this model on a down-stream task to be able to use it for predictions and inference.\n",
      "Epoch 1/3 - Training:   3%|▎         | 78/2658 [00:09<04:31,  9.49it/s]"
     ]
    },
    {
     "data": {
      "application/vnd.jupyter.widget-view+json": {
       "model_id": "b5e86566e32a4652b05668784228b9d5",
       "version_major": 2,
       "version_minor": 0
      },
      "text/plain": [
       "model.safetensors:   0%|          | 0.00/436M [00:00<?, ?B/s]"
      ]
     },
     "metadata": {},
     "output_type": "display_data"
    },
    {
     "name": "stderr",
     "output_type": "stream",
     "text": [
      "Epoch 1/3 - Training: 100%|██████████| 2658/2658 [04:54<00:00,  9.01it/s]\n"
     ]
    },
    {
     "name": "stdout",
     "output_type": "stream",
     "text": [
      "Epoch 1 - Avg Train Loss: 0.9643\n",
      "Epoch 1 - Val Loss: 0.6820, Val Accuracy: 0.7776\n"
     ]
    },
    {
     "name": "stderr",
     "output_type": "stream",
     "text": [
      "Epoch 2/3 - Training: 100%|██████████| 2658/2658 [04:55<00:00,  8.99it/s]\n"
     ]
    },
    {
     "name": "stdout",
     "output_type": "stream",
     "text": [
      "Epoch 2 - Avg Train Loss: 0.5688\n",
      "Epoch 2 - Val Loss: 0.6247, Val Accuracy: 0.7910\n"
     ]
    },
    {
     "name": "stderr",
     "output_type": "stream",
     "text": [
      "Epoch 3/3 - Training: 100%|██████████| 2658/2658 [04:55<00:00,  9.00it/s]\n"
     ]
    },
    {
     "name": "stdout",
     "output_type": "stream",
     "text": [
      "Epoch 3 - Avg Train Loss: 0.4618\n",
      "Epoch 3 - Val Loss: 0.5718, Val Accuracy: 0.8117\n",
      "\n",
      "Training BioBERT - Batch Size: 8, Learning Rate: 2e-05\n"
     ]
    },
    {
     "name": "stderr",
     "output_type": "stream",
     "text": [
      "Some weights of BertForSequenceClassification were not initialized from the model checkpoint at dmis-lab/biobert-base-cased-v1.2 and are newly initialized: ['classifier.bias', 'classifier.weight']\n",
      "You should probably TRAIN this model on a down-stream task to be able to use it for predictions and inference.\n",
      "Epoch 1/3 - Training: 100%|██████████| 2658/2658 [04:55<00:00,  9.00it/s]\n"
     ]
    },
    {
     "name": "stdout",
     "output_type": "stream",
     "text": [
      "Epoch 1 - Avg Train Loss: 0.9414\n",
      "Epoch 1 - Val Loss: 0.6710, Val Accuracy: 0.7828\n"
     ]
    },
    {
     "name": "stderr",
     "output_type": "stream",
     "text": [
      "Epoch 2/3 - Training: 100%|██████████| 2658/2658 [04:55<00:00,  8.99it/s]\n"
     ]
    },
    {
     "name": "stdout",
     "output_type": "stream",
     "text": [
      "Epoch 2 - Avg Train Loss: 0.5868\n",
      "Epoch 2 - Val Loss: 0.5958, Val Accuracy: 0.8076\n"
     ]
    },
    {
     "name": "stderr",
     "output_type": "stream",
     "text": [
      "Epoch 3/3 - Training: 100%|██████████| 2658/2658 [04:55<00:00,  8.99it/s]\n"
     ]
    },
    {
     "name": "stdout",
     "output_type": "stream",
     "text": [
      "Epoch 3 - Avg Train Loss: 0.4693\n",
      "Epoch 3 - Val Loss: 0.5904, Val Accuracy: 0.8115\n",
      "\n",
      "Training BioBERT - Batch Size: 8, Learning Rate: 3e-05\n"
     ]
    },
    {
     "name": "stderr",
     "output_type": "stream",
     "text": [
      "Some weights of BertForSequenceClassification were not initialized from the model checkpoint at dmis-lab/biobert-base-cased-v1.2 and are newly initialized: ['classifier.bias', 'classifier.weight']\n",
      "You should probably TRAIN this model on a down-stream task to be able to use it for predictions and inference.\n",
      "Epoch 1/3 - Training: 100%|██████████| 2658/2658 [04:55<00:00,  9.00it/s]\n"
     ]
    },
    {
     "name": "stdout",
     "output_type": "stream",
     "text": [
      "Epoch 1 - Avg Train Loss: 0.9403\n",
      "Epoch 1 - Val Loss: 0.7366, Val Accuracy: 0.7640\n"
     ]
    },
    {
     "name": "stderr",
     "output_type": "stream",
     "text": [
      "Epoch 2/3 - Training: 100%|██████████| 2658/2658 [04:55<00:00,  8.99it/s]\n"
     ]
    },
    {
     "name": "stdout",
     "output_type": "stream",
     "text": [
      "Epoch 2 - Avg Train Loss: 0.6077\n",
      "Epoch 2 - Val Loss: 0.6064, Val Accuracy: 0.8039\n"
     ]
    },
    {
     "name": "stderr",
     "output_type": "stream",
     "text": [
      "Epoch 3/3 - Training: 100%|██████████| 2658/2658 [04:56<00:00,  8.98it/s]\n"
     ]
    },
    {
     "name": "stdout",
     "output_type": "stream",
     "text": [
      "Epoch 3 - Avg Train Loss: 0.5165\n",
      "Epoch 3 - Val Loss: 0.6457, Val Accuracy: 0.7927\n",
      "\n",
      "Training BioBERT - Batch Size: 16, Learning Rate: 1e-05\n"
     ]
    },
    {
     "name": "stderr",
     "output_type": "stream",
     "text": [
      "Some weights of BertForSequenceClassification were not initialized from the model checkpoint at dmis-lab/biobert-base-cased-v1.2 and are newly initialized: ['classifier.bias', 'classifier.weight']\n",
      "You should probably TRAIN this model on a down-stream task to be able to use it for predictions and inference.\n",
      "Epoch 1/3 - Training: 100%|██████████| 1329/1329 [04:32<00:00,  4.89it/s]\n"
     ]
    },
    {
     "name": "stdout",
     "output_type": "stream",
     "text": [
      "Epoch 1 - Avg Train Loss: 1.1070\n",
      "Epoch 1 - Val Loss: 0.6723, Val Accuracy: 0.7825\n"
     ]
    },
    {
     "name": "stderr",
     "output_type": "stream",
     "text": [
      "Epoch 2/3 - Training: 100%|██████████| 1329/1329 [04:32<00:00,  4.89it/s]\n"
     ]
    },
    {
     "name": "stdout",
     "output_type": "stream",
     "text": [
      "Epoch 2 - Avg Train Loss: 0.6061\n",
      "Epoch 2 - Val Loss: 0.5944, Val Accuracy: 0.8076\n"
     ]
    },
    {
     "name": "stderr",
     "output_type": "stream",
     "text": [
      "Epoch 3/3 - Training: 100%|██████████| 1329/1329 [04:32<00:00,  4.88it/s]\n"
     ]
    },
    {
     "name": "stdout",
     "output_type": "stream",
     "text": [
      "Epoch 3 - Avg Train Loss: 0.4942\n",
      "Epoch 3 - Val Loss: 0.5826, Val Accuracy: 0.8125\n",
      "\n",
      "Training BioBERT - Batch Size: 16, Learning Rate: 2e-05\n"
     ]
    },
    {
     "name": "stderr",
     "output_type": "stream",
     "text": [
      "Some weights of BertForSequenceClassification were not initialized from the model checkpoint at dmis-lab/biobert-base-cased-v1.2 and are newly initialized: ['classifier.bias', 'classifier.weight']\n",
      "You should probably TRAIN this model on a down-stream task to be able to use it for predictions and inference.\n",
      "Epoch 1/3 - Training: 100%|██████████| 1329/1329 [04:31<00:00,  4.89it/s]\n"
     ]
    },
    {
     "name": "stdout",
     "output_type": "stream",
     "text": [
      "Epoch 1 - Avg Train Loss: 0.9146\n",
      "Epoch 1 - Val Loss: 0.6483, Val Accuracy: 0.7890\n"
     ]
    },
    {
     "name": "stderr",
     "output_type": "stream",
     "text": [
      "Epoch 2/3 - Training: 100%|██████████| 1329/1329 [04:31<00:00,  4.89it/s]\n"
     ]
    },
    {
     "name": "stdout",
     "output_type": "stream",
     "text": [
      "Epoch 2 - Avg Train Loss: 0.5559\n",
      "Epoch 2 - Val Loss: 0.5859, Val Accuracy: 0.8094\n"
     ]
    },
    {
     "name": "stderr",
     "output_type": "stream",
     "text": [
      "Epoch 3/3 - Training: 100%|██████████| 1329/1329 [04:32<00:00,  4.88it/s]\n"
     ]
    },
    {
     "name": "stdout",
     "output_type": "stream",
     "text": [
      "Epoch 3 - Avg Train Loss: 0.4516\n",
      "Epoch 3 - Val Loss: 0.5646, Val Accuracy: 0.8188\n",
      "\n",
      "Training BioBERT - Batch Size: 16, Learning Rate: 3e-05\n"
     ]
    },
    {
     "name": "stderr",
     "output_type": "stream",
     "text": [
      "Some weights of BertForSequenceClassification were not initialized from the model checkpoint at dmis-lab/biobert-base-cased-v1.2 and are newly initialized: ['classifier.bias', 'classifier.weight']\n",
      "You should probably TRAIN this model on a down-stream task to be able to use it for predictions and inference.\n",
      "Epoch 1/3 - Training: 100%|██████████| 1329/1329 [04:31<00:00,  4.89it/s]\n"
     ]
    },
    {
     "name": "stdout",
     "output_type": "stream",
     "text": [
      "Epoch 1 - Avg Train Loss: 0.9121\n",
      "Epoch 1 - Val Loss: 0.6589, Val Accuracy: 0.7809\n"
     ]
    },
    {
     "name": "stderr",
     "output_type": "stream",
     "text": [
      "Epoch 2/3 - Training: 100%|██████████| 1329/1329 [04:31<00:00,  4.89it/s]\n"
     ]
    },
    {
     "name": "stdout",
     "output_type": "stream",
     "text": [
      "Epoch 2 - Avg Train Loss: 0.5673\n",
      "Epoch 2 - Val Loss: 0.6212, Val Accuracy: 0.7995\n"
     ]
    },
    {
     "name": "stderr",
     "output_type": "stream",
     "text": [
      "Epoch 3/3 - Training: 100%|██████████| 1329/1329 [04:31<00:00,  4.89it/s]\n"
     ]
    },
    {
     "name": "stdout",
     "output_type": "stream",
     "text": [
      "Epoch 3 - Avg Train Loss: 0.4587\n",
      "Epoch 3 - Val Loss: 0.5802, Val Accuracy: 0.8130\n",
      "\n",
      "Training BioBERT - Batch Size: 32, Learning Rate: 1e-05\n"
     ]
    },
    {
     "name": "stderr",
     "output_type": "stream",
     "text": [
      "Some weights of BertForSequenceClassification were not initialized from the model checkpoint at dmis-lab/biobert-base-cased-v1.2 and are newly initialized: ['classifier.bias', 'classifier.weight']\n",
      "You should probably TRAIN this model on a down-stream task to be able to use it for predictions and inference.\n",
      "Epoch 1/3 - Training: 100%|██████████| 665/665 [04:12<00:00,  2.63it/s]\n"
     ]
    },
    {
     "name": "stdout",
     "output_type": "stream",
     "text": [
      "Epoch 1 - Avg Train Loss: 1.2597\n",
      "Epoch 1 - Val Loss: 0.7252, Val Accuracy: 0.7686\n"
     ]
    },
    {
     "name": "stderr",
     "output_type": "stream",
     "text": [
      "Epoch 2/3 - Training: 100%|██████████| 665/665 [04:12<00:00,  2.63it/s]\n"
     ]
    },
    {
     "name": "stdout",
     "output_type": "stream",
     "text": [
      "Epoch 2 - Avg Train Loss: 0.6541\n",
      "Epoch 2 - Val Loss: 0.6368, Val Accuracy: 0.7915\n"
     ]
    },
    {
     "name": "stderr",
     "output_type": "stream",
     "text": [
      "Epoch 3/3 - Training: 100%|██████████| 665/665 [04:12<00:00,  2.63it/s]\n"
     ]
    },
    {
     "name": "stdout",
     "output_type": "stream",
     "text": [
      "Epoch 3 - Avg Train Loss: 0.5480\n",
      "Epoch 3 - Val Loss: 0.6056, Val Accuracy: 0.8026\n",
      "\n",
      "Training BioBERT - Batch Size: 32, Learning Rate: 2e-05\n"
     ]
    },
    {
     "name": "stderr",
     "output_type": "stream",
     "text": [
      "Some weights of BertForSequenceClassification were not initialized from the model checkpoint at dmis-lab/biobert-base-cased-v1.2 and are newly initialized: ['classifier.bias', 'classifier.weight']\n",
      "You should probably TRAIN this model on a down-stream task to be able to use it for predictions and inference.\n",
      "Epoch 1/3 - Training: 100%|██████████| 665/665 [04:12<00:00,  2.63it/s]\n"
     ]
    },
    {
     "name": "stdout",
     "output_type": "stream",
     "text": [
      "Epoch 1 - Avg Train Loss: 1.0402\n",
      "Epoch 1 - Val Loss: 0.6839, Val Accuracy: 0.7767\n"
     ]
    },
    {
     "name": "stderr",
     "output_type": "stream",
     "text": [
      "Epoch 2/3 - Training: 100%|██████████| 665/665 [04:12<00:00,  2.64it/s]\n"
     ]
    },
    {
     "name": "stdout",
     "output_type": "stream",
     "text": [
      "Epoch 2 - Avg Train Loss: 0.5770\n",
      "Epoch 2 - Val Loss: 0.5945, Val Accuracy: 0.8065\n"
     ]
    },
    {
     "name": "stderr",
     "output_type": "stream",
     "text": [
      "Epoch 3/3 - Training: 100%|██████████| 665/665 [04:12<00:00,  2.63it/s]\n"
     ]
    },
    {
     "name": "stdout",
     "output_type": "stream",
     "text": [
      "Epoch 3 - Avg Train Loss: 0.4715\n",
      "Epoch 3 - Val Loss: 0.5682, Val Accuracy: 0.8163\n",
      "\n",
      "Training BioBERT - Batch Size: 32, Learning Rate: 3e-05\n"
     ]
    },
    {
     "name": "stderr",
     "output_type": "stream",
     "text": [
      "Some weights of BertForSequenceClassification were not initialized from the model checkpoint at dmis-lab/biobert-base-cased-v1.2 and are newly initialized: ['classifier.bias', 'classifier.weight']\n",
      "You should probably TRAIN this model on a down-stream task to be able to use it for predictions and inference.\n",
      "Epoch 1/3 - Training: 100%|██████████| 665/665 [04:12<00:00,  2.63it/s]\n"
     ]
    },
    {
     "name": "stdout",
     "output_type": "stream",
     "text": [
      "Epoch 1 - Avg Train Loss: 0.9766\n",
      "Epoch 1 - Val Loss: 0.6634, Val Accuracy: 0.7784\n"
     ]
    },
    {
     "name": "stderr",
     "output_type": "stream",
     "text": [
      "Epoch 2/3 - Training: 100%|██████████| 665/665 [04:12<00:00,  2.63it/s]\n"
     ]
    },
    {
     "name": "stdout",
     "output_type": "stream",
     "text": [
      "Epoch 2 - Avg Train Loss: 0.5808\n",
      "Epoch 2 - Val Loss: 0.5864, Val Accuracy: 0.8059\n"
     ]
    },
    {
     "name": "stderr",
     "output_type": "stream",
     "text": [
      "Epoch 3/3 - Training: 100%|██████████| 665/665 [04:12<00:00,  2.63it/s]\n"
     ]
    },
    {
     "name": "stdout",
     "output_type": "stream",
     "text": [
      "Epoch 3 - Avg Train Loss: 0.4652\n",
      "Epoch 3 - Val Loss: 0.5703, Val Accuracy: 0.8128\n"
     ]
    }
   ],
   "source": [
    "# BioBERT Training\n",
    "print(\"\\n=== Training BioBERT Model ===\")\n",
    "biobert_results = []\n",
    "for batch_size in batch_sizes:\n",
    "    for lr in learning_rates:\n",
    "        print(f\"\\nTraining BioBERT - Batch Size: {batch_size}, Learning Rate: {lr}\")\n",
    "        train_loader = DataLoader(biobert_train_dataset, batch_size=batch_size, shuffle=True)\n",
    "        val_loader = DataLoader(biobert_val_dataset, batch_size=batch_size)\n",
    "        \n",
    "        model = AutoModelForSequenceClassification.from_pretrained('dmis-lab/biobert-base-cased-v1.2', num_labels=8)\n",
    "        trained_model, duration = train_model(model, train_loader, val_loader, lr)\n",
    "        acc, precision, recall, f1, preds, labels = evaluate_model(trained_model, val_loader)\n",
    "        \n",
    "        biobert_results.append({\n",
    "            \"Batch Size\": batch_size,\n",
    "            \"Learning Rate\": lr,\n",
    "            \"Accuracy\": acc,\n",
    "            \"Precision\": precision,\n",
    "            \"Recall\": recall,\n",
    "            \"F1\": f1,\n",
    "            \"Duration (min)\": duration,\n",
    "            \"Preds\": preds,\n",
    "            \"Labels\": labels\n",
    "        })"
   ]
  },
  {
   "cell_type": "code",
   "execution_count": 11,
   "id": "da0e79bc-8707-4ba6-b92d-2a5cf6b077c6",
   "metadata": {},
   "outputs": [
    {
     "name": "stdout",
     "output_type": "stream",
     "text": [
      "\n",
      "BioBERT Results Summary:\n"
     ]
    },
    {
     "data": {
      "text/html": [
       "<div>\n",
       "<style scoped>\n",
       "    .dataframe tbody tr th:only-of-type {\n",
       "        vertical-align: middle;\n",
       "    }\n",
       "\n",
       "    .dataframe tbody tr th {\n",
       "        vertical-align: top;\n",
       "    }\n",
       "\n",
       "    .dataframe thead th {\n",
       "        text-align: right;\n",
       "    }\n",
       "</style>\n",
       "<table border=\"1\" class=\"dataframe\">\n",
       "  <thead>\n",
       "    <tr style=\"text-align: right;\">\n",
       "      <th></th>\n",
       "      <th>Batch Size</th>\n",
       "      <th>Learning Rate</th>\n",
       "      <th>Accuracy</th>\n",
       "      <th>Precision</th>\n",
       "      <th>Recall</th>\n",
       "      <th>F1</th>\n",
       "      <th>Duration (min)</th>\n",
       "    </tr>\n",
       "  </thead>\n",
       "  <tbody>\n",
       "    <tr>\n",
       "      <th>0</th>\n",
       "      <td>8</td>\n",
       "      <td>0.00001</td>\n",
       "      <td>0.811698</td>\n",
       "      <td>0.824204</td>\n",
       "      <td>0.811698</td>\n",
       "      <td>0.814577</td>\n",
       "      <td>16.790408</td>\n",
       "    </tr>\n",
       "    <tr>\n",
       "      <th>1</th>\n",
       "      <td>8</td>\n",
       "      <td>0.00002</td>\n",
       "      <td>0.811478</td>\n",
       "      <td>0.815889</td>\n",
       "      <td>0.811478</td>\n",
       "      <td>0.811072</td>\n",
       "      <td>16.796301</td>\n",
       "    </tr>\n",
       "    <tr>\n",
       "      <th>2</th>\n",
       "      <td>8</td>\n",
       "      <td>0.00003</td>\n",
       "      <td>0.792714</td>\n",
       "      <td>0.806222</td>\n",
       "      <td>0.792714</td>\n",
       "      <td>0.794529</td>\n",
       "      <td>16.803300</td>\n",
       "    </tr>\n",
       "    <tr>\n",
       "      <th>3</th>\n",
       "      <td>16</td>\n",
       "      <td>0.00001</td>\n",
       "      <td>0.812466</td>\n",
       "      <td>0.825800</td>\n",
       "      <td>0.812466</td>\n",
       "      <td>0.814096</td>\n",
       "      <td>15.548395</td>\n",
       "    </tr>\n",
       "    <tr>\n",
       "      <th>4</th>\n",
       "      <td>16</td>\n",
       "      <td>0.00002</td>\n",
       "      <td>0.818830</td>\n",
       "      <td>0.828712</td>\n",
       "      <td>0.818830</td>\n",
       "      <td>0.820618</td>\n",
       "      <td>15.544125</td>\n",
       "    </tr>\n",
       "    <tr>\n",
       "      <th>5</th>\n",
       "      <td>16</td>\n",
       "      <td>0.00003</td>\n",
       "      <td>0.813014</td>\n",
       "      <td>0.822108</td>\n",
       "      <td>0.813014</td>\n",
       "      <td>0.814565</td>\n",
       "      <td>15.542917</td>\n",
       "    </tr>\n",
       "    <tr>\n",
       "      <th>6</th>\n",
       "      <td>32</td>\n",
       "      <td>0.00001</td>\n",
       "      <td>0.802590</td>\n",
       "      <td>0.805523</td>\n",
       "      <td>0.802590</td>\n",
       "      <td>0.802012</td>\n",
       "      <td>14.541755</td>\n",
       "    </tr>\n",
       "    <tr>\n",
       "      <th>7</th>\n",
       "      <td>32</td>\n",
       "      <td>0.00002</td>\n",
       "      <td>0.816306</td>\n",
       "      <td>0.824373</td>\n",
       "      <td>0.816306</td>\n",
       "      <td>0.817228</td>\n",
       "      <td>14.524847</td>\n",
       "    </tr>\n",
       "    <tr>\n",
       "      <th>8</th>\n",
       "      <td>32</td>\n",
       "      <td>0.00003</td>\n",
       "      <td>0.812795</td>\n",
       "      <td>0.823270</td>\n",
       "      <td>0.812795</td>\n",
       "      <td>0.814626</td>\n",
       "      <td>14.522885</td>\n",
       "    </tr>\n",
       "  </tbody>\n",
       "</table>\n",
       "</div>"
      ],
      "text/plain": [
       "   Batch Size  Learning Rate  Accuracy  Precision    Recall        F1  \\\n",
       "0           8        0.00001  0.811698   0.824204  0.811698  0.814577   \n",
       "1           8        0.00002  0.811478   0.815889  0.811478  0.811072   \n",
       "2           8        0.00003  0.792714   0.806222  0.792714  0.794529   \n",
       "3          16        0.00001  0.812466   0.825800  0.812466  0.814096   \n",
       "4          16        0.00002  0.818830   0.828712  0.818830  0.820618   \n",
       "5          16        0.00003  0.813014   0.822108  0.813014  0.814565   \n",
       "6          32        0.00001  0.802590   0.805523  0.802590  0.802012   \n",
       "7          32        0.00002  0.816306   0.824373  0.816306  0.817228   \n",
       "8          32        0.00003  0.812795   0.823270  0.812795  0.814626   \n",
       "\n",
       "   Duration (min)  \n",
       "0       16.790408  \n",
       "1       16.796301  \n",
       "2       16.803300  \n",
       "3       15.548395  \n",
       "4       15.544125  \n",
       "5       15.542917  \n",
       "6       14.541755  \n",
       "7       14.524847  \n",
       "8       14.522885  "
      ]
     },
     "execution_count": 11,
     "metadata": {},
     "output_type": "execute_result"
    }
   ],
   "source": [
    "# BioBERT Results\n",
    "biobert_df = pd.DataFrame(biobert_results).drop(columns=[\"Preds\", \"Labels\"])\n",
    "print(\"\\nBioBERT Results Summary:\")\n",
    "biobert_df"
   ]
  },
  {
   "cell_type": "code",
   "execution_count": 12,
   "id": "6141fe9d-e9f5-43f6-8d07-88df392caf64",
   "metadata": {},
   "outputs": [
    {
     "name": "stdout",
     "output_type": "stream",
     "text": [
      "\n",
      "Best BioBERT Configuration: Batch Size 16.0, Learning Rate 2e-05\n",
      "Accuracy: 0.8188, Precision: 0.8287, Recall: 0.8188, F1: 0.8206\n"
     ]
    }
   ],
   "source": [
    "# Best BioBERT Configuration\n",
    "best_biobert_config = biobert_df.loc[biobert_df[\"F1\"].idxmax()]\n",
    "print(f\"\\nBest BioBERT Configuration: Batch Size {best_biobert_config['Batch Size']}, Learning Rate {best_biobert_config['Learning Rate']}\")\n",
    "print(f\"Accuracy: {best_biobert_config['Accuracy']:.4f}, Precision: {best_biobert_config['Precision']:.4f}, Recall: {best_biobert_config['Recall']:.4f}, F1: {best_biobert_config['F1']:.4f}\")"
   ]
  },
  {
   "cell_type": "code",
   "execution_count": 13,
   "id": "e7e4e9f6-6962-44c8-aeed-d8ff2a3b0155",
   "metadata": {},
   "outputs": [],
   "source": [
    "best_biobert_idx = biobert_df[\"F1\"].idxmax()\n",
    "best_biobert_preds = biobert_results[best_biobert_idx][\"Preds\"]\n",
    "best_biobert_labels = biobert_results[best_biobert_idx][\"Labels\"]"
   ]
  },
  {
   "cell_type": "code",
   "execution_count": 14,
   "id": "ba628190-2be4-4221-8055-d863363893b3",
   "metadata": {},
   "outputs": [
    {
     "data": {
      "image/png": "[encoded data removed]",
      "text/plain": [
       "<Figure size 1000x800 with 2 Axes>"
      ]
     },
     "metadata": {},
     "output_type": "display_data"
    }
   ],
   "source": [
    "# BioBERT Confusion Matrix\n",
    "cm_biobert = confusion_matrix(best_biobert_labels, best_biobert_preds)\n",
    "plt.figure(figsize=(10, 8))\n",
    "sns.heatmap(cm_biobert, annot=True, fmt=\"d\", cmap=\"Blues\", xticklabels=label_names, yticklabels=label_names)\n",
    "plt.title(\"Confusion Matrix - Best BioBERT Configuration\")\n",
    "plt.xlabel(\"Predicted\")\n",
    "plt.ylabel(\"True\")\n",
    "plt.xticks(rotation=45, ha='right')\n",
    "plt.yticks(rotation=0)\n",
    "plt.tight_layout()\n",
    "plt.show()"
   ]
  },
  {
   "cell_type": "code",
   "execution_count": 15,
   "id": "0a116c86-a660-42ff-ae66-ae2a82d2b0d2",
   "metadata": {},
   "outputs": [
    {
     "name": "stdout",
     "output_type": "stream",
     "text": [
      "\n",
      "Classification Report for Best BioBERT Configuration:\n",
      "              precision    recall  f1-score   support\n",
      "\n",
      "        adhd      0.879     0.873     0.876      1265\n",
      "     anxiety      0.834     0.803     0.818      1188\n",
      "     bipolar      0.661     0.846     0.742      1073\n",
      "         bpd      0.872     0.719     0.788      1233\n",
      "  depression      0.708     0.811     0.756      1066\n",
      "         ocd      0.906     0.848     0.876      1042\n",
      "        ptsd      0.877     0.795     0.834      1178\n",
      "        none      0.873     0.865     0.869      1068\n",
      "\n",
      "    accuracy                          0.819      9113\n",
      "   macro avg      0.826     0.820     0.820      9113\n",
      "weighted avg      0.829     0.819     0.821      9113\n",
      "\n"
     ]
    }
   ],
   "source": [
    "# BioBERT Classification Report\n",
    "print(\"\\nClassification Report for Best BioBERT Configuration:\")\n",
    "print(classification_report(best_biobert_labels, best_biobert_preds, target_names=label_names, digits=3))"
   ]
  },
  {
   "cell_type": "code",
   "execution_count": 16,
   "id": "f5e12e64-4a5c-4ed1-8112-ff6415a6643b",
   "metadata": {},
   "outputs": [
    {
     "name": "stdout",
     "output_type": "stream",
     "text": [
      "\n",
      "=== Training ClinicalBERT Model ===\n",
      "\n",
      "Training ClinicalBERT - Batch Size: 8, Learning Rate: 1e-05\n"
     ]
    },
    {
     "data": {
      "application/vnd.jupyter.widget-view+json": {
       "model_id": "5668341daff44dffa6ea635e84de59a8",
       "version_major": 2,
       "version_minor": 0
      },
      "text/plain": [
       "pytorch_model.bin:   0%|          | 0.00/542M [00:00<?, ?B/s]"
      ]
     },
     "metadata": {},
     "output_type": "display_data"
    },
    {
     "name": "stderr",
     "output_type": "stream",
     "text": [
      "Some weights of DistilBertForSequenceClassification were not initialized from the model checkpoint at medicalai/ClinicalBERT and are newly initialized: ['classifier.bias', 'classifier.weight', 'pre_classifier.bias', 'pre_classifier.weight']\n",
      "You should probably TRAIN this model on a down-stream task to be able to use it for predictions and inference.\n",
      "Epoch 1/3 - Training:   1%|          | 19/2658 [00:01<02:39, 16.55it/s]"
     ]
    },
    {
     "data": {
      "application/vnd.jupyter.widget-view+json": {
       "model_id": "95fbe1f97f37476fbb4d644f721ef101",
       "version_major": 2,
       "version_minor": 0
      },
      "text/plain": [
       "model.safetensors:   0%|          | 0.00/542M [00:00<?, ?B/s]"
      ]
     },
     "metadata": {},
     "output_type": "display_data"
    },
    {
     "name": "stderr",
     "output_type": "stream",
     "text": [
      "Epoch 1/3 - Training: 100%|██████████| 2658/2658 [02:39<00:00, 16.65it/s]\n"
     ]
    },
    {
     "name": "stdout",
     "output_type": "stream",
     "text": [
      "Epoch 1 - Avg Train Loss: 1.1207\n",
      "Epoch 1 - Val Loss: 0.7212, Val Accuracy: 0.7687\n"
     ]
    },
    {
     "name": "stderr",
     "output_type": "stream",
     "text": [
      "Epoch 2/3 - Training: 100%|██████████| 2658/2658 [02:40<00:00, 16.61it/s]\n"
     ]
    },
    {
     "name": "stdout",
     "output_type": "stream",
     "text": [
      "Epoch 2 - Avg Train Loss: 0.6575\n",
      "Epoch 2 - Val Loss: 0.6409, Val Accuracy: 0.7896\n"
     ]
    },
    {
     "name": "stderr",
     "output_type": "stream",
     "text": [
      "Epoch 3/3 - Training: 100%|██████████| 2658/2658 [02:40<00:00, 16.60it/s]\n"
     ]
    },
    {
     "name": "stdout",
     "output_type": "stream",
     "text": [
      "Epoch 3 - Avg Train Loss: 0.5606\n",
      "Epoch 3 - Val Loss: 0.6308, Val Accuracy: 0.7914\n",
      "\n",
      "Training ClinicalBERT - Batch Size: 8, Learning Rate: 2e-05\n"
     ]
    },
    {
     "name": "stderr",
     "output_type": "stream",
     "text": [
      "Some weights of DistilBertForSequenceClassification were not initialized from the model checkpoint at medicalai/ClinicalBERT and are newly initialized: ['classifier.bias', 'classifier.weight', 'pre_classifier.bias', 'pre_classifier.weight']\n",
      "You should probably TRAIN this model on a down-stream task to be able to use it for predictions and inference.\n",
      "Epoch 1/3 - Training: 100%|██████████| 2658/2658 [02:40<00:00, 16.59it/s]\n"
     ]
    },
    {
     "name": "stdout",
     "output_type": "stream",
     "text": [
      "Epoch 1 - Avg Train Loss: 0.9764\n",
      "Epoch 1 - Val Loss: 0.6881, Val Accuracy: 0.7788\n"
     ]
    },
    {
     "name": "stderr",
     "output_type": "stream",
     "text": [
      "Epoch 2/3 - Training: 100%|██████████| 2658/2658 [02:40<00:00, 16.59it/s]\n"
     ]
    },
    {
     "name": "stdout",
     "output_type": "stream",
     "text": [
      "Epoch 2 - Avg Train Loss: 0.6241\n",
      "Epoch 2 - Val Loss: 0.6349, Val Accuracy: 0.7956\n"
     ]
    },
    {
     "name": "stderr",
     "output_type": "stream",
     "text": [
      "Epoch 3/3 - Training: 100%|██████████| 2658/2658 [02:40<00:00, 16.58it/s]\n"
     ]
    },
    {
     "name": "stdout",
     "output_type": "stream",
     "text": [
      "Epoch 3 - Avg Train Loss: 0.5260\n",
      "Epoch 3 - Val Loss: 0.6305, Val Accuracy: 0.7961\n",
      "\n",
      "Training ClinicalBERT - Batch Size: 8, Learning Rate: 3e-05\n"
     ]
    },
    {
     "name": "stderr",
     "output_type": "stream",
     "text": [
      "Some weights of DistilBertForSequenceClassification were not initialized from the model checkpoint at medicalai/ClinicalBERT and are newly initialized: ['classifier.bias', 'classifier.weight', 'pre_classifier.bias', 'pre_classifier.weight']\n",
      "You should probably TRAIN this model on a down-stream task to be able to use it for predictions and inference.\n",
      "Epoch 1/3 - Training: 100%|██████████| 2658/2658 [02:40<00:00, 16.57it/s]\n"
     ]
    },
    {
     "name": "stdout",
     "output_type": "stream",
     "text": [
      "Epoch 1 - Avg Train Loss: 1.1045\n",
      "Epoch 1 - Val Loss: 0.7434, Val Accuracy: 0.7597\n"
     ]
    },
    {
     "name": "stderr",
     "output_type": "stream",
     "text": [
      "Epoch 2/3 - Training: 100%|██████████| 2658/2658 [02:40<00:00, 16.59it/s]\n"
     ]
    },
    {
     "name": "stdout",
     "output_type": "stream",
     "text": [
      "Epoch 2 - Avg Train Loss: 0.6467\n",
      "Epoch 2 - Val Loss: 0.6508, Val Accuracy: 0.7899\n"
     ]
    },
    {
     "name": "stderr",
     "output_type": "stream",
     "text": [
      "Epoch 3/3 - Training: 100%|██████████| 2658/2658 [02:40<00:00, 16.59it/s]\n"
     ]
    },
    {
     "name": "stdout",
     "output_type": "stream",
     "text": [
      "Epoch 3 - Avg Train Loss: 0.5365\n",
      "Epoch 3 - Val Loss: 0.6490, Val Accuracy: 0.7916\n",
      "\n",
      "Training ClinicalBERT - Batch Size: 16, Learning Rate: 1e-05\n"
     ]
    },
    {
     "name": "stderr",
     "output_type": "stream",
     "text": [
      "Some weights of DistilBertForSequenceClassification were not initialized from the model checkpoint at medicalai/ClinicalBERT and are newly initialized: ['classifier.bias', 'classifier.weight', 'pre_classifier.bias', 'pre_classifier.weight']\n",
      "You should probably TRAIN this model on a down-stream task to be able to use it for predictions and inference.\n",
      "Epoch 1/3 - Training: 100%|██████████| 1329/1329 [02:22<00:00,  9.31it/s]\n"
     ]
    },
    {
     "name": "stdout",
     "output_type": "stream",
     "text": [
      "Epoch 1 - Avg Train Loss: 1.1801\n",
      "Epoch 1 - Val Loss: 0.7623, Val Accuracy: 0.7532\n"
     ]
    },
    {
     "name": "stderr",
     "output_type": "stream",
     "text": [
      "Epoch 2/3 - Training: 100%|██████████| 1329/1329 [02:22<00:00,  9.31it/s]\n"
     ]
    },
    {
     "name": "stdout",
     "output_type": "stream",
     "text": [
      "Epoch 2 - Avg Train Loss: 0.7014\n",
      "Epoch 2 - Val Loss: 0.6878, Val Accuracy: 0.7772\n"
     ]
    },
    {
     "name": "stderr",
     "output_type": "stream",
     "text": [
      "Epoch 3/3 - Training: 100%|██████████| 1329/1329 [02:22<00:00,  9.30it/s]\n"
     ]
    },
    {
     "name": "stdout",
     "output_type": "stream",
     "text": [
      "Epoch 3 - Avg Train Loss: 0.6004\n",
      "Epoch 3 - Val Loss: 0.6689, Val Accuracy: 0.7851\n",
      "\n",
      "Training ClinicalBERT - Batch Size: 16, Learning Rate: 2e-05\n"
     ]
    },
    {
     "name": "stderr",
     "output_type": "stream",
     "text": [
      "Some weights of DistilBertForSequenceClassification were not initialized from the model checkpoint at medicalai/ClinicalBERT and are newly initialized: ['classifier.bias', 'classifier.weight', 'pre_classifier.bias', 'pre_classifier.weight']\n",
      "You should probably TRAIN this model on a down-stream task to be able to use it for predictions and inference.\n",
      "Epoch 1/3 - Training: 100%|██████████| 1329/1329 [02:22<00:00,  9.31it/s]\n"
     ]
    },
    {
     "name": "stdout",
     "output_type": "stream",
     "text": [
      "Epoch 1 - Avg Train Loss: 1.0894\n",
      "Epoch 1 - Val Loss: 0.7355, Val Accuracy: 0.7611\n"
     ]
    },
    {
     "name": "stderr",
     "output_type": "stream",
     "text": [
      "Epoch 2/3 - Training: 100%|██████████| 1329/1329 [02:22<00:00,  9.30it/s]\n"
     ]
    },
    {
     "name": "stdout",
     "output_type": "stream",
     "text": [
      "Epoch 2 - Avg Train Loss: 0.6451\n",
      "Epoch 2 - Val Loss: 0.6754, Val Accuracy: 0.7823\n"
     ]
    },
    {
     "name": "stderr",
     "output_type": "stream",
     "text": [
      "Epoch 3/3 - Training: 100%|██████████| 1329/1329 [02:22<00:00,  9.30it/s]\n"
     ]
    },
    {
     "name": "stdout",
     "output_type": "stream",
     "text": [
      "Epoch 3 - Avg Train Loss: 0.5394\n",
      "Epoch 3 - Val Loss: 0.6116, Val Accuracy: 0.8002\n",
      "\n",
      "Training ClinicalBERT - Batch Size: 16, Learning Rate: 3e-05\n"
     ]
    },
    {
     "name": "stderr",
     "output_type": "stream",
     "text": [
      "Some weights of DistilBertForSequenceClassification were not initialized from the model checkpoint at medicalai/ClinicalBERT and are newly initialized: ['classifier.bias', 'classifier.weight', 'pre_classifier.bias', 'pre_classifier.weight']\n",
      "You should probably TRAIN this model on a down-stream task to be able to use it for predictions and inference.\n",
      "Epoch 1/3 - Training: 100%|██████████| 1329/1329 [02:22<00:00,  9.31it/s]\n"
     ]
    },
    {
     "name": "stdout",
     "output_type": "stream",
     "text": [
      "Epoch 1 - Avg Train Loss: 1.0301\n",
      "Epoch 1 - Val Loss: 0.7106, Val Accuracy: 0.7726\n"
     ]
    },
    {
     "name": "stderr",
     "output_type": "stream",
     "text": [
      "Epoch 2/3 - Training: 100%|██████████| 1329/1329 [02:22<00:00,  9.31it/s]\n"
     ]
    },
    {
     "name": "stdout",
     "output_type": "stream",
     "text": [
      "Epoch 2 - Avg Train Loss: 0.6338\n",
      "Epoch 2 - Val Loss: 0.6327, Val Accuracy: 0.7950\n"
     ]
    },
    {
     "name": "stderr",
     "output_type": "stream",
     "text": [
      "Epoch 3/3 - Training: 100%|██████████| 1329/1329 [02:22<00:00,  9.31it/s]\n"
     ]
    },
    {
     "name": "stdout",
     "output_type": "stream",
     "text": [
      "Epoch 3 - Avg Train Loss: 0.5217\n",
      "Epoch 3 - Val Loss: 0.6242, Val Accuracy: 0.8034\n",
      "\n",
      "Training ClinicalBERT - Batch Size: 32, Learning Rate: 1e-05\n"
     ]
    },
    {
     "name": "stderr",
     "output_type": "stream",
     "text": [
      "Some weights of DistilBertForSequenceClassification were not initialized from the model checkpoint at medicalai/ClinicalBERT and are newly initialized: ['classifier.bias', 'classifier.weight', 'pre_classifier.bias', 'pre_classifier.weight']\n",
      "You should probably TRAIN this model on a down-stream task to be able to use it for predictions and inference.\n",
      "Epoch 1/3 - Training: 100%|██████████| 665/665 [02:10<00:00,  5.10it/s]\n"
     ]
    },
    {
     "name": "stdout",
     "output_type": "stream",
     "text": [
      "Epoch 1 - Avg Train Loss: 1.4056\n",
      "Epoch 1 - Val Loss: 0.8261, Val Accuracy: 0.7402\n"
     ]
    },
    {
     "name": "stderr",
     "output_type": "stream",
     "text": [
      "Epoch 2/3 - Training: 100%|██████████| 665/665 [02:10<00:00,  5.10it/s]\n"
     ]
    },
    {
     "name": "stdout",
     "output_type": "stream",
     "text": [
      "Epoch 2 - Avg Train Loss: 0.7470\n",
      "Epoch 2 - Val Loss: 0.6953, Val Accuracy: 0.7756\n"
     ]
    },
    {
     "name": "stderr",
     "output_type": "stream",
     "text": [
      "Epoch 3/3 - Training: 100%|██████████| 665/665 [02:10<00:00,  5.10it/s]\n"
     ]
    },
    {
     "name": "stdout",
     "output_type": "stream",
     "text": [
      "Epoch 3 - Avg Train Loss: 0.6349\n",
      "Epoch 3 - Val Loss: 0.6530, Val Accuracy: 0.7884\n",
      "\n",
      "Training ClinicalBERT - Batch Size: 32, Learning Rate: 2e-05\n"
     ]
    },
    {
     "name": "stderr",
     "output_type": "stream",
     "text": [
      "Some weights of DistilBertForSequenceClassification were not initialized from the model checkpoint at medicalai/ClinicalBERT and are newly initialized: ['classifier.bias', 'classifier.weight', 'pre_classifier.bias', 'pre_classifier.weight']\n",
      "You should probably TRAIN this model on a down-stream task to be able to use it for predictions and inference.\n",
      "Epoch 1/3 - Training: 100%|██████████| 665/665 [02:10<00:00,  5.11it/s]\n"
     ]
    },
    {
     "name": "stdout",
     "output_type": "stream",
     "text": [
      "Epoch 1 - Avg Train Loss: 1.1661\n",
      "Epoch 1 - Val Loss: 0.7506, Val Accuracy: 0.7576\n"
     ]
    },
    {
     "name": "stderr",
     "output_type": "stream",
     "text": [
      "Epoch 2/3 - Training: 100%|██████████| 665/665 [02:10<00:00,  5.11it/s]\n"
     ]
    },
    {
     "name": "stdout",
     "output_type": "stream",
     "text": [
      "Epoch 2 - Avg Train Loss: 0.6823\n",
      "Epoch 2 - Val Loss: 0.6547, Val Accuracy: 0.7824\n"
     ]
    },
    {
     "name": "stderr",
     "output_type": "stream",
     "text": [
      "Epoch 3/3 - Training: 100%|██████████| 665/665 [02:10<00:00,  5.11it/s]\n"
     ]
    },
    {
     "name": "stdout",
     "output_type": "stream",
     "text": [
      "Epoch 3 - Avg Train Loss: 0.5694\n",
      "Epoch 3 - Val Loss: 0.6190, Val Accuracy: 0.7980\n",
      "\n",
      "Training ClinicalBERT - Batch Size: 32, Learning Rate: 3e-05\n"
     ]
    },
    {
     "name": "stderr",
     "output_type": "stream",
     "text": [
      "Some weights of DistilBertForSequenceClassification were not initialized from the model checkpoint at medicalai/ClinicalBERT and are newly initialized: ['classifier.bias', 'classifier.weight', 'pre_classifier.bias', 'pre_classifier.weight']\n",
      "You should probably TRAIN this model on a down-stream task to be able to use it for predictions and inference.\n",
      "Epoch 1/3 - Training: 100%|██████████| 665/665 [02:10<00:00,  5.11it/s]\n"
     ]
    },
    {
     "name": "stdout",
     "output_type": "stream",
     "text": [
      "Epoch 1 - Avg Train Loss: 1.1264\n",
      "Epoch 1 - Val Loss: 0.7281, Val Accuracy: 0.7669\n"
     ]
    },
    {
     "name": "stderr",
     "output_type": "stream",
     "text": [
      "Epoch 2/3 - Training: 100%|██████████| 665/665 [02:10<00:00,  5.11it/s]\n"
     ]
    },
    {
     "name": "stdout",
     "output_type": "stream",
     "text": [
      "Epoch 2 - Avg Train Loss: 0.6417\n",
      "Epoch 2 - Val Loss: 0.6222, Val Accuracy: 0.7945\n"
     ]
    },
    {
     "name": "stderr",
     "output_type": "stream",
     "text": [
      "Epoch 3/3 - Training: 100%|██████████| 665/665 [02:10<00:00,  5.11it/s]\n"
     ]
    },
    {
     "name": "stdout",
     "output_type": "stream",
     "text": [
      "Epoch 3 - Avg Train Loss: 0.5331\n",
      "Epoch 3 - Val Loss: 0.6136, Val Accuracy: 0.8023\n"
     ]
    }
   ],
   "source": [
    "# ClinicalBERT Training\n",
    "print(\"\\n=== Training ClinicalBERT Model ===\")\n",
    "clinicalbert_results = []\n",
    "for batch_size in batch_sizes:\n",
    "    for lr in learning_rates:\n",
    "        print(f\"\\nTraining ClinicalBERT - Batch Size: {batch_size}, Learning Rate: {lr}\")\n",
    "        train_loader = DataLoader(clinicalbert_train_dataset, batch_size=batch_size, shuffle=True)\n",
    "        val_loader = DataLoader(clinicalbert_val_dataset, batch_size=batch_size)\n",
    "        \n",
    "        model = AutoModelForSequenceClassification.from_pretrained('medicalai/ClinicalBERT', num_labels=8)\n",
    "        trained_model, duration = train_model(model, train_loader, val_loader, lr)\n",
    "        acc, precision, recall, f1, preds, labels = evaluate_model(trained_model, val_loader)\n",
    "        \n",
    "        clinicalbert_results.append({\n",
    "            \"Batch Size\": batch_size,\n",
    "            \"Learning Rate\": lr,\n",
    "            \"Accuracy\": acc,\n",
    "            \"Precision\": precision,\n",
    "            \"Recall\": recall,\n",
    "            \"F1\": f1,\n",
    "            \"Duration (min)\": duration,\n",
    "            \"Preds\": preds,\n",
    "            \"Labels\": labels\n",
    "        })"
   ]
  },
  {
   "cell_type": "code",
   "execution_count": 17,
   "id": "7c3b7123-2ad8-4ebb-8948-fb5f2fbf0cea",
   "metadata": {},
   "outputs": [
    {
     "name": "stdout",
     "output_type": "stream",
     "text": [
      "\n",
      "ClinicalBERT Results Summary:\n"
     ]
    },
    {
     "data": {
      "text/html": [
       "<div>\n",
       "<style scoped>\n",
       "    .dataframe tbody tr th:only-of-type {\n",
       "        vertical-align: middle;\n",
       "    }\n",
       "\n",
       "    .dataframe tbody tr th {\n",
       "        vertical-align: top;\n",
       "    }\n",
       "\n",
       "    .dataframe thead th {\n",
       "        text-align: right;\n",
       "    }\n",
       "</style>\n",
       "<table border=\"1\" class=\"dataframe\">\n",
       "  <thead>\n",
       "    <tr style=\"text-align: right;\">\n",
       "      <th></th>\n",
       "      <th>Batch Size</th>\n",
       "      <th>Learning Rate</th>\n",
       "      <th>Accuracy</th>\n",
       "      <th>Precision</th>\n",
       "      <th>Recall</th>\n",
       "      <th>F1</th>\n",
       "      <th>Duration (min)</th>\n",
       "    </tr>\n",
       "  </thead>\n",
       "  <tbody>\n",
       "    <tr>\n",
       "      <th>0</th>\n",
       "      <td>8</td>\n",
       "      <td>0.00001</td>\n",
       "      <td>0.791397</td>\n",
       "      <td>0.798819</td>\n",
       "      <td>0.791397</td>\n",
       "      <td>0.791022</td>\n",
       "      <td>9.020162</td>\n",
       "    </tr>\n",
       "    <tr>\n",
       "      <th>1</th>\n",
       "      <td>8</td>\n",
       "      <td>0.00002</td>\n",
       "      <td>0.796115</td>\n",
       "      <td>0.806619</td>\n",
       "      <td>0.796115</td>\n",
       "      <td>0.797150</td>\n",
       "      <td>9.033181</td>\n",
       "    </tr>\n",
       "    <tr>\n",
       "      <th>2</th>\n",
       "      <td>8</td>\n",
       "      <td>0.00003</td>\n",
       "      <td>0.791616</td>\n",
       "      <td>0.803315</td>\n",
       "      <td>0.791616</td>\n",
       "      <td>0.794343</td>\n",
       "      <td>9.036966</td>\n",
       "    </tr>\n",
       "    <tr>\n",
       "      <th>3</th>\n",
       "      <td>16</td>\n",
       "      <td>0.00001</td>\n",
       "      <td>0.785142</td>\n",
       "      <td>0.794985</td>\n",
       "      <td>0.785142</td>\n",
       "      <td>0.784271</td>\n",
       "      <td>8.121538</td>\n",
       "    </tr>\n",
       "    <tr>\n",
       "      <th>4</th>\n",
       "      <td>16</td>\n",
       "      <td>0.00002</td>\n",
       "      <td>0.800176</td>\n",
       "      <td>0.803756</td>\n",
       "      <td>0.800176</td>\n",
       "      <td>0.799215</td>\n",
       "      <td>8.125836</td>\n",
       "    </tr>\n",
       "    <tr>\n",
       "      <th>5</th>\n",
       "      <td>16</td>\n",
       "      <td>0.00003</td>\n",
       "      <td>0.803358</td>\n",
       "      <td>0.818995</td>\n",
       "      <td>0.803358</td>\n",
       "      <td>0.805522</td>\n",
       "      <td>8.119943</td>\n",
       "    </tr>\n",
       "    <tr>\n",
       "      <th>6</th>\n",
       "      <td>32</td>\n",
       "      <td>0.00001</td>\n",
       "      <td>0.788434</td>\n",
       "      <td>0.801986</td>\n",
       "      <td>0.788434</td>\n",
       "      <td>0.788445</td>\n",
       "      <td>7.478169</td>\n",
       "    </tr>\n",
       "    <tr>\n",
       "      <th>7</th>\n",
       "      <td>32</td>\n",
       "      <td>0.00002</td>\n",
       "      <td>0.797981</td>\n",
       "      <td>0.806442</td>\n",
       "      <td>0.797981</td>\n",
       "      <td>0.798818</td>\n",
       "      <td>7.473396</td>\n",
       "    </tr>\n",
       "    <tr>\n",
       "      <th>8</th>\n",
       "      <td>32</td>\n",
       "      <td>0.00003</td>\n",
       "      <td>0.802261</td>\n",
       "      <td>0.807359</td>\n",
       "      <td>0.802261</td>\n",
       "      <td>0.802043</td>\n",
       "      <td>7.468599</td>\n",
       "    </tr>\n",
       "  </tbody>\n",
       "</table>\n",
       "</div>"
      ],
      "text/plain": [
       "   Batch Size  Learning Rate  Accuracy  Precision    Recall        F1  \\\n",
       "0           8        0.00001  0.791397   0.798819  0.791397  0.791022   \n",
       "1           8        0.00002  0.796115   0.806619  0.796115  0.797150   \n",
       "2           8        0.00003  0.791616   0.803315  0.791616  0.794343   \n",
       "3          16        0.00001  0.785142   0.794985  0.785142  0.784271   \n",
       "4          16        0.00002  0.800176   0.803756  0.800176  0.799215   \n",
       "5          16        0.00003  0.803358   0.818995  0.803358  0.805522   \n",
       "6          32        0.00001  0.788434   0.801986  0.788434  0.788445   \n",
       "7          32        0.00002  0.797981   0.806442  0.797981  0.798818   \n",
       "8          32        0.00003  0.802261   0.807359  0.802261  0.802043   \n",
       "\n",
       "   Duration (min)  \n",
       "0        9.020162  \n",
       "1        9.033181  \n",
       "2        9.036966  \n",
       "3        8.121538  \n",
       "4        8.125836  \n",
       "5        8.119943  \n",
       "6        7.478169  \n",
       "7        7.473396  \n",
       "8        7.468599  "
      ]
     },
     "execution_count": 17,
     "metadata": {},
     "output_type": "execute_result"
    }
   ],
   "source": [
    "# ClinicalBERT Results\n",
    "clinicalbert_df = pd.DataFrame(clinicalbert_results).drop(columns=[\"Preds\", \"Labels\"])\n",
    "print(\"\\nClinicalBERT Results Summary:\")\n",
    "clinicalbert_df"
   ]
  },
  {
   "cell_type": "code",
   "execution_count": 18,
   "id": "7cb5db0a-8391-4245-b387-adc71824887d",
   "metadata": {},
   "outputs": [
    {
     "name": "stdout",
     "output_type": "stream",
     "text": [
      "\n",
      "Best ClinicalBERT Configuration: Batch Size 16.0, Learning Rate 3e-05\n",
      "Accuracy: 0.8034, Precision: 0.8190, Recall: 0.8034, F1: 0.8055\n"
     ]
    }
   ],
   "source": [
    "# Best ClinicalBERT Configuration\n",
    "best_clinicalbert_config = clinicalbert_df.loc[clinicalbert_df[\"F1\"].idxmax()]\n",
    "print(f\"\\nBest ClinicalBERT Configuration: Batch Size {best_clinicalbert_config['Batch Size']}, Learning Rate {best_clinicalbert_config['Learning Rate']}\")\n",
    "print(f\"Accuracy: {best_clinicalbert_config['Accuracy']:.4f}, Precision: {best_clinicalbert_config['Precision']:.4f}, Recall: {best_clinicalbert_config['Recall']:.4f}, F1: {best_clinicalbert_config['F1']:.4f}\")"
   ]
  },
  {
   "cell_type": "code",
   "execution_count": 19,
   "id": "91a7457c-7887-430f-a210-cd4d23fcd9d6",
   "metadata": {},
   "outputs": [],
   "source": [
    "best_clinicalbert_idx = clinicalbert_df[\"F1\"].idxmax()\n",
    "best_clinicalbert_preds = clinicalbert_results[best_clinicalbert_idx][\"Preds\"]\n",
    "best_clinicalbert_labels = clinicalbert_results[best_clinicalbert_idx][\"Labels\"]"
   ]
  },
  {
   "cell_type": "code",
   "execution_count": 20,
   "id": "be609bd7-befe-434e-8d3d-83bbd7b5b1a8",
   "metadata": {},
   "outputs": [
    {
     "data": {
      "image/png": "[encoded data removed]",
      "text/plain": [
       "<Figure size 1000x800 with 2 Axes>"
      ]
     },
     "metadata": {},
     "output_type": "display_data"
    }
   ],
   "source": [
    "# ClinicalBERT Confusion Matrix\n",
    "cm_clinicalbert = confusion_matrix(best_clinicalbert_labels, best_clinicalbert_preds)\n",
    "plt.figure(figsize=(10, 8))\n",
    "sns.heatmap(cm_clinicalbert, annot=True, fmt=\"d\", cmap=\"Blues\", xticklabels=label_names, yticklabels=label_names)\n",
    "plt.title(\"Confusion Matrix - Best ClinicalBERT Configuration\")\n",
    "plt.xlabel(\"Predicted\")\n",
    "plt.ylabel(\"True\")\n",
    "plt.xticks(rotation=45, ha='right')\n",
    "plt.yticks(rotation=0)\n",
    "plt.tight_layout()\n",
    "plt.show()"
   ]
  },
  {
   "cell_type": "code",
   "execution_count": 21,
   "id": "0639061f-74e1-440c-a411-454c21a63685",
   "metadata": {},
   "outputs": [
    {
     "name": "stdout",
     "output_type": "stream",
     "text": [
      "\n",
      "Classification Report for Best ClinicalBERT Configuration:\n",
      "              precision    recall  f1-score   support\n",
      "\n",
      "        adhd      0.907     0.855     0.880      1265\n",
      "     anxiety      0.837     0.774     0.805      1188\n",
      "     bipolar      0.739     0.756     0.747      1073\n",
      "         bpd      0.797     0.738     0.766      1233\n",
      "  depression      0.640     0.872     0.738      1066\n",
      "         ocd      0.970     0.776     0.862      1042\n",
      "        ptsd      0.898     0.749     0.817      1178\n",
      "        none      0.745     0.916     0.822      1068\n",
      "\n",
      "    accuracy                          0.803      9113\n",
      "   macro avg      0.817     0.805     0.805      9113\n",
      "weighted avg      0.819     0.803     0.806      9113\n",
      "\n"
     ]
    }
   ],
   "source": [
    "# ClinicalBERT Classification Report\n",
    "print(\"\\nClassification Report for Best ClinicalBERT Configuration:\")\n",
    "print(classification_report(best_clinicalbert_labels, best_clinicalbert_preds, target_names=label_names, digits=3))"
   ]
  },
  {
   "cell_type": "markdown",
   "id": "d19c9120-9346-4a04-a341-263f439c8378",
   "metadata": {},
   "source": [
    "## MedBERT Model Training"
   ]
  },
  {
   "cell_type": "code",
   "execution_count": 22,
   "id": "f1977594-849e-4ee1-ab8f-0b6c5e352931",
   "metadata": {},
   "outputs": [
    {
     "name": "stdout",
     "output_type": "stream",
     "text": [
      "\n",
      "=== Training MedBERT Model ===\n",
      "\n",
      "Training MedBERT - Batch Size: 8, Learning Rate: 1e-05\n"
     ]
    },
    {
     "data": {
      "application/vnd.jupyter.widget-view+json": {
       "model_id": "10fe882c6197464bba0f7a0e341b5074",
       "version_major": 2,
       "version_minor": 0
      },
      "text/plain": [
       "config.json:   0%|          | 0.00/682 [00:00<?, ?B/s]"
      ]
     },
     "metadata": {},
     "output_type": "display_data"
    },
    {
     "data": {
      "application/vnd.jupyter.widget-view+json": {
       "model_id": "13281fab6d414583b682e3406caa8fbd",
       "version_major": 2,
       "version_minor": 0
      },
      "text/plain": [
       "pytorch_model.bin:   0%|          | 0.00/436M [00:00<?, ?B/s]"
      ]
     },
     "metadata": {},
     "output_type": "display_data"
    },
    {
     "name": "stderr",
     "output_type": "stream",
     "text": [
      "Some weights of BertForSequenceClassification were not initialized from the model checkpoint at Charangan/MedBERT and are newly initialized: ['classifier.bias', 'classifier.weight']\n",
      "You should probably TRAIN this model on a down-stream task to be able to use it for predictions and inference.\n",
      "Epoch 1/3 - Training:   0%|          | 10/2658 [00:01<04:36,  9.58it/s]"
     ]
    },
    {
     "data": {
      "application/vnd.jupyter.widget-view+json": {
       "model_id": "5c800af4e3414b76af891769905706ee",
       "version_major": 2,
       "version_minor": 0
      },
      "text/plain": [
       "model.safetensors:   0%|          | 0.00/436M [00:00<?, ?B/s]"
      ]
     },
     "metadata": {},
     "output_type": "display_data"
    },
    {
     "name": "stderr",
     "output_type": "stream",
     "text": [
      "Epoch 1/3 - Training: 100%|██████████| 2658/2658 [04:46<00:00,  9.28it/s]\n"
     ]
    },
    {
     "name": "stdout",
     "output_type": "stream",
     "text": [
      "Epoch 1 - Avg Train Loss: 1.3204\n",
      "Epoch 1 - Val Loss: 0.7634, Val Accuracy: 0.7603\n"
     ]
    },
    {
     "name": "stderr",
     "output_type": "stream",
     "text": [
      "Epoch 2/3 - Training: 100%|██████████| 2658/2658 [04:46<00:00,  9.26it/s]\n"
     ]
    },
    {
     "name": "stdout",
     "output_type": "stream",
     "text": [
      "Epoch 2 - Avg Train Loss: 0.6816\n",
      "Epoch 2 - Val Loss: 0.7108, Val Accuracy: 0.7686\n"
     ]
    },
    {
     "name": "stderr",
     "output_type": "stream",
     "text": [
      "Epoch 3/3 - Training: 100%|██████████| 2658/2658 [04:47<00:00,  9.26it/s]\n"
     ]
    },
    {
     "name": "stdout",
     "output_type": "stream",
     "text": [
      "Epoch 3 - Avg Train Loss: 0.5550\n",
      "Epoch 3 - Val Loss: 0.6325, Val Accuracy: 0.8038\n",
      "\n",
      "Training MedBERT - Batch Size: 8, Learning Rate: 2e-05\n"
     ]
    },
    {
     "name": "stderr",
     "output_type": "stream",
     "text": [
      "Some weights of BertForSequenceClassification were not initialized from the model checkpoint at Charangan/MedBERT and are newly initialized: ['classifier.bias', 'classifier.weight']\n",
      "You should probably TRAIN this model on a down-stream task to be able to use it for predictions and inference.\n",
      "Epoch 1/3 - Training: 100%|██████████| 2658/2658 [04:47<00:00,  9.25it/s]\n"
     ]
    },
    {
     "name": "stdout",
     "output_type": "stream",
     "text": [
      "Epoch 1 - Avg Train Loss: 1.0570\n",
      "Epoch 1 - Val Loss: 0.6872, Val Accuracy: 0.7791\n"
     ]
    },
    {
     "name": "stderr",
     "output_type": "stream",
     "text": [
      "Epoch 2/3 - Training: 100%|██████████| 2658/2658 [04:47<00:00,  9.25it/s]\n"
     ]
    },
    {
     "name": "stdout",
     "output_type": "stream",
     "text": [
      "Epoch 2 - Avg Train Loss: 0.6203\n",
      "Epoch 2 - Val Loss: 0.6616, Val Accuracy: 0.7857\n"
     ]
    },
    {
     "name": "stderr",
     "output_type": "stream",
     "text": [
      "Epoch 3/3 - Training: 100%|██████████| 2658/2658 [04:47<00:00,  9.25it/s]\n"
     ]
    },
    {
     "name": "stdout",
     "output_type": "stream",
     "text": [
      "Epoch 3 - Avg Train Loss: 0.4822\n",
      "Epoch 3 - Val Loss: 0.6403, Val Accuracy: 0.7922\n",
      "\n",
      "Training MedBERT - Batch Size: 8, Learning Rate: 3e-05\n"
     ]
    },
    {
     "name": "stderr",
     "output_type": "stream",
     "text": [
      "Some weights of BertForSequenceClassification were not initialized from the model checkpoint at Charangan/MedBERT and are newly initialized: ['classifier.bias', 'classifier.weight']\n",
      "You should probably TRAIN this model on a down-stream task to be able to use it for predictions and inference.\n",
      "Epoch 1/3 - Training: 100%|██████████| 2658/2658 [04:47<00:00,  9.25it/s]\n"
     ]
    },
    {
     "name": "stdout",
     "output_type": "stream",
     "text": [
      "Epoch 1 - Avg Train Loss: 0.9717\n",
      "Epoch 1 - Val Loss: 0.6873, Val Accuracy: 0.7767\n"
     ]
    },
    {
     "name": "stderr",
     "output_type": "stream",
     "text": [
      "Epoch 2/3 - Training: 100%|██████████| 2658/2658 [04:46<00:00,  9.26it/s]\n"
     ]
    },
    {
     "name": "stdout",
     "output_type": "stream",
     "text": [
      "Epoch 2 - Avg Train Loss: 0.6020\n",
      "Epoch 2 - Val Loss: 0.6654, Val Accuracy: 0.7905\n"
     ]
    },
    {
     "name": "stderr",
     "output_type": "stream",
     "text": [
      "Epoch 3/3 - Training: 100%|██████████| 2658/2658 [04:46<00:00,  9.27it/s]\n"
     ]
    },
    {
     "name": "stdout",
     "output_type": "stream",
     "text": [
      "Epoch 3 - Avg Train Loss: 0.4856\n",
      "Epoch 3 - Val Loss: 0.6515, Val Accuracy: 0.7967\n",
      "\n",
      "Training MedBERT - Batch Size: 16, Learning Rate: 1e-05\n"
     ]
    },
    {
     "name": "stderr",
     "output_type": "stream",
     "text": [
      "Some weights of BertForSequenceClassification were not initialized from the model checkpoint at Charangan/MedBERT and are newly initialized: ['classifier.bias', 'classifier.weight']\n",
      "You should probably TRAIN this model on a down-stream task to be able to use it for predictions and inference.\n",
      "Epoch 1/3 - Training: 100%|██████████| 1329/1329 [04:24<00:00,  5.03it/s]\n"
     ]
    },
    {
     "name": "stdout",
     "output_type": "stream",
     "text": [
      "Epoch 1 - Avg Train Loss: 1.4036\n",
      "Epoch 1 - Val Loss: 0.8459, Val Accuracy: 0.7293\n"
     ]
    },
    {
     "name": "stderr",
     "output_type": "stream",
     "text": [
      "Epoch 2/3 - Training: 100%|██████████| 1329/1329 [04:24<00:00,  5.03it/s]\n"
     ]
    },
    {
     "name": "stdout",
     "output_type": "stream",
     "text": [
      "Epoch 2 - Avg Train Loss: 0.7271\n",
      "Epoch 2 - Val Loss: 0.6755, Val Accuracy: 0.7805\n"
     ]
    },
    {
     "name": "stderr",
     "output_type": "stream",
     "text": [
      "Epoch 3/3 - Training: 100%|██████████| 1329/1329 [04:24<00:00,  5.03it/s]\n"
     ]
    },
    {
     "name": "stdout",
     "output_type": "stream",
     "text": [
      "Epoch 3 - Avg Train Loss: 0.5923\n",
      "Epoch 3 - Val Loss: 0.6471, Val Accuracy: 0.7883\n",
      "\n",
      "Training MedBERT - Batch Size: 16, Learning Rate: 2e-05\n"
     ]
    },
    {
     "name": "stderr",
     "output_type": "stream",
     "text": [
      "Some weights of BertForSequenceClassification were not initialized from the model checkpoint at Charangan/MedBERT and are newly initialized: ['classifier.bias', 'classifier.weight']\n",
      "You should probably TRAIN this model on a down-stream task to be able to use it for predictions and inference.\n",
      "Epoch 1/3 - Training: 100%|██████████| 1329/1329 [04:23<00:00,  5.03it/s]\n"
     ]
    },
    {
     "name": "stdout",
     "output_type": "stream",
     "text": [
      "Epoch 1 - Avg Train Loss: 1.1927\n",
      "Epoch 1 - Val Loss: 0.7160, Val Accuracy: 0.7693\n"
     ]
    },
    {
     "name": "stderr",
     "output_type": "stream",
     "text": [
      "Epoch 2/3 - Training: 100%|██████████| 1329/1329 [04:24<00:00,  5.03it/s]\n"
     ]
    },
    {
     "name": "stdout",
     "output_type": "stream",
     "text": [
      "Epoch 2 - Avg Train Loss: 0.6437\n",
      "Epoch 2 - Val Loss: 0.6685, Val Accuracy: 0.7839\n"
     ]
    },
    {
     "name": "stderr",
     "output_type": "stream",
     "text": [
      "Epoch 3/3 - Training: 100%|██████████| 1329/1329 [04:24<00:00,  5.03it/s]\n"
     ]
    },
    {
     "name": "stdout",
     "output_type": "stream",
     "text": [
      "Epoch 3 - Avg Train Loss: 0.5203\n",
      "Epoch 3 - Val Loss: 0.6279, Val Accuracy: 0.8045\n",
      "\n",
      "Training MedBERT - Batch Size: 16, Learning Rate: 3e-05\n"
     ]
    },
    {
     "name": "stderr",
     "output_type": "stream",
     "text": [
      "Some weights of BertForSequenceClassification were not initialized from the model checkpoint at Charangan/MedBERT and are newly initialized: ['classifier.bias', 'classifier.weight']\n",
      "You should probably TRAIN this model on a down-stream task to be able to use it for predictions and inference.\n",
      "Epoch 1/3 - Training: 100%|██████████| 1329/1329 [04:24<00:00,  5.02it/s]\n"
     ]
    },
    {
     "name": "stdout",
     "output_type": "stream",
     "text": [
      "Epoch 1 - Avg Train Loss: 1.0592\n",
      "Epoch 1 - Val Loss: 0.7127, Val Accuracy: 0.7689\n"
     ]
    },
    {
     "name": "stderr",
     "output_type": "stream",
     "text": [
      "Epoch 2/3 - Training: 100%|██████████| 1329/1329 [04:24<00:00,  5.02it/s]\n"
     ]
    },
    {
     "name": "stdout",
     "output_type": "stream",
     "text": [
      "Epoch 2 - Avg Train Loss: 0.6210\n",
      "Epoch 2 - Val Loss: 0.6459, Val Accuracy: 0.7861\n"
     ]
    },
    {
     "name": "stderr",
     "output_type": "stream",
     "text": [
      "Epoch 3/3 - Training: 100%|██████████| 1329/1329 [04:24<00:00,  5.02it/s]\n"
     ]
    },
    {
     "name": "stdout",
     "output_type": "stream",
     "text": [
      "Epoch 3 - Avg Train Loss: 0.4893\n",
      "Epoch 3 - Val Loss: 0.6198, Val Accuracy: 0.8039\n",
      "\n",
      "Training MedBERT - Batch Size: 32, Learning Rate: 1e-05\n"
     ]
    },
    {
     "name": "stderr",
     "output_type": "stream",
     "text": [
      "Some weights of BertForSequenceClassification were not initialized from the model checkpoint at Charangan/MedBERT and are newly initialized: ['classifier.bias', 'classifier.weight']\n",
      "You should probably TRAIN this model on a down-stream task to be able to use it for predictions and inference.\n",
      "Epoch 1/3 - Training: 100%|██████████| 665/665 [04:12<00:00,  2.63it/s]\n"
     ]
    },
    {
     "name": "stdout",
     "output_type": "stream",
     "text": [
      "Epoch 1 - Avg Train Loss: 1.6627\n",
      "Epoch 1 - Val Loss: 0.9786, Val Accuracy: 0.7013\n"
     ]
    },
    {
     "name": "stderr",
     "output_type": "stream",
     "text": [
      "Epoch 2/3 - Training: 100%|██████████| 665/665 [04:12<00:00,  2.63it/s]\n"
     ]
    },
    {
     "name": "stdout",
     "output_type": "stream",
     "text": [
      "Epoch 2 - Avg Train Loss: 0.8113\n",
      "Epoch 2 - Val Loss: 0.7481, Val Accuracy: 0.7581\n"
     ]
    },
    {
     "name": "stderr",
     "output_type": "stream",
     "text": [
      "Epoch 3/3 - Training: 100%|██████████| 665/665 [04:12<00:00,  2.64it/s]\n"
     ]
    },
    {
     "name": "stdout",
     "output_type": "stream",
     "text": [
      "Epoch 3 - Avg Train Loss: 0.6558\n",
      "Epoch 3 - Val Loss: 0.6656, Val Accuracy: 0.7862\n",
      "\n",
      "Training MedBERT - Batch Size: 32, Learning Rate: 2e-05\n"
     ]
    },
    {
     "name": "stderr",
     "output_type": "stream",
     "text": [
      "Some weights of BertForSequenceClassification were not initialized from the model checkpoint at Charangan/MedBERT and are newly initialized: ['classifier.bias', 'classifier.weight']\n",
      "You should probably TRAIN this model on a down-stream task to be able to use it for predictions and inference.\n",
      "Epoch 1/3 - Training: 100%|██████████| 665/665 [04:12<00:00,  2.64it/s]\n"
     ]
    },
    {
     "name": "stdout",
     "output_type": "stream",
     "text": [
      "Epoch 1 - Avg Train Loss: 1.3671\n",
      "Epoch 1 - Val Loss: 0.8284, Val Accuracy: 0.7261\n"
     ]
    },
    {
     "name": "stderr",
     "output_type": "stream",
     "text": [
      "Epoch 2/3 - Training: 100%|██████████| 665/665 [04:12<00:00,  2.64it/s]\n"
     ]
    },
    {
     "name": "stdout",
     "output_type": "stream",
     "text": [
      "Epoch 2 - Avg Train Loss: 0.6973\n",
      "Epoch 2 - Val Loss: 0.6829, Val Accuracy: 0.7739\n"
     ]
    },
    {
     "name": "stderr",
     "output_type": "stream",
     "text": [
      "Epoch 3/3 - Training: 100%|██████████| 665/665 [04:12<00:00,  2.64it/s]\n"
     ]
    },
    {
     "name": "stdout",
     "output_type": "stream",
     "text": [
      "Epoch 3 - Avg Train Loss: 0.5675\n",
      "Epoch 3 - Val Loss: 0.6211, Val Accuracy: 0.8023\n",
      "\n",
      "Training MedBERT - Batch Size: 32, Learning Rate: 3e-05\n"
     ]
    },
    {
     "name": "stderr",
     "output_type": "stream",
     "text": [
      "Some weights of BertForSequenceClassification were not initialized from the model checkpoint at Charangan/MedBERT and are newly initialized: ['classifier.bias', 'classifier.weight']\n",
      "You should probably TRAIN this model on a down-stream task to be able to use it for predictions and inference.\n",
      "Epoch 1/3 - Training: 100%|██████████| 665/665 [04:12<00:00,  2.64it/s]\n"
     ]
    },
    {
     "name": "stdout",
     "output_type": "stream",
     "text": [
      "Epoch 1 - Avg Train Loss: 1.2102\n",
      "Epoch 1 - Val Loss: 0.7305, Val Accuracy: 0.7599\n"
     ]
    },
    {
     "name": "stderr",
     "output_type": "stream",
     "text": [
      "Epoch 2/3 - Training: 100%|██████████| 665/665 [04:12<00:00,  2.64it/s]\n"
     ]
    },
    {
     "name": "stdout",
     "output_type": "stream",
     "text": [
      "Epoch 2 - Avg Train Loss: 0.6457\n",
      "Epoch 2 - Val Loss: 0.6566, Val Accuracy: 0.7867\n"
     ]
    },
    {
     "name": "stderr",
     "output_type": "stream",
     "text": [
      "Epoch 3/3 - Training: 100%|██████████| 665/665 [04:12<00:00,  2.64it/s]\n"
     ]
    },
    {
     "name": "stdout",
     "output_type": "stream",
     "text": [
      "Epoch 3 - Avg Train Loss: 0.5060\n",
      "Epoch 3 - Val Loss: 0.6001, Val Accuracy: 0.8066\n"
     ]
    }
   ],
   "source": [
    "# MedBERT Training\n",
    "print(\"\\n=== Training MedBERT Model ===\")\n",
    "medbert_results = []\n",
    "for batch_size in batch_sizes:\n",
    "    for lr in learning_rates:\n",
    "        print(f\"\\nTraining MedBERT - Batch Size: {batch_size}, Learning Rate: {lr}\")\n",
    "        train_loader = DataLoader(medbert_train_dataset, batch_size=batch_size, shuffle=True)\n",
    "        val_loader = DataLoader(medbert_val_dataset, batch_size=batch_size)\n",
    "        \n",
    "        model = AutoModelForSequenceClassification.from_pretrained('Charangan/MedBERT', num_labels=8)\n",
    "        trained_model, duration = train_model(model, train_loader, val_loader, lr)\n",
    "        acc, precision, recall, f1, preds, labels = evaluate_model(trained_model, val_loader)\n",
    "        \n",
    "        medbert_results.append({\n",
    "            \"Batch Size\": batch_size,\n",
    "            \"Learning Rate\": lr,\n",
    "            \"Accuracy\": acc,\n",
    "            \"Precision\": precision,\n",
    "            \"Recall\": recall,\n",
    "            \"F1\": f1,\n",
    "            \"Duration (min)\": duration,\n",
    "            \"Preds\": preds,\n",
    "            \"Labels\": labels\n",
    "        })"
   ]
  },
  {
   "cell_type": "code",
   "execution_count": 23,
   "id": "af20b836-bacb-45f5-9d10-08a8a50604f7",
   "metadata": {},
   "outputs": [
    {
     "name": "stdout",
     "output_type": "stream",
     "text": [
      "\n",
      "MedBERT Results Summary:\n"
     ]
    },
    {
     "data": {
      "text/html": [
       "<div>\n",
       "<style scoped>\n",
       "    .dataframe tbody tr th:only-of-type {\n",
       "        vertical-align: middle;\n",
       "    }\n",
       "\n",
       "    .dataframe tbody tr th {\n",
       "        vertical-align: top;\n",
       "    }\n",
       "\n",
       "    .dataframe thead th {\n",
       "        text-align: right;\n",
       "    }\n",
       "</style>\n",
       "<table border=\"1\" class=\"dataframe\">\n",
       "  <thead>\n",
       "    <tr style=\"text-align: right;\">\n",
       "      <th></th>\n",
       "      <th>Batch Size</th>\n",
       "      <th>Learning Rate</th>\n",
       "      <th>Accuracy</th>\n",
       "      <th>Precision</th>\n",
       "      <th>Recall</th>\n",
       "      <th>F1</th>\n",
       "      <th>Duration (min)</th>\n",
       "    </tr>\n",
       "  </thead>\n",
       "  <tbody>\n",
       "    <tr>\n",
       "      <th>0</th>\n",
       "      <td>8</td>\n",
       "      <td>0.00001</td>\n",
       "      <td>0.803797</td>\n",
       "      <td>0.814612</td>\n",
       "      <td>0.803797</td>\n",
       "      <td>0.805171</td>\n",
       "      <td>16.194829</td>\n",
       "    </tr>\n",
       "    <tr>\n",
       "      <th>1</th>\n",
       "      <td>8</td>\n",
       "      <td>0.00002</td>\n",
       "      <td>0.792165</td>\n",
       "      <td>0.807087</td>\n",
       "      <td>0.792165</td>\n",
       "      <td>0.794212</td>\n",
       "      <td>16.218992</td>\n",
       "    </tr>\n",
       "    <tr>\n",
       "      <th>2</th>\n",
       "      <td>8</td>\n",
       "      <td>0.00003</td>\n",
       "      <td>0.796664</td>\n",
       "      <td>0.804803</td>\n",
       "      <td>0.796664</td>\n",
       "      <td>0.796004</td>\n",
       "      <td>16.201681</td>\n",
       "    </tr>\n",
       "    <tr>\n",
       "      <th>3</th>\n",
       "      <td>16</td>\n",
       "      <td>0.00001</td>\n",
       "      <td>0.788324</td>\n",
       "      <td>0.793718</td>\n",
       "      <td>0.788324</td>\n",
       "      <td>0.788634</td>\n",
       "      <td>14.887936</td>\n",
       "    </tr>\n",
       "    <tr>\n",
       "      <th>4</th>\n",
       "      <td>16</td>\n",
       "      <td>0.00002</td>\n",
       "      <td>0.804455</td>\n",
       "      <td>0.820168</td>\n",
       "      <td>0.804455</td>\n",
       "      <td>0.806658</td>\n",
       "      <td>14.890983</td>\n",
       "    </tr>\n",
       "    <tr>\n",
       "      <th>5</th>\n",
       "      <td>16</td>\n",
       "      <td>0.00003</td>\n",
       "      <td>0.803907</td>\n",
       "      <td>0.805154</td>\n",
       "      <td>0.803907</td>\n",
       "      <td>0.803732</td>\n",
       "      <td>14.920415</td>\n",
       "    </tr>\n",
       "    <tr>\n",
       "      <th>6</th>\n",
       "      <td>32</td>\n",
       "      <td>0.00001</td>\n",
       "      <td>0.786239</td>\n",
       "      <td>0.791996</td>\n",
       "      <td>0.786239</td>\n",
       "      <td>0.786724</td>\n",
       "      <td>14.282263</td>\n",
       "    </tr>\n",
       "    <tr>\n",
       "      <th>7</th>\n",
       "      <td>32</td>\n",
       "      <td>0.00002</td>\n",
       "      <td>0.802261</td>\n",
       "      <td>0.805433</td>\n",
       "      <td>0.802261</td>\n",
       "      <td>0.802550</td>\n",
       "      <td>14.276122</td>\n",
       "    </tr>\n",
       "    <tr>\n",
       "      <th>8</th>\n",
       "      <td>32</td>\n",
       "      <td>0.00003</td>\n",
       "      <td>0.806650</td>\n",
       "      <td>0.812313</td>\n",
       "      <td>0.806650</td>\n",
       "      <td>0.807532</td>\n",
       "      <td>14.271182</td>\n",
       "    </tr>\n",
       "  </tbody>\n",
       "</table>\n",
       "</div>"
      ],
      "text/plain": [
       "   Batch Size  Learning Rate  Accuracy  Precision    Recall        F1  \\\n",
       "0           8        0.00001  0.803797   0.814612  0.803797  0.805171   \n",
       "1           8        0.00002  0.792165   0.807087  0.792165  0.794212   \n",
       "2           8        0.00003  0.796664   0.804803  0.796664  0.796004   \n",
       "3          16        0.00001  0.788324   0.793718  0.788324  0.788634   \n",
       "4          16        0.00002  0.804455   0.820168  0.804455  0.806658   \n",
       "5          16        0.00003  0.803907   0.805154  0.803907  0.803732   \n",
       "6          32        0.00001  0.786239   0.791996  0.786239  0.786724   \n",
       "7          32        0.00002  0.802261   0.805433  0.802261  0.802550   \n",
       "8          32        0.00003  0.806650   0.812313  0.806650  0.807532   \n",
       "\n",
       "   Duration (min)  \n",
       "0       16.194829  \n",
       "1       16.218992  \n",
       "2       16.201681  \n",
       "3       14.887936  \n",
       "4       14.890983  \n",
       "5       14.920415  \n",
       "6       14.282263  \n",
       "7       14.276122  \n",
       "8       14.271182  "
      ]
     },
     "execution_count": 23,
     "metadata": {},
     "output_type": "execute_result"
    }
   ],
   "source": [
    "# MedBERT Results\n",
    "medbert_df = pd.DataFrame(medbert_results).drop(columns=[\"Preds\", \"Labels\"])\n",
    "print(\"\\nMedBERT Results Summary:\")\n",
    "medbert_df"
   ]
  },
  {
   "cell_type": "code",
   "execution_count": 24,
   "id": "c43badaa-ca87-4d20-b6a5-5b35d652478d",
   "metadata": {},
   "outputs": [
    {
     "name": "stdout",
     "output_type": "stream",
     "text": [
      "\n",
      "Best MedBERT Configuration: Batch Size 32.0, Learning Rate 3e-05\n",
      "Accuracy: 0.8066, Precision: 0.8123, Recall: 0.8066, F1: 0.8075\n"
     ]
    }
   ],
   "source": [
    "# Best MedBERT Configuration\n",
    "best_medbert_config = medbert_df.loc[medbert_df[\"F1\"].idxmax()]\n",
    "print(f\"\\nBest MedBERT Configuration: Batch Size {best_medbert_config['Batch Size']}, Learning Rate {best_medbert_config['Learning Rate']}\")\n",
    "print(f\"Accuracy: {best_medbert_config['Accuracy']:.4f}, Precision: {best_medbert_config['Precision']:.4f}, Recall: {best_medbert_config['Recall']:.4f}, F1: {best_medbert_config['F1']:.4f}\")"
   ]
  },
  {
   "cell_type": "code",
   "execution_count": 25,
   "id": "f66dc604-9cbd-4fbe-a49e-2260bce49e0e",
   "metadata": {},
   "outputs": [],
   "source": [
    "best_medbert_idx = medbert_df[\"F1\"].idxmax()\n",
    "best_medbert_preds = medbert_results[best_medbert_idx][\"Preds\"]\n",
    "best_medbert_labels = medbert_results[best_medbert_idx][\"Labels\"]"
   ]
  },
  {
   "cell_type": "code",
   "execution_count": 26,
   "id": "4e5f3021-d308-454a-b138-5e04089d0cc5",
   "metadata": {},
   "outputs": [
    {
     "data": {
      "image/png": "[encoded data removed]",
      "text/plain": [
       "<Figure size 1000x800 with 2 Axes>"
      ]
     },
     "metadata": {},
     "output_type": "display_data"
    }
   ],
   "source": [
    "# MedBERT Confusion Matrix\n",
    "cm_medbert = confusion_matrix(best_medbert_labels, best_medbert_preds)\n",
    "plt.figure(figsize=(10, 8))\n",
    "sns.heatmap(cm_medbert, annot=True, fmt=\"d\", cmap=\"Blues\", xticklabels=label_names, yticklabels=label_names)\n",
    "plt.title(\"Confusion Matrix - Best MedBERT Configuration\")\n",
    "plt.xlabel(\"Predicted\")\n",
    "plt.ylabel(\"True\")\n",
    "plt.xticks(rotation=45, ha='right')\n",
    "plt.yticks(rotation=0)\n",
    "plt.tight_layout()\n",
    "plt.show()"
   ]
  },
  {
   "cell_type": "code",
   "execution_count": 27,
   "id": "95de4883-3271-462a-969c-cbda16149cb1",
   "metadata": {},
   "outputs": [
    {
     "name": "stdout",
     "output_type": "stream",
     "text": [
      "\n",
      "Classification Report for Best MedBERT Configuration:\n",
      "              precision    recall  f1-score   support\n",
      "\n",
      "        adhd      0.883     0.862     0.872      1265\n",
      "     anxiety      0.712     0.821     0.763      1188\n",
      "     bipolar      0.753     0.747     0.750      1073\n",
      "         bpd      0.765     0.792     0.778      1233\n",
      "  depression      0.768     0.749     0.758      1066\n",
      "         ocd      0.938     0.809     0.869      1042\n",
      "        ptsd      0.885     0.772     0.825      1178\n",
      "        none      0.796     0.896     0.843      1068\n",
      "\n",
      "    accuracy                          0.807      9113\n",
      "   macro avg      0.812     0.806     0.807      9113\n",
      "weighted avg      0.812     0.807     0.808      9113\n",
      "\n"
     ]
    }
   ],
   "source": [
    "# MedBERT Classification Report\n",
    "print(\"\\nClassification Report for Best MedBERT Configuration:\")\n",
    "print(classification_report(best_medbert_labels, best_medbert_preds, target_names=label_names, digits=3))"
   ]
  }
 ],
 "metadata": {
  "kernelspec": {
   "display_name": "Python 3 (ipykernel)",
   "language": "python",
   "name": "python3"
  },
  "language_info": {
   "codemirror_mode": {
    "name": "ipython",
    "version": 3
   },
   "file_extension": ".py",
   "mimetype": "text/x-python",
   "name": "python",
   "nbconvert_exporter": "python",
   "pygments_lexer": "ipython3",
   "version": "3.12.3"
  }
 },
 "nbformat": 4,
 "nbformat_minor": 5
}
