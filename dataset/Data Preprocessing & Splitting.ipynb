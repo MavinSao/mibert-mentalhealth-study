{
 "cells": [
  {
   "cell_type": "code",
   "execution_count": 1,
   "metadata": {
    "executionInfo": {
     "elapsed": 1576,
     "status": "ok",
     "timestamp": 1741927022663,
     "user": {
      "displayName": "Mavin Sao",
      "userId": "00014127256476726862"
     },
     "user_tz": -540
    },
    "id": "nzqOmxzm4Wiy"
   },
   "outputs": [],
   "source": [
    "import pandas as pd\n",
    "import re\n",
    "from sklearn.model_selection import train_test_split\n",
    "import re\n",
    "import unicodedata\n",
    "import html"
   ]
  },
  {
   "cell_type": "code",
   "execution_count": 2,
   "metadata": {},
   "outputs": [],
   "source": [
    "#pip install seaborn"
   ]
  },
  {
   "cell_type": "code",
   "execution_count": 3,
   "metadata": {
    "colab": {
     "base_uri": "https://localhost:8080/",
     "height": 206
    },
    "executionInfo": {
     "elapsed": 1020,
     "status": "ok",
     "timestamp": 1741927023702,
     "user": {
      "displayName": "Mavin Sao",
      "userId": "00014127256476726862"
     },
     "user_tz": -540
    },
    "id": "Osq0Zja846Te",
    "outputId": "ce3ce4ab-fff1-4873-e015-125d7b2ab03a"
   },
   "outputs": [
    {
     "data": {
      "text/html": [
       "<div>\n",
       "<style scoped>\n",
       "    .dataframe tbody tr th:only-of-type {\n",
       "        vertical-align: middle;\n",
       "    }\n",
       "\n",
       "    .dataframe tbody tr th {\n",
       "        vertical-align: top;\n",
       "    }\n",
       "\n",
       "    .dataframe thead th {\n",
       "        text-align: right;\n",
       "    }\n",
       "</style>\n",
       "<table border=\"1\" class=\"dataframe\">\n",
       "  <thead>\n",
       "    <tr style=\"text-align: right;\">\n",
       "      <th></th>\n",
       "      <th>label</th>\n",
       "      <th>text</th>\n",
       "      <th>date</th>\n",
       "      <th>text_length</th>\n",
       "    </tr>\n",
       "  </thead>\n",
       "  <tbody>\n",
       "    <tr>\n",
       "      <th>0</th>\n",
       "      <td>adhd</td>\n",
       "      <td>Ever tell yourself, “you gotta do *thing you’r...</td>\n",
       "      <td>2020-01-11</td>\n",
       "      <td>671</td>\n",
       "    </tr>\n",
       "    <tr>\n",
       "      <th>1</th>\n",
       "      <td>adhd</td>\n",
       "      <td>13 years and 5 dropouts later, I FINALLY GRADU...</td>\n",
       "      <td>2020-01-02</td>\n",
       "      <td>310</td>\n",
       "    </tr>\n",
       "    <tr>\n",
       "      <th>2</th>\n",
       "      <td>adhd</td>\n",
       "      <td>Lol bless this subreddit: Has anyone noticed h...</td>\n",
       "      <td>2020-01-07</td>\n",
       "      <td>172</td>\n",
       "    </tr>\n",
       "    <tr>\n",
       "      <th>3</th>\n",
       "      <td>adhd</td>\n",
       "      <td>Just diagnosed at 27, and I'm mad.: At 27 year...</td>\n",
       "      <td>2020-01-28</td>\n",
       "      <td>1397</td>\n",
       "    </tr>\n",
       "    <tr>\n",
       "      <th>4</th>\n",
       "      <td>adhd</td>\n",
       "      <td>Having ADHD is like all thoughts are based on ...</td>\n",
       "      <td>2020-01-01</td>\n",
       "      <td>1176</td>\n",
       "    </tr>\n",
       "  </tbody>\n",
       "</table>\n",
       "</div>"
      ],
      "text/plain": [
       "  label                                               text        date  \\\n",
       "0  adhd  Ever tell yourself, “you gotta do *thing you’r...  2020-01-11   \n",
       "1  adhd  13 years and 5 dropouts later, I FINALLY GRADU...  2020-01-02   \n",
       "2  adhd  Lol bless this subreddit: Has anyone noticed h...  2020-01-07   \n",
       "3  adhd  Just diagnosed at 27, and I'm mad.: At 27 year...  2020-01-28   \n",
       "4  adhd  Having ADHD is like all thoughts are based on ...  2020-01-01   \n",
       "\n",
       "   text_length  \n",
       "0          671  \n",
       "1          310  \n",
       "2          172  \n",
       "3         1397  \n",
       "4         1176  "
      ]
     },
     "execution_count": 3,
     "metadata": {},
     "output_type": "execute_result"
    }
   ],
   "source": [
    "df = pd.read_csv('./reddit_filtered_submissions_balanced_score10.csv')\n",
    "df.head()"
   ]
  },
  {
   "cell_type": "code",
   "execution_count": 4,
   "metadata": {
    "executionInfo": {
     "elapsed": 31,
     "status": "ok",
     "timestamp": 1741927023736,
     "user": {
      "displayName": "Mavin Sao",
      "userId": "00014127256476726862"
     },
     "user_tz": -540
    },
    "id": "PzaQkYMO5Kxv"
   },
   "outputs": [],
   "source": [
    "def preprocess_text(text, label=None, lowercase=True):\n",
    "    if not text:\n",
    "        return \"\"\n",
    "    # Convert to string and handle potential None values\n",
    "    text = str(text) if text is not None else \"\"\n",
    "    # Decode HTML entities\n",
    "    text = html.unescape(text)\n",
    "    # Normalize Unicode characters\n",
    "    text = unicodedata.normalize('NFKD', text)\n",
    "    # Mental health term handling with more comprehensive replacements\n",
    "    if label:\n",
    "        # More comprehensive and sensitive replacements\n",
    "        replacements = {\n",
    "            \"adhd\": \"attention difficulty\",\n",
    "            \"anxiety\": \"worry\",\n",
    "            \"bipolar\": \"mood fluctuation\",\n",
    "            \"bpd\": \"emotional regulation difficulty\",\n",
    "            \"depression\": \"low mood\",\n",
    "            \"ocd\": \"repetitive behavior\",\n",
    "            \"ptsd\": \"stress response\",\n",
    "        }\n",
    "        # Only replace if it's a standalone word (not part of another word)\n",
    "        if label.lower() in replacements:\n",
    "            pattern = r'\\b' + re.escape(label.lower()) + r'\\b'\n",
    "            text = re.sub(pattern, replacements[label.lower()], text, flags=re.IGNORECASE)\n",
    "    # Enhanced text cleaning with better regex patterns\n",
    "    # Remove URLs\n",
    "    text = re.sub(r'https?://\\S+|www\\.\\S+', '', text)\n",
    "    # Remove mentions more comprehensively\n",
    "    text = re.sub(r'@\\w+', '', text)\n",
    "    # Remove emails more comprehensively\n",
    "    text = re.sub(r'\\b[\\w.%+-]+@[\\w.-]+\\.[a-zA-Z]{2,}\\b', '', text)\n",
    "    # Remove phone numbers (various formats)\n",
    "    text = re.sub(r'\\b(\\+\\d{1,2}\\s?)?\\(?\\d{3}\\)?[\\s.-]?\\d{3}[\\s.-]?\\d{4}\\b', '', text)\n",
    "    # Remove addresses more comprehensively\n",
    "    address_pattern = r'\\b\\d+\\s+[\\w\\s]*(street|st|avenue|ave|road|rd|boulevard|blvd|lane|ln|drive|dr|court|ct|plaza|plz|square|sq|highway|hwy|parkway|pkwy|circle|cir|way)\\b'\n",
    "    text = re.sub(address_pattern, '', text, flags=re.IGNORECASE)\n",
    "    # Optionally keep some punctuation for sentiment analysis\n",
    "    text = re.sub(r'[^\\w\\s.,!?]', '', text)\n",
    "    # Normalize whitespace (consecutive spaces, tabs, newlines)\n",
    "    text = re.sub(r'\\s+', ' ', text).strip()\n",
    "    # Lowercase the text if specified\n",
    "    if lowercase:\n",
    "        text = text.lower()\n",
    "    return text"
   ]
  },
  {
   "cell_type": "code",
   "execution_count": 5,
   "metadata": {
    "colab": {
     "base_uri": "https://localhost:8080/"
    },
    "executionInfo": {
     "elapsed": 17481,
     "status": "ok",
     "timestamp": 1741927041220,
     "user": {
      "displayName": "Mavin Sao",
      "userId": "00014127256476726862"
     },
     "user_tz": -540
    },
    "id": "UuOoTAge5BKj",
    "outputId": "ce64c6c4-0ec1-4c2c-8223-0fda3d1a0b6b"
   },
   "outputs": [
    {
     "name": "stdout",
     "output_type": "stream",
     "text": [
      "Loading and preprocessing data...\n",
      "Data split - Training samples: 21261, Validation samples: 9113\n"
     ]
    }
   ],
   "source": [
    "# Load and preprocess data\n",
    "print(\"Loading and preprocessing data...\")\n",
    "df[\"processed_text\"] = [preprocess_text(row[\"text\"], row[\"label\"]) for _, row in df.iterrows()]\n",
    "label_map = {\"adhd\": 0, \"anxiety\": 1, \"bipolar\": 2, \"bpd\": 3, \"depression\": 4, \"ocd\": 5, \"ptsd\": 6, \"none\": 7}\n",
    "df[\"label_id\"] = df[\"label\"].map(label_map)\n",
    "\n",
    "train_df, val_df = train_test_split(df, test_size=0.3, random_state=42, stratify=df['label_id'])\n",
    "print(f\"Data split - Training samples: {len(train_df)}, Validation samples: {len(val_df)}\")"
   ]
  },
  {
   "cell_type": "code",
   "execution_count": 6,
   "metadata": {
    "executionInfo": {
     "elapsed": 64,
     "status": "ok",
     "timestamp": 1741927041287,
     "user": {
      "displayName": "Mavin Sao",
      "userId": "00014127256476726862"
     },
     "user_tz": -540
    },
    "id": "35iZPh_Q8Ljg"
   },
   "outputs": [],
   "source": [
    "# Reset indices for both dataframes\n",
    "train_df = train_df.reset_index(drop=True)\n",
    "val_df = val_df.reset_index(drop=True)"
   ]
  },
  {
   "cell_type": "markdown",
   "metadata": {
    "id": "vAgrii1W7A2h"
   },
   "source": [
    "### Train Dataframe"
   ]
  },
  {
   "cell_type": "code",
   "execution_count": 7,
   "metadata": {
    "colab": {
     "base_uri": "https://localhost:8080/",
     "height": 206
    },
    "executionInfo": {
     "elapsed": 7,
     "status": "ok",
     "timestamp": 1741927041297,
     "user": {
      "displayName": "Mavin Sao",
      "userId": "00014127256476726862"
     },
     "user_tz": -540
    },
    "id": "BD0Jzlne74Vs",
    "outputId": "cc496ef8-cf17-459f-8ca8-f2d009d27d02"
   },
   "outputs": [
    {
     "data": {
      "text/html": [
       "<div>\n",
       "<style scoped>\n",
       "    .dataframe tbody tr th:only-of-type {\n",
       "        vertical-align: middle;\n",
       "    }\n",
       "\n",
       "    .dataframe tbody tr th {\n",
       "        vertical-align: top;\n",
       "    }\n",
       "\n",
       "    .dataframe thead th {\n",
       "        text-align: right;\n",
       "    }\n",
       "</style>\n",
       "<table border=\"1\" class=\"dataframe\">\n",
       "  <thead>\n",
       "    <tr style=\"text-align: right;\">\n",
       "      <th></th>\n",
       "      <th>processed_text</th>\n",
       "      <th>label</th>\n",
       "      <th>label_id</th>\n",
       "    </tr>\n",
       "  </thead>\n",
       "  <tbody>\n",
       "    <tr>\n",
       "      <th>0</th>\n",
       "      <td>can someone talk to me? i literally just need ...</td>\n",
       "      <td>anxiety</td>\n",
       "      <td>1</td>\n",
       "    </tr>\n",
       "    <tr>\n",
       "      <th>1</th>\n",
       "      <td>reframing the narrative in my mind its so anno...</td>\n",
       "      <td>bpd</td>\n",
       "      <td>3</td>\n",
       "    </tr>\n",
       "    <tr>\n",
       "      <th>2</th>\n",
       "      <td>repetitive behavior is a label. do not let it ...</td>\n",
       "      <td>ocd</td>\n",
       "      <td>5</td>\n",
       "    </tr>\n",
       "    <tr>\n",
       "      <th>3</th>\n",
       "      <td>someone help right now the weirdest thing just...</td>\n",
       "      <td>bpd</td>\n",
       "      <td>3</td>\n",
       "    </tr>\n",
       "    <tr>\n",
       "      <th>4</th>\n",
       "      <td>dae feel hurt when people say that happens to ...</td>\n",
       "      <td>bpd</td>\n",
       "      <td>3</td>\n",
       "    </tr>\n",
       "  </tbody>\n",
       "</table>\n",
       "</div>"
      ],
      "text/plain": [
       "                                      processed_text    label  label_id\n",
       "0  can someone talk to me? i literally just need ...  anxiety         1\n",
       "1  reframing the narrative in my mind its so anno...      bpd         3\n",
       "2  repetitive behavior is a label. do not let it ...      ocd         5\n",
       "3  someone help right now the weirdest thing just...      bpd         3\n",
       "4  dae feel hurt when people say that happens to ...      bpd         3"
      ]
     },
     "execution_count": 7,
     "metadata": {},
     "output_type": "execute_result"
    }
   ],
   "source": [
    "train_df = train_df[[\"processed_text\", \"label\", \"label_id\"]]\n",
    "train_df.head()"
   ]
  },
  {
   "cell_type": "code",
   "execution_count": 8,
   "metadata": {
    "colab": {
     "base_uri": "https://localhost:8080/",
     "height": 613
    },
    "executionInfo": {
     "elapsed": 427,
     "status": "ok",
     "timestamp": 1741927041726,
     "user": {
      "displayName": "Mavin Sao",
      "userId": "00014127256476726862"
     },
     "user_tz": -540
    },
    "id": "uFglYBQ97C_4",
    "outputId": "67b5864c-d2b0-4d2f-860e-30e2b4dd123e"
   },
   "outputs": [
    {
     "data": {
      "image/png": "[encoded data removed]",
      "text/plain": [
       "<Figure size 800x600 with 1 Axes>"
      ]
     },
     "metadata": {},
     "output_type": "display_data"
    }
   ],
   "source": [
    "import pandas as pd\n",
    "import matplotlib.pyplot as plt\n",
    "import seaborn as sns\n",
    "\n",
    "plt.figure(figsize=(8, 6))\n",
    "sns.countplot(x='label', data=train_df)\n",
    "plt.title('Distribution of Labels')\n",
    "plt.xlabel('Label')\n",
    "plt.ylabel('Count')\n",
    "plt.xticks(rotation=45)  # Rotate x-axis labels if there are many unique labels\n",
    "plt.show()"
   ]
  },
  {
   "cell_type": "markdown",
   "metadata": {
    "id": "v-qrO_kK7PbQ"
   },
   "source": [
    "### Test Dataset"
   ]
  },
  {
   "cell_type": "code",
   "execution_count": 9,
   "metadata": {
    "colab": {
     "base_uri": "https://localhost:8080/",
     "height": 206
    },
    "executionInfo": {
     "elapsed": 15,
     "status": "ok",
     "timestamp": 1741927041747,
     "user": {
      "displayName": "Mavin Sao",
      "userId": "00014127256476726862"
     },
     "user_tz": -540
    },
    "id": "EERNPhuQ6fgq",
    "outputId": "5205dc09-4a9f-4f6b-b642-c0481b524ea2"
   },
   "outputs": [
    {
     "data": {
      "text/html": [
       "<div>\n",
       "<style scoped>\n",
       "    .dataframe tbody tr th:only-of-type {\n",
       "        vertical-align: middle;\n",
       "    }\n",
       "\n",
       "    .dataframe tbody tr th {\n",
       "        vertical-align: top;\n",
       "    }\n",
       "\n",
       "    .dataframe thead th {\n",
       "        text-align: right;\n",
       "    }\n",
       "</style>\n",
       "<table border=\"1\" class=\"dataframe\">\n",
       "  <thead>\n",
       "    <tr style=\"text-align: right;\">\n",
       "      <th></th>\n",
       "      <th>processed_text</th>\n",
       "      <th>label</th>\n",
       "      <th>label_id</th>\n",
       "    </tr>\n",
       "  </thead>\n",
       "  <tbody>\n",
       "    <tr>\n",
       "      <th>0</th>\n",
       "      <td>do intrusive thoughts include cringey memories...</td>\n",
       "      <td>ocd</td>\n",
       "      <td>5</td>\n",
       "    </tr>\n",
       "    <tr>\n",
       "      <th>1</th>\n",
       "      <td>you got no reason to be depressed no. please d...</td>\n",
       "      <td>depression</td>\n",
       "      <td>4</td>\n",
       "    </tr>\n",
       "    <tr>\n",
       "      <th>2</th>\n",
       "      <td>today i became a doctor i finished med school ...</td>\n",
       "      <td>adhd</td>\n",
       "      <td>0</td>\n",
       "    </tr>\n",
       "    <tr>\n",
       "      <th>3</th>\n",
       "      <td>when you realize just how different normal lif...</td>\n",
       "      <td>ptsd</td>\n",
       "      <td>6</td>\n",
       "    </tr>\n",
       "    <tr>\n",
       "      <th>4</th>\n",
       "      <td>do you find yourself forgetting things when tr...</td>\n",
       "      <td>ptsd</td>\n",
       "      <td>6</td>\n",
       "    </tr>\n",
       "  </tbody>\n",
       "</table>\n",
       "</div>"
      ],
      "text/plain": [
       "                                      processed_text       label  label_id\n",
       "0  do intrusive thoughts include cringey memories...         ocd         5\n",
       "1  you got no reason to be depressed no. please d...  depression         4\n",
       "2  today i became a doctor i finished med school ...        adhd         0\n",
       "3  when you realize just how different normal lif...        ptsd         6\n",
       "4  do you find yourself forgetting things when tr...        ptsd         6"
      ]
     },
     "execution_count": 9,
     "metadata": {},
     "output_type": "execute_result"
    }
   ],
   "source": [
    "val_df = val_df[[\"processed_text\", \"label\", \"label_id\"]]\n",
    "val_df.head()"
   ]
  },
  {
   "cell_type": "code",
   "execution_count": 10,
   "metadata": {
    "colab": {
     "base_uri": "https://localhost:8080/",
     "height": 613
    },
    "executionInfo": {
     "elapsed": 275,
     "status": "ok",
     "timestamp": 1741927042023,
     "user": {
      "displayName": "Mavin Sao",
      "userId": "00014127256476726862"
     },
     "user_tz": -540
    },
    "id": "-VxqSnuE6lBD",
    "outputId": "488e37ef-7185-42d7-b6e7-39d8c323db65"
   },
   "outputs": [
    {
     "data": {
      "image/png": "[encoded data removed]",
      "text/plain": [
       "<Figure size 800x600 with 1 Axes>"
      ]
     },
     "metadata": {},
     "output_type": "display_data"
    }
   ],
   "source": [
    "plt.figure(figsize=(8, 6))\n",
    "sns.countplot(x='label', data=val_df)\n",
    "plt.title('Distribution of Labels')\n",
    "plt.xlabel('Label')\n",
    "plt.ylabel('Count')\n",
    "plt.xticks(rotation=45)  # Rotate x-axis labels if there are many unique labels\n",
    "plt.show()"
   ]
  },
  {
   "cell_type": "markdown",
   "metadata": {
    "id": "IhJX36zO8dCe"
   },
   "source": [
    "### Save to csv"
   ]
  },
  {
   "cell_type": "code",
   "execution_count": 11,
   "metadata": {
    "executionInfo": {
     "elapsed": 1243,
     "status": "ok",
     "timestamp": 1741927139683,
     "user": {
      "displayName": "Mavin Sao",
      "userId": "00014127256476726862"
     },
     "user_tz": -540
    },
    "id": "16J_1O967TCT"
   },
   "outputs": [],
   "source": [
    "train_df.to_csv('./train_dataset.csv', index=False)\n",
    "val_df.to_csv('./val_dataset.csv', index=False)"
   ]
  },
  {
   "cell_type": "code",
   "execution_count": null,
   "metadata": {
    "id": "wS274bEs8sON"
   },
   "outputs": [],
   "source": []
  }
 ],
 "metadata": {
  "colab": {
   "authorship_tag": "ABX9TyOhOxpYxNJyd9EVHMjTf94R",
   "mount_file_id": "19oLE5Ci1K9g77dkdS3COUlb4MDU_vJCN",
   "provenance": []
  },
  "kernelspec": {
   "display_name": "Python 3 (ipykernel)",
   "language": "python",
   "name": "python3"
  },
  "language_info": {
   "codemirror_mode": {
    "name": "ipython",
    "version": 3
   },
   "file_extension": ".py",
   "mimetype": "text/x-python",
   "name": "python",
   "nbconvert_exporter": "python",
   "pygments_lexer": "ipython3",
   "version": "3.12.3"
  }
 },
 "nbformat": 4,
 "nbformat_minor": 4
}
