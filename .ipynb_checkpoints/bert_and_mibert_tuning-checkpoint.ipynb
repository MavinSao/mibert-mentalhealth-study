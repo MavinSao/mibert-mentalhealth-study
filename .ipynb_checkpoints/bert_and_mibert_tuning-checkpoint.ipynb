{
 "cells": [
  {
   "cell_type": "code",
   "execution_count": 32,
   "id": "9357a9d5-3c01-464b-86f6-54efc1412304",
   "metadata": {},
   "outputs": [],
   "source": [
    "import torch\n",
    "import torch.nn as nn\n",
    "import pandas as pd\n",
    "from transformers import BertTokenizer, BertModel, AutoTokenizer, AutoModelForSequenceClassification\n",
    "from torch.utils.data import Dataset, DataLoader\n",
    "from sklearn.metrics import accuracy_score, precision_recall_fscore_support, confusion_matrix, classification_report\n",
    "import numpy as np\n",
    "from tqdm import tqdm\n",
    "import time\n",
    "import matplotlib.pyplot as plt\n",
    "import seaborn as sns"
   ]
  },
  {
   "cell_type": "code",
   "execution_count": 2,
   "id": "aec44065-9bfc-45c5-be9e-3255dd4298c4",
   "metadata": {},
   "outputs": [
    {
     "name": "stdout",
     "output_type": "stream",
     "text": [
      "Process started - Using device: cuda\n"
     ]
    }
   ],
   "source": [
    "# Set device\n",
    "device = torch.device(\"cuda\" if torch.cuda.is_available() else \"cpu\")\n",
    "print(f\"Process started - Using device: {device}\")"
   ]
  },
  {
   "cell_type": "code",
   "execution_count": 3,
   "id": "5c1e7220-28c5-4032-ba1e-9b11d81ad0c5",
   "metadata": {},
   "outputs": [],
   "source": [
    "# Custom Dataset\n",
    "class MentalHealthDataset(Dataset):\n",
    "    def __init__(self, encodings, labels):\n",
    "        self.encodings = encodings\n",
    "        self.labels = labels\n",
    "\n",
    "    def __getitem__(self, idx):\n",
    "        item = {key: torch.tensor(val[idx]) for key, val in self.encodings.items()}\n",
    "        item[\"labels\"] = torch.tensor(self.labels[idx], dtype=torch.long)\n",
    "        return item\n",
    "\n",
    "    def __len__(self):\n",
    "        return len(self.labels)"
   ]
  },
  {
   "cell_type": "code",
   "execution_count": 4,
   "id": "0d34a9ff-c6d2-4fff-a617-b38da0e80c9a",
   "metadata": {},
   "outputs": [],
   "source": [
    "# BERT Model\n",
    "class BertClassifier(nn.Module):\n",
    "    def __init__(self, num_labels=8):\n",
    "        super(BertClassifier, self).__init__()\n",
    "        self.bert = BertModel.from_pretrained('bert-base-uncased')\n",
    "        self.dropout = nn.Dropout(0.1)\n",
    "        self.classifier = nn.Linear(self.bert.config.hidden_size, num_labels)\n",
    "    \n",
    "    def forward(self, input_ids, attention_mask):\n",
    "        outputs = self.bert(input_ids=input_ids, attention_mask=attention_mask)\n",
    "        pooled_output = outputs.pooler_output\n",
    "        pooled_output = self.dropout(pooled_output)\n",
    "        logits = self.classifier(pooled_output)\n",
    "        return logits"
   ]
  },
  {
   "cell_type": "code",
   "execution_count": 5,
   "id": "ab2f7bee-6b97-4dc6-b47e-3b85f8443172",
   "metadata": {},
   "outputs": [],
   "source": [
    "# MiBERT Model\n",
    "class MiBertClassifier(nn.Module):\n",
    "    def __init__(self, num_labels=8):\n",
    "        super(MiBertClassifier, self).__init__()\n",
    "        self.bert = BertModel.from_pretrained('mavinsao/mi-bert-base')\n",
    "        self.dropout = nn.Dropout(0.1)\n",
    "        self.classifier = nn.Linear(self.bert.config.hidden_size, num_labels)\n",
    "    \n",
    "    def forward(self, input_ids, attention_mask):\n",
    "        outputs = self.bert(input_ids=input_ids, attention_mask=attention_mask)\n",
    "        pooled_output = outputs.pooler_output\n",
    "        pooled_output = self.dropout(pooled_output)\n",
    "        logits = self.classifier(pooled_output)\n",
    "        return logits"
   ]
  },
  {
   "cell_type": "code",
   "execution_count": 33,
   "id": "86bbf281-9511-47b3-8455-be8f3c40f30c",
   "metadata": {},
   "outputs": [],
   "source": [
    "# BioBERT Model\n",
    "class BioBertClassifier(nn.Module):\n",
    "    def __init__(self, num_labels=8):\n",
    "        super(BioBertClassifier, self).__init__()\n",
    "        self.bert = BertModel.from_pretrained('dmis-lab/biobert-base-cased-v1.2')\n",
    "        self.dropout = nn.Dropout(0.1)\n",
    "        self.classifier = nn.Linear(self.bert.config.hidden_size, num_labels)\n",
    "    \n",
    "    def forward(self, input_ids, attention_mask):\n",
    "        outputs = self.bert(input_ids=input_ids, attention_mask=attention_mask)\n",
    "        pooled_output = outputs.pooler_output\n",
    "        pooled_output = self.dropout(pooled_output)\n",
    "        logits = self.classifier(pooled_output)\n",
    "        return logits"
   ]
  },
  {
   "cell_type": "code",
   "execution_count": 7,
   "id": "68867e4a-3725-48e3-a1de-e323ad760129",
   "metadata": {},
   "outputs": [],
   "source": [
    "# ClinicalBERT Model\n",
    "class ClinicalBertClassifier(nn.Module):\n",
    "    def __init__(self, num_labels=8):\n",
    "        super(ClinicalBertClassifier, self).__init__()\n",
    "        self.bert = BertModel.from_pretrained('emilyalsentzer/Bio_ClinicalBERT')\n",
    "        self.dropout = nn.Dropout(0.1)\n",
    "        self.classifier = nn.Linear(self.bert.config.hidden_size, num_labels)\n",
    "    \n",
    "    def forward(self, input_ids, attention_mask):\n",
    "        outputs = self.bert(input_ids=input_ids, attention_mask=attention_mask)\n",
    "        pooled_output = outputs.pooler_output\n",
    "        pooled_output = self.dropout(pooled_output)\n",
    "        logits = self.classifier(pooled_output)\n",
    "        return logits"
   ]
  },
  {
   "cell_type": "code",
   "execution_count": 8,
   "id": "3ca772a6-e0cb-421f-98e3-d20c77083597",
   "metadata": {},
   "outputs": [],
   "source": [
    "# MedBERT Model\n",
    "class MedBertClassifier(nn.Module):\n",
    "    def __init__(self, num_labels=8):\n",
    "        super(MedBertClassifier, self).__init__()\n",
    "        self.bert = BertModel.from_pretrained('CharlyZhu/MedBERT')\n",
    "        self.dropout = nn.Dropout(0.1)\n",
    "        self.classifier = nn.Linear(self.bert.config.hidden_size, num_labels)\n",
    "    \n",
    "    def forward(self, input_ids, attention_mask):\n",
    "        outputs = self.bert(input_ids=input_ids, attention_mask=attention_mask)\n",
    "        pooled_output = outputs.pooler_output\n",
    "        pooled_output = self.dropout(pooled_output)\n",
    "        logits = self.classifier(pooled_output)\n",
    "        return logits"
   ]
  },
  {
   "cell_type": "code",
   "execution_count": 9,
   "id": "83c57f99-93fd-4f13-a2a3-602752bec7ab",
   "metadata": {},
   "outputs": [
    {
     "name": "stdout",
     "output_type": "stream",
     "text": [
      "Loading and preprocessing data...\n"
     ]
    }
   ],
   "source": [
    "# Load and preprocess data\n",
    "print(\"Loading and preprocessing data...\")\n",
    "train_df = pd.read_csv(\"./dataset/train_dataset.csv\")\n",
    "val_df = pd.read_csv(\"./dataset/val_dataset.csv\")\n",
    "\n",
    "label_map = {\"adhd\": 0, \"anxiety\": 1, \"bipolar\": 2, \"bpd\": 3, \"depression\": 4, \"ocd\": 5, \"ptsd\": 6, \"none\": 7}\n",
    "train_df[\"label_id\"] = train_df[\"label\"].map(label_map)\n",
    "val_df[\"label_id\"] = val_df[\"label\"].map(label_map)\n",
    "label_names = list(label_map.keys())"
   ]
  },
  {
   "cell_type": "code",
   "execution_count": 11,
   "id": "e4243d50-583c-4ac7-950a-9a017d9cdfeb",
   "metadata": {},
   "outputs": [
    {
     "name": "stdout",
     "output_type": "stream",
     "text": [
      "Tokenizing texts...\n"
     ]
    }
   ],
   "source": [
    "# Tokenize data\n",
    "print(\"Tokenizing texts...\")\n",
    "tokenizer = BertTokenizer.from_pretrained('bert-base-uncased')\n",
    "train_encodings = tokenizer(train_df[\"processed_text\"].tolist(), truncation=True, padding=True, max_length=256)\n",
    "val_encodings = tokenizer(val_df[\"processed_text\"].tolist(), truncation=True, padding=True, max_length=256)"
   ]
  },
  {
   "cell_type": "code",
   "execution_count": 12,
   "id": "9bc64c16-86a9-4234-b0d2-e8b8a50d204f",
   "metadata": {},
   "outputs": [
    {
     "name": "stdout",
     "output_type": "stream",
     "text": [
      "Datasets created.\n"
     ]
    }
   ],
   "source": [
    "train_dataset = MentalHealthDataset(train_encodings, train_df[\"label_id\"].tolist())\n",
    "val_dataset = MentalHealthDataset(val_encodings, val_df[\"label_id\"].tolist())\n",
    "print(\"Datasets created.\")"
   ]
  },
  {
   "cell_type": "code",
   "execution_count": 13,
   "id": "f0b1f98c-d523-482e-9b0a-3b375e40a31b",
   "metadata": {},
   "outputs": [],
   "source": [
    "# Training function (with epoch-wise validation)\n",
    "def train_model(model, train_loader, val_loader, learning_rate, epochs=3):\n",
    "    optimizer = torch.optim.AdamW(model.parameters(), lr=learning_rate, weight_decay=1e-5)\n",
    "    scheduler = torch.optim.lr_scheduler.ReduceLROnPlateau(optimizer, mode='min', patience=1, factor=0.5, verbose=True)\n",
    "    criterion = nn.CrossEntropyLoss()\n",
    "    model.to(device)\n",
    "    accumulation_steps = 2\n",
    "\n",
    "    start_time = time.time()\n",
    "    for epoch in range(epochs):\n",
    "        model.train()\n",
    "        train_loss = 0\n",
    "        for step, batch in enumerate(tqdm(train_loader, desc=f\"Epoch {epoch+1}/{epochs} - Training\")):\n",
    "            input_ids = batch['input_ids'].to(device)\n",
    "            attention_mask = batch['attention_mask'].to(device)\n",
    "            labels = batch['labels'].to(device)\n",
    "            optimizer.zero_grad()\n",
    "            outputs = model(input_ids, attention_mask)\n",
    "            loss = criterion(outputs, labels)\n",
    "            loss.backward()\n",
    "            if (step + 1) % accumulation_steps == 0:\n",
    "                optimizer.step()\n",
    "            train_loss += loss.item()\n",
    "\n",
    "        avg_train_loss = train_loss / len(train_loader)\n",
    "        print(f\"Epoch {epoch+1} - Avg Train Loss: {avg_train_loss:.4f}\")\n",
    "\n",
    "        # Validate after each epoch\n",
    "        model.eval()\n",
    "        val_loss = 0\n",
    "        val_preds, val_labels = [], []\n",
    "        with torch.no_grad():\n",
    "            for batch in val_loader:\n",
    "                input_ids = batch['input_ids'].to(device)\n",
    "                attention_mask = batch['attention_mask'].to(device)\n",
    "                labels = batch['labels'].to(device)\n",
    "                outputs = model(input_ids, attention_mask)\n",
    "                loss = criterion(outputs, labels)\n",
    "                val_loss += loss.item()\n",
    "                preds = torch.argmax(outputs, dim=1)\n",
    "                val_preds.extend(preds.cpu().numpy())\n",
    "                val_labels.extend(labels.cpu().numpy())\n",
    "\n",
    "        avg_val_loss = val_loss / len(val_loader)\n",
    "        acc = accuracy_score(val_labels, val_preds)\n",
    "        print(f\"Epoch {epoch+1} - Val Loss: {avg_val_loss:.4f}, Val Accuracy: {acc:.4f}\")\n",
    "        scheduler.step(avg_val_loss)\n",
    "\n",
    "    duration = (time.time() - start_time) / 60  # in minutes\n",
    "    return model, duration"
   ]
  },
  {
   "cell_type": "code",
   "execution_count": 14,
   "id": "ddeeebd0-91f3-499e-9105-b62eba513bda",
   "metadata": {},
   "outputs": [],
   "source": [
    "# Evaluation function (after full training)\n",
    "def evaluate_model(model, val_loader):\n",
    "    model.eval()\n",
    "    val_preds, val_labels = [], []\n",
    "    val_loss = 0\n",
    "    criterion = nn.CrossEntropyLoss()\n",
    "    with torch.no_grad():\n",
    "        for batch in val_loader:\n",
    "            input_ids = batch['input_ids'].to(device)\n",
    "            attention_mask = batch['attention_mask'].to(device)\n",
    "            labels = batch['labels'].to(device)\n",
    "            outputs = model(input_ids, attention_mask)\n",
    "            loss = criterion(outputs, labels)\n",
    "            val_loss += loss.item()\n",
    "            preds = torch.argmax(outputs, dim=1)\n",
    "            val_preds.extend(preds.cpu().numpy())\n",
    "            val_labels.extend(labels.cpu().numpy())\n",
    "\n",
    "    avg_val_loss = val_loss / len(val_loader)\n",
    "    acc = accuracy_score(val_labels, val_preds)\n",
    "    precision, recall, f1, _ = precision_recall_fscore_support(val_labels, val_preds, average='weighted')\n",
    "    return acc, precision, recall, f1, val_preds, val_labels"
   ]
  },
  {
   "cell_type": "markdown",
   "id": "e0cc7446-f277-4323-85ca-d6b401551b19",
   "metadata": {},
   "source": [
    "## Parameter Tuning"
   ]
  },
  {
   "cell_type": "code",
   "execution_count": 15,
   "id": "fef6ae32-6ece-412c-ac06-37582550c150",
   "metadata": {},
   "outputs": [],
   "source": [
    "# Test configurations\n",
    "batch_sizes = [8, 16, 32]\n",
    "learning_rates = [1e-5, 2e-5, 3e-5]"
   ]
  },
  {
   "cell_type": "code",
   "execution_count": 16,
   "id": "5260977e-cdb9-44f3-811c-5627fe300917",
   "metadata": {},
   "outputs": [
    {
     "name": "stdout",
     "output_type": "stream",
     "text": [
      "\n",
      "=== Training BERT Model ===\n",
      "\n",
      "Training BERT - Batch Size: 8, Learning Rate: 1e-05\n"
     ]
    },
    {
     "name": "stderr",
     "output_type": "stream",
     "text": [
      "Epoch 1/3 - Training: 100%|██████████| 2658/2658 [04:52<00:00,  9.09it/s]\n"
     ]
    },
    {
     "name": "stdout",
     "output_type": "stream",
     "text": [
      "Epoch 1 - Avg Train Loss: 1.0257\n",
      "Epoch 1 - Val Loss: 0.6142, Val Accuracy: 0.8028\n"
     ]
    },
    {
     "name": "stderr",
     "output_type": "stream",
     "text": [
      "Epoch 2/3 - Training: 100%|██████████| 2658/2658 [04:54<00:00,  9.02it/s]\n"
     ]
    },
    {
     "name": "stdout",
     "output_type": "stream",
     "text": [
      "Epoch 2 - Avg Train Loss: 0.5269\n",
      "Epoch 2 - Val Loss: 0.5261, Val Accuracy: 0.8290\n"
     ]
    },
    {
     "name": "stderr",
     "output_type": "stream",
     "text": [
      "Epoch 3/3 - Training: 100%|██████████| 2658/2658 [04:54<00:00,  9.03it/s]\n"
     ]
    },
    {
     "name": "stdout",
     "output_type": "stream",
     "text": [
      "Epoch 3 - Avg Train Loss: 0.4168\n",
      "Epoch 3 - Val Loss: 0.5124, Val Accuracy: 0.8354\n",
      "\n",
      "Training BERT - Batch Size: 8, Learning Rate: 2e-05\n"
     ]
    },
    {
     "name": "stderr",
     "output_type": "stream",
     "text": [
      "Epoch 1/3 - Training: 100%|██████████| 2658/2658 [04:54<00:00,  9.04it/s]\n"
     ]
    },
    {
     "name": "stdout",
     "output_type": "stream",
     "text": [
      "Epoch 1 - Avg Train Loss: 0.8587\n",
      "Epoch 1 - Val Loss: 0.6100, Val Accuracy: 0.8068\n"
     ]
    },
    {
     "name": "stderr",
     "output_type": "stream",
     "text": [
      "Epoch 2/3 - Training: 100%|██████████| 2658/2658 [04:54<00:00,  9.03it/s]\n"
     ]
    },
    {
     "name": "stdout",
     "output_type": "stream",
     "text": [
      "Epoch 2 - Avg Train Loss: 0.4937\n",
      "Epoch 2 - Val Loss: 0.5489, Val Accuracy: 0.8211\n"
     ]
    },
    {
     "name": "stderr",
     "output_type": "stream",
     "text": [
      "Epoch 3/3 - Training: 100%|██████████| 2658/2658 [04:54<00:00,  9.02it/s]\n"
     ]
    },
    {
     "name": "stdout",
     "output_type": "stream",
     "text": [
      "Epoch 3 - Avg Train Loss: 0.3758\n",
      "Epoch 3 - Val Loss: 0.5518, Val Accuracy: 0.8297\n",
      "\n",
      "Training BERT - Batch Size: 8, Learning Rate: 3e-05\n"
     ]
    },
    {
     "name": "stderr",
     "output_type": "stream",
     "text": [
      "Epoch 1/3 - Training: 100%|██████████| 2658/2658 [04:54<00:00,  9.03it/s]\n"
     ]
    },
    {
     "name": "stdout",
     "output_type": "stream",
     "text": [
      "Epoch 1 - Avg Train Loss: 0.8189\n",
      "Epoch 1 - Val Loss: 0.5946, Val Accuracy: 0.8085\n"
     ]
    },
    {
     "name": "stderr",
     "output_type": "stream",
     "text": [
      "Epoch 2/3 - Training: 100%|██████████| 2658/2658 [04:54<00:00,  9.03it/s]\n"
     ]
    },
    {
     "name": "stdout",
     "output_type": "stream",
     "text": [
      "Epoch 2 - Avg Train Loss: 0.4999\n",
      "Epoch 2 - Val Loss: 0.5583, Val Accuracy: 0.8176\n"
     ]
    },
    {
     "name": "stderr",
     "output_type": "stream",
     "text": [
      "Epoch 3/3 - Training: 100%|██████████| 2658/2658 [04:54<00:00,  9.01it/s]\n"
     ]
    },
    {
     "name": "stdout",
     "output_type": "stream",
     "text": [
      "Epoch 3 - Avg Train Loss: 0.3821\n",
      "Epoch 3 - Val Loss: 0.5796, Val Accuracy: 0.8234\n",
      "\n",
      "Training BERT - Batch Size: 16, Learning Rate: 1e-05\n"
     ]
    },
    {
     "name": "stderr",
     "output_type": "stream",
     "text": [
      "Epoch 1/3 - Training: 100%|██████████| 1329/1329 [04:30<00:00,  4.91it/s]\n"
     ]
    },
    {
     "name": "stdout",
     "output_type": "stream",
     "text": [
      "Epoch 1 - Avg Train Loss: 1.1973\n",
      "Epoch 1 - Val Loss: 0.6435, Val Accuracy: 0.7962\n"
     ]
    },
    {
     "name": "stderr",
     "output_type": "stream",
     "text": [
      "Epoch 2/3 - Training: 100%|██████████| 1329/1329 [04:30<00:00,  4.91it/s]\n"
     ]
    },
    {
     "name": "stdout",
     "output_type": "stream",
     "text": [
      "Epoch 2 - Avg Train Loss: 0.5752\n",
      "Epoch 2 - Val Loss: 0.5660, Val Accuracy: 0.8166\n"
     ]
    },
    {
     "name": "stderr",
     "output_type": "stream",
     "text": [
      "Epoch 3/3 - Training: 100%|██████████| 1329/1329 [04:30<00:00,  4.91it/s]\n"
     ]
    },
    {
     "name": "stdout",
     "output_type": "stream",
     "text": [
      "Epoch 3 - Avg Train Loss: 0.4492\n",
      "Epoch 3 - Val Loss: 0.5443, Val Accuracy: 0.8226\n",
      "\n",
      "Training BERT - Batch Size: 16, Learning Rate: 2e-05\n"
     ]
    },
    {
     "name": "stderr",
     "output_type": "stream",
     "text": [
      "Epoch 1/3 - Training: 100%|██████████| 1329/1329 [04:30<00:00,  4.91it/s]\n"
     ]
    },
    {
     "name": "stdout",
     "output_type": "stream",
     "text": [
      "Epoch 1 - Avg Train Loss: 0.9947\n",
      "Epoch 1 - Val Loss: 0.6036, Val Accuracy: 0.8063\n"
     ]
    },
    {
     "name": "stderr",
     "output_type": "stream",
     "text": [
      "Epoch 2/3 - Training: 100%|██████████| 1329/1329 [04:30<00:00,  4.91it/s]\n"
     ]
    },
    {
     "name": "stdout",
     "output_type": "stream",
     "text": [
      "Epoch 2 - Avg Train Loss: 0.5106\n",
      "Epoch 2 - Val Loss: 0.5466, Val Accuracy: 0.8222\n"
     ]
    },
    {
     "name": "stderr",
     "output_type": "stream",
     "text": [
      "Epoch 3/3 - Training: 100%|██████████| 1329/1329 [04:30<00:00,  4.91it/s]\n"
     ]
    },
    {
     "name": "stdout",
     "output_type": "stream",
     "text": [
      "Epoch 3 - Avg Train Loss: 0.3964\n",
      "Epoch 3 - Val Loss: 0.5537, Val Accuracy: 0.8230\n",
      "\n",
      "Training BERT - Batch Size: 16, Learning Rate: 3e-05\n"
     ]
    },
    {
     "name": "stderr",
     "output_type": "stream",
     "text": [
      "Epoch 1/3 - Training: 100%|██████████| 1329/1329 [04:30<00:00,  4.91it/s]\n"
     ]
    },
    {
     "name": "stdout",
     "output_type": "stream",
     "text": [
      "Epoch 1 - Avg Train Loss: 0.8750\n",
      "Epoch 1 - Val Loss: 0.5851, Val Accuracy: 0.8131\n"
     ]
    },
    {
     "name": "stderr",
     "output_type": "stream",
     "text": [
      "Epoch 2/3 - Training: 100%|██████████| 1329/1329 [04:30<00:00,  4.91it/s]\n"
     ]
    },
    {
     "name": "stdout",
     "output_type": "stream",
     "text": [
      "Epoch 2 - Avg Train Loss: 0.5030\n",
      "Epoch 2 - Val Loss: 0.5426, Val Accuracy: 0.8216\n"
     ]
    },
    {
     "name": "stderr",
     "output_type": "stream",
     "text": [
      "Epoch 3/3 - Training: 100%|██████████| 1329/1329 [04:30<00:00,  4.91it/s]\n"
     ]
    },
    {
     "name": "stdout",
     "output_type": "stream",
     "text": [
      "Epoch 3 - Avg Train Loss: 0.3839\n",
      "Epoch 3 - Val Loss: 0.5568, Val Accuracy: 0.8278\n",
      "\n",
      "Training BERT - Batch Size: 32, Learning Rate: 1e-05\n"
     ]
    },
    {
     "name": "stderr",
     "output_type": "stream",
     "text": [
      "Epoch 1/3 - Training: 100%|██████████| 665/665 [04:11<00:00,  2.64it/s]\n"
     ]
    },
    {
     "name": "stdout",
     "output_type": "stream",
     "text": [
      "Epoch 1 - Avg Train Loss: 1.3707\n",
      "Epoch 1 - Val Loss: 0.7333, Val Accuracy: 0.7774\n"
     ]
    },
    {
     "name": "stderr",
     "output_type": "stream",
     "text": [
      "Epoch 2/3 - Training: 100%|██████████| 665/665 [04:11<00:00,  2.64it/s]\n"
     ]
    },
    {
     "name": "stdout",
     "output_type": "stream",
     "text": [
      "Epoch 2 - Avg Train Loss: 0.6342\n",
      "Epoch 2 - Val Loss: 0.5875, Val Accuracy: 0.8149\n"
     ]
    },
    {
     "name": "stderr",
     "output_type": "stream",
     "text": [
      "Epoch 3/3 - Training: 100%|██████████| 665/665 [04:11<00:00,  2.64it/s]\n"
     ]
    },
    {
     "name": "stdout",
     "output_type": "stream",
     "text": [
      "Epoch 3 - Avg Train Loss: 0.5077\n",
      "Epoch 3 - Val Loss: 0.5504, Val Accuracy: 0.8221\n",
      "\n",
      "Training BERT - Batch Size: 32, Learning Rate: 2e-05\n"
     ]
    },
    {
     "name": "stderr",
     "output_type": "stream",
     "text": [
      "Epoch 1/3 - Training: 100%|██████████| 665/665 [04:11<00:00,  2.65it/s]\n"
     ]
    },
    {
     "name": "stdout",
     "output_type": "stream",
     "text": [
      "Epoch 1 - Avg Train Loss: 1.0906\n",
      "Epoch 1 - Val Loss: 0.6101, Val Accuracy: 0.8050\n"
     ]
    },
    {
     "name": "stderr",
     "output_type": "stream",
     "text": [
      "Epoch 2/3 - Training: 100%|██████████| 665/665 [04:11<00:00,  2.65it/s]\n"
     ]
    },
    {
     "name": "stdout",
     "output_type": "stream",
     "text": [
      "Epoch 2 - Avg Train Loss: 0.5313\n",
      "Epoch 2 - Val Loss: 0.5441, Val Accuracy: 0.8270\n"
     ]
    },
    {
     "name": "stderr",
     "output_type": "stream",
     "text": [
      "Epoch 3/3 - Training: 100%|██████████| 665/665 [04:11<00:00,  2.65it/s]\n"
     ]
    },
    {
     "name": "stdout",
     "output_type": "stream",
     "text": [
      "Epoch 3 - Avg Train Loss: 0.4107\n",
      "Epoch 3 - Val Loss: 0.5380, Val Accuracy: 0.8309\n",
      "\n",
      "Training BERT - Batch Size: 32, Learning Rate: 3e-05\n"
     ]
    },
    {
     "name": "stderr",
     "output_type": "stream",
     "text": [
      "Epoch 1/3 - Training: 100%|██████████| 665/665 [04:11<00:00,  2.65it/s]\n"
     ]
    },
    {
     "name": "stdout",
     "output_type": "stream",
     "text": [
      "Epoch 1 - Avg Train Loss: 0.9617\n",
      "Epoch 1 - Val Loss: 0.6003, Val Accuracy: 0.8051\n"
     ]
    },
    {
     "name": "stderr",
     "output_type": "stream",
     "text": [
      "Epoch 2/3 - Training: 100%|██████████| 665/665 [04:11<00:00,  2.65it/s]\n"
     ]
    },
    {
     "name": "stdout",
     "output_type": "stream",
     "text": [
      "Epoch 2 - Avg Train Loss: 0.5095\n",
      "Epoch 2 - Val Loss: 0.5412, Val Accuracy: 0.8242\n"
     ]
    },
    {
     "name": "stderr",
     "output_type": "stream",
     "text": [
      "Epoch 3/3 - Training: 100%|██████████| 665/665 [04:11<00:00,  2.65it/s]\n"
     ]
    },
    {
     "name": "stdout",
     "output_type": "stream",
     "text": [
      "Epoch 3 - Avg Train Loss: 0.3944\n",
      "Epoch 3 - Val Loss: 0.5384, Val Accuracy: 0.8262\n"
     ]
    }
   ],
   "source": [
    "# --- BERT Model Training ---\n",
    "print(\"\\n=== Training BERT Model ===\")\n",
    "bert_results = []\n",
    "for batch_size in batch_sizes:\n",
    "    for lr in learning_rates:\n",
    "        print(f\"\\nTraining BERT - Batch Size: {batch_size}, Learning Rate: {lr}\")\n",
    "        train_loader = DataLoader(train_dataset, batch_size=batch_size, shuffle=True)\n",
    "        val_loader = DataLoader(val_dataset, batch_size=batch_size)\n",
    "        \n",
    "        model = BertClassifier(num_labels=8)\n",
    "        trained_model, duration = train_model(model, train_loader, val_loader, lr)\n",
    "        acc, precision, recall, f1, preds, labels = evaluate_model(trained_model, val_loader)\n",
    "        \n",
    "        bert_results.append({\n",
    "            \"Batch Size\": batch_size,\n",
    "            \"Learning Rate\": lr,\n",
    "            \"Accuracy\": acc,\n",
    "            \"Precision\": precision,\n",
    "            \"Recall\": recall,\n",
    "            \"F1\": f1,\n",
    "            \"Duration (min)\": duration,\n",
    "            \"Preds\": preds,\n",
    "            \"Labels\": labels\n",
    "        })"
   ]
  },
  {
   "cell_type": "code",
   "execution_count": 17,
   "id": "7eda87e5-4c05-4d75-82b4-7b6baf4349dd",
   "metadata": {},
   "outputs": [
    {
     "name": "stdout",
     "output_type": "stream",
     "text": [
      "\n",
      "BERT Results Summary:\n"
     ]
    },
    {
     "data": {
      "text/html": [
       "<div>\n",
       "<style scoped>\n",
       "    .dataframe tbody tr th:only-of-type {\n",
       "        vertical-align: middle;\n",
       "    }\n",
       "\n",
       "    .dataframe tbody tr th {\n",
       "        vertical-align: top;\n",
       "    }\n",
       "\n",
       "    .dataframe thead th {\n",
       "        text-align: right;\n",
       "    }\n",
       "</style>\n",
       "<table border=\"1\" class=\"dataframe\">\n",
       "  <thead>\n",
       "    <tr style=\"text-align: right;\">\n",
       "      <th></th>\n",
       "      <th>Batch Size</th>\n",
       "      <th>Learning Rate</th>\n",
       "      <th>Accuracy</th>\n",
       "      <th>Precision</th>\n",
       "      <th>Recall</th>\n",
       "      <th>F1</th>\n",
       "      <th>Duration (min)</th>\n",
       "    </tr>\n",
       "  </thead>\n",
       "  <tbody>\n",
       "    <tr>\n",
       "      <th>0</th>\n",
       "      <td>8</td>\n",
       "      <td>0.00001</td>\n",
       "      <td>0.835400</td>\n",
       "      <td>0.838362</td>\n",
       "      <td>0.835400</td>\n",
       "      <td>0.836001</td>\n",
       "      <td>16.704920</td>\n",
       "    </tr>\n",
       "    <tr>\n",
       "      <th>1</th>\n",
       "      <td>8</td>\n",
       "      <td>0.00002</td>\n",
       "      <td>0.829694</td>\n",
       "      <td>0.831324</td>\n",
       "      <td>0.829694</td>\n",
       "      <td>0.829586</td>\n",
       "      <td>16.729376</td>\n",
       "    </tr>\n",
       "    <tr>\n",
       "      <th>2</th>\n",
       "      <td>8</td>\n",
       "      <td>0.00003</td>\n",
       "      <td>0.823439</td>\n",
       "      <td>0.831115</td>\n",
       "      <td>0.823439</td>\n",
       "      <td>0.823624</td>\n",
       "      <td>16.745551</td>\n",
       "    </tr>\n",
       "    <tr>\n",
       "      <th>3</th>\n",
       "      <td>16</td>\n",
       "      <td>0.00001</td>\n",
       "      <td>0.822561</td>\n",
       "      <td>0.821933</td>\n",
       "      <td>0.822561</td>\n",
       "      <td>0.821731</td>\n",
       "      <td>15.473575</td>\n",
       "    </tr>\n",
       "    <tr>\n",
       "      <th>4</th>\n",
       "      <td>16</td>\n",
       "      <td>0.00002</td>\n",
       "      <td>0.823000</td>\n",
       "      <td>0.830710</td>\n",
       "      <td>0.823000</td>\n",
       "      <td>0.824002</td>\n",
       "      <td>15.469864</td>\n",
       "    </tr>\n",
       "    <tr>\n",
       "      <th>5</th>\n",
       "      <td>16</td>\n",
       "      <td>0.00003</td>\n",
       "      <td>0.827828</td>\n",
       "      <td>0.832176</td>\n",
       "      <td>0.827828</td>\n",
       "      <td>0.828794</td>\n",
       "      <td>15.479341</td>\n",
       "    </tr>\n",
       "    <tr>\n",
       "      <th>6</th>\n",
       "      <td>32</td>\n",
       "      <td>0.00001</td>\n",
       "      <td>0.822122</td>\n",
       "      <td>0.824721</td>\n",
       "      <td>0.822122</td>\n",
       "      <td>0.821661</td>\n",
       "      <td>14.480299</td>\n",
       "    </tr>\n",
       "    <tr>\n",
       "      <th>7</th>\n",
       "      <td>32</td>\n",
       "      <td>0.00002</td>\n",
       "      <td>0.830901</td>\n",
       "      <td>0.833864</td>\n",
       "      <td>0.830901</td>\n",
       "      <td>0.830296</td>\n",
       "      <td>14.467622</td>\n",
       "    </tr>\n",
       "    <tr>\n",
       "      <th>8</th>\n",
       "      <td>32</td>\n",
       "      <td>0.00003</td>\n",
       "      <td>0.826182</td>\n",
       "      <td>0.828479</td>\n",
       "      <td>0.826182</td>\n",
       "      <td>0.826389</td>\n",
       "      <td>14.461192</td>\n",
       "    </tr>\n",
       "  </tbody>\n",
       "</table>\n",
       "</div>"
      ],
      "text/plain": [
       "   Batch Size  Learning Rate  Accuracy  Precision    Recall        F1  \\\n",
       "0           8        0.00001  0.835400   0.838362  0.835400  0.836001   \n",
       "1           8        0.00002  0.829694   0.831324  0.829694  0.829586   \n",
       "2           8        0.00003  0.823439   0.831115  0.823439  0.823624   \n",
       "3          16        0.00001  0.822561   0.821933  0.822561  0.821731   \n",
       "4          16        0.00002  0.823000   0.830710  0.823000  0.824002   \n",
       "5          16        0.00003  0.827828   0.832176  0.827828  0.828794   \n",
       "6          32        0.00001  0.822122   0.824721  0.822122  0.821661   \n",
       "7          32        0.00002  0.830901   0.833864  0.830901  0.830296   \n",
       "8          32        0.00003  0.826182   0.828479  0.826182  0.826389   \n",
       "\n",
       "   Duration (min)  \n",
       "0       16.704920  \n",
       "1       16.729376  \n",
       "2       16.745551  \n",
       "3       15.473575  \n",
       "4       15.469864  \n",
       "5       15.479341  \n",
       "6       14.480299  \n",
       "7       14.467622  \n",
       "8       14.461192  "
      ]
     },
     "execution_count": 17,
     "metadata": {},
     "output_type": "execute_result"
    }
   ],
   "source": [
    "# BERT Results\n",
    "bert_df = pd.DataFrame(bert_results).drop(columns=[\"Preds\", \"Labels\"])\n",
    "print(\"\\nBERT Results Summary:\")\n",
    "bert_df"
   ]
  },
  {
   "cell_type": "code",
   "execution_count": 18,
   "id": "0bfa8f7c-f6b2-4f75-89db-800d5694313b",
   "metadata": {},
   "outputs": [
    {
     "name": "stdout",
     "output_type": "stream",
     "text": [
      "\n",
      "Best BERT Configuration: Batch Size 8.0, Learning Rate 1e-05\n",
      "Accuracy: 0.8354, Precision: 0.8384, Recall: 0.8354, F1: 0.8360\n"
     ]
    }
   ],
   "source": [
    "# Best BERT Configuration\n",
    "best_bert_config = bert_df.loc[bert_df[\"F1\"].idxmax()]\n",
    "print(f\"\\nBest BERT Configuration: Batch Size {best_bert_config['Batch Size']}, Learning Rate {best_bert_config['Learning Rate']}\")\n",
    "print(f\"Accuracy: {best_bert_config['Accuracy']:.4f}, Precision: {best_bert_config['Precision']:.4f}, Recall: {best_bert_config['Recall']:.4f}, F1: {best_bert_config['F1']:.4f}\")"
   ]
  },
  {
   "cell_type": "code",
   "execution_count": 19,
   "id": "fa95f781-3fd6-4dd3-986c-af68bba37d7a",
   "metadata": {},
   "outputs": [],
   "source": [
    "best_bert_idx = bert_df[\"F1\"].idxmax()\n",
    "best_bert_preds = bert_results[best_bert_idx][\"Preds\"]\n",
    "best_bert_labels = bert_results[best_bert_idx][\"Labels\"]"
   ]
  },
  {
   "cell_type": "code",
   "execution_count": 20,
   "id": "f71fc2f5-84a6-46d1-80c8-2092d4f5686d",
   "metadata": {},
   "outputs": [
    {
     "data": {
      "image/png": "[encoded data removed]",
      "text/plain": [
       "<Figure size 1000x800 with 2 Axes>"
      ]
     },
     "metadata": {},
     "output_type": "display_data"
    }
   ],
   "source": [
    "# BERT Confusion Matrix\n",
    "cm_bert = confusion_matrix(best_bert_labels, best_bert_preds)\n",
    "plt.figure(figsize=(10, 8))\n",
    "sns.heatmap(cm_bert, annot=True, fmt=\"d\", cmap=\"Blues\", xticklabels=label_names, yticklabels=label_names)\n",
    "plt.title(\"Confusion Matrix - Best BERT Configuration\")\n",
    "plt.xlabel(\"Predicted\")\n",
    "plt.ylabel(\"True\")\n",
    "plt.xticks(rotation=45, ha='right')\n",
    "plt.yticks(rotation=0)\n",
    "plt.tight_layout()\n",
    "plt.show()"
   ]
  },
  {
   "cell_type": "code",
   "execution_count": 21,
   "id": "f232511e-ef1c-4578-baaf-b00565c22b0f",
   "metadata": {},
   "outputs": [
    {
     "name": "stdout",
     "output_type": "stream",
     "text": [
      "\n",
      "Classification Report for Best BERT Configuration:\n",
      "              precision    recall  f1-score   support\n",
      "\n",
      "        adhd      0.905     0.885     0.895      1265\n",
      "     anxiety      0.866     0.789     0.826      1188\n",
      "     bipolar      0.722     0.820     0.768      1073\n",
      "         bpd      0.844     0.779     0.810      1233\n",
      "  depression      0.770     0.815     0.792      1066\n",
      "         ocd      0.871     0.870     0.871      1042\n",
      "        ptsd      0.825     0.843     0.834      1178\n",
      "        none      0.890     0.887     0.888      1068\n",
      "\n",
      "    accuracy                          0.835      9113\n",
      "   macro avg      0.837     0.836     0.835      9113\n",
      "weighted avg      0.838     0.835     0.836      9113\n",
      "\n"
     ]
    }
   ],
   "source": [
    "# BERT Classification Report\n",
    "print(\"\\nClassification Report for Best BERT Configuration:\")\n",
    "print(classification_report(best_bert_labels, best_bert_preds, target_names=label_names, digits=3))"
   ]
  },
  {
   "cell_type": "markdown",
   "id": "d9c7a6e7-84a7-443c-916e-785b7c2a640a",
   "metadata": {},
   "source": [
    "## MiBERT Model Training"
   ]
  },
  {
   "cell_type": "code",
   "execution_count": 22,
   "id": "cab33f4c-6b0d-44c4-bf83-c78c1c6f1cb5",
   "metadata": {},
   "outputs": [
    {
     "name": "stdout",
     "output_type": "stream",
     "text": [
      "\n",
      "=== Training MiBERT Model ===\n",
      "\n",
      "Training MiBERT - Batch Size: 8, Learning Rate: 1e-05\n"
     ]
    },
    {
     "name": "stderr",
     "output_type": "stream",
     "text": [
      "Some weights of BertModel were not initialized from the model checkpoint at mavinsao/mi-bert-base and are newly initialized: ['bert.pooler.dense.bias', 'bert.pooler.dense.weight']\n",
      "You should probably TRAIN this model on a down-stream task to be able to use it for predictions and inference.\n",
      "Epoch 1/3 - Training: 100%|██████████| 2658/2658 [04:53<00:00,  9.04it/s]\n"
     ]
    },
    {
     "name": "stdout",
     "output_type": "stream",
     "text": [
      "Epoch 1 - Avg Train Loss: 0.7713\n",
      "Epoch 1 - Val Loss: 0.5177, Val Accuracy: 0.8294\n"
     ]
    },
    {
     "name": "stderr",
     "output_type": "stream",
     "text": [
      "Epoch 2/3 - Training: 100%|██████████| 2658/2658 [04:54<00:00,  9.03it/s]\n"
     ]
    },
    {
     "name": "stdout",
     "output_type": "stream",
     "text": [
      "Epoch 2 - Avg Train Loss: 0.4262\n",
      "Epoch 2 - Val Loss: 0.4857, Val Accuracy: 0.8446\n"
     ]
    },
    {
     "name": "stderr",
     "output_type": "stream",
     "text": [
      "Epoch 3/3 - Training: 100%|██████████| 2658/2658 [04:54<00:00,  9.02it/s]\n"
     ]
    },
    {
     "name": "stdout",
     "output_type": "stream",
     "text": [
      "Epoch 3 - Avg Train Loss: 0.3289\n",
      "Epoch 3 - Val Loss: 0.4953, Val Accuracy: 0.8454\n",
      "\n",
      "Training MiBERT - Batch Size: 8, Learning Rate: 2e-05\n"
     ]
    },
    {
     "name": "stderr",
     "output_type": "stream",
     "text": [
      "Some weights of BertModel were not initialized from the model checkpoint at mavinsao/mi-bert-base and are newly initialized: ['bert.pooler.dense.bias', 'bert.pooler.dense.weight']\n",
      "You should probably TRAIN this model on a down-stream task to be able to use it for predictions and inference.\n",
      "Epoch 1/3 - Training: 100%|██████████| 2658/2658 [04:54<00:00,  9.03it/s]\n"
     ]
    },
    {
     "name": "stdout",
     "output_type": "stream",
     "text": [
      "Epoch 1 - Avg Train Loss: 0.6924\n",
      "Epoch 1 - Val Loss: 0.5067, Val Accuracy: 0.8346\n"
     ]
    },
    {
     "name": "stderr",
     "output_type": "stream",
     "text": [
      "Epoch 2/3 - Training: 100%|██████████| 2658/2658 [04:54<00:00,  9.03it/s]\n"
     ]
    },
    {
     "name": "stdout",
     "output_type": "stream",
     "text": [
      "Epoch 2 - Avg Train Loss: 0.4018\n",
      "Epoch 2 - Val Loss: 0.4853, Val Accuracy: 0.8392\n"
     ]
    },
    {
     "name": "stderr",
     "output_type": "stream",
     "text": [
      "Epoch 3/3 - Training: 100%|██████████| 2658/2658 [04:54<00:00,  9.03it/s]\n"
     ]
    },
    {
     "name": "stdout",
     "output_type": "stream",
     "text": [
      "Epoch 3 - Avg Train Loss: 0.2983\n",
      "Epoch 3 - Val Loss: 0.5111, Val Accuracy: 0.8422\n",
      "\n",
      "Training MiBERT - Batch Size: 8, Learning Rate: 3e-05\n"
     ]
    },
    {
     "name": "stderr",
     "output_type": "stream",
     "text": [
      "Some weights of BertModel were not initialized from the model checkpoint at mavinsao/mi-bert-base and are newly initialized: ['bert.pooler.dense.bias', 'bert.pooler.dense.weight']\n",
      "You should probably TRAIN this model on a down-stream task to be able to use it for predictions and inference.\n",
      "Epoch 1/3 - Training: 100%|██████████| 2658/2658 [04:54<00:00,  9.03it/s]\n"
     ]
    },
    {
     "name": "stdout",
     "output_type": "stream",
     "text": [
      "Epoch 1 - Avg Train Loss: 0.6777\n",
      "Epoch 1 - Val Loss: 0.5265, Val Accuracy: 0.8286\n"
     ]
    },
    {
     "name": "stderr",
     "output_type": "stream",
     "text": [
      "Epoch 2/3 - Training: 100%|██████████| 2658/2658 [04:54<00:00,  9.02it/s]\n"
     ]
    },
    {
     "name": "stdout",
     "output_type": "stream",
     "text": [
      "Epoch 2 - Avg Train Loss: 0.4095\n",
      "Epoch 2 - Val Loss: 0.5184, Val Accuracy: 0.8306\n"
     ]
    },
    {
     "name": "stderr",
     "output_type": "stream",
     "text": [
      "Epoch 3/3 - Training: 100%|██████████| 2658/2658 [04:54<00:00,  9.02it/s]\n"
     ]
    },
    {
     "name": "stdout",
     "output_type": "stream",
     "text": [
      "Epoch 3 - Avg Train Loss: 0.3028\n",
      "Epoch 3 - Val Loss: 0.5404, Val Accuracy: 0.8391\n",
      "\n",
      "Training MiBERT - Batch Size: 16, Learning Rate: 1e-05\n"
     ]
    },
    {
     "name": "stderr",
     "output_type": "stream",
     "text": [
      "Some weights of BertModel were not initialized from the model checkpoint at mavinsao/mi-bert-base and are newly initialized: ['bert.pooler.dense.bias', 'bert.pooler.dense.weight']\n",
      "You should probably TRAIN this model on a down-stream task to be able to use it for predictions and inference.\n",
      "Epoch 1/3 - Training: 100%|██████████| 1329/1329 [04:30<00:00,  4.91it/s]\n"
     ]
    },
    {
     "name": "stdout",
     "output_type": "stream",
     "text": [
      "Epoch 1 - Avg Train Loss: 0.8912\n",
      "Epoch 1 - Val Loss: 0.5273, Val Accuracy: 0.8332\n"
     ]
    },
    {
     "name": "stderr",
     "output_type": "stream",
     "text": [
      "Epoch 2/3 - Training: 100%|██████████| 1329/1329 [04:30<00:00,  4.91it/s]\n"
     ]
    },
    {
     "name": "stdout",
     "output_type": "stream",
     "text": [
      "Epoch 2 - Avg Train Loss: 0.4505\n",
      "Epoch 2 - Val Loss: 0.4895, Val Accuracy: 0.8401\n"
     ]
    },
    {
     "name": "stderr",
     "output_type": "stream",
     "text": [
      "Epoch 3/3 - Training: 100%|██████████| 1329/1329 [04:30<00:00,  4.91it/s]\n"
     ]
    },
    {
     "name": "stdout",
     "output_type": "stream",
     "text": [
      "Epoch 3 - Avg Train Loss: 0.3576\n",
      "Epoch 3 - Val Loss: 0.4908, Val Accuracy: 0.8444\n",
      "\n",
      "Training MiBERT - Batch Size: 16, Learning Rate: 2e-05\n"
     ]
    },
    {
     "name": "stderr",
     "output_type": "stream",
     "text": [
      "Some weights of BertModel were not initialized from the model checkpoint at mavinsao/mi-bert-base and are newly initialized: ['bert.pooler.dense.bias', 'bert.pooler.dense.weight']\n",
      "You should probably TRAIN this model on a down-stream task to be able to use it for predictions and inference.\n",
      "Epoch 1/3 - Training: 100%|██████████| 1329/1329 [04:30<00:00,  4.91it/s]\n"
     ]
    },
    {
     "name": "stdout",
     "output_type": "stream",
     "text": [
      "Epoch 1 - Avg Train Loss: 0.7358\n",
      "Epoch 1 - Val Loss: 0.5033, Val Accuracy: 0.8331\n"
     ]
    },
    {
     "name": "stderr",
     "output_type": "stream",
     "text": [
      "Epoch 2/3 - Training: 100%|██████████| 1329/1329 [04:30<00:00,  4.91it/s]\n"
     ]
    },
    {
     "name": "stdout",
     "output_type": "stream",
     "text": [
      "Epoch 2 - Avg Train Loss: 0.4067\n",
      "Epoch 2 - Val Loss: 0.4759, Val Accuracy: 0.8463\n"
     ]
    },
    {
     "name": "stderr",
     "output_type": "stream",
     "text": [
      "Epoch 3/3 - Training: 100%|██████████| 1329/1329 [04:30<00:00,  4.91it/s]\n"
     ]
    },
    {
     "name": "stdout",
     "output_type": "stream",
     "text": [
      "Epoch 3 - Avg Train Loss: 0.3067\n",
      "Epoch 3 - Val Loss: 0.5067, Val Accuracy: 0.8475\n",
      "\n",
      "Training MiBERT - Batch Size: 16, Learning Rate: 3e-05\n"
     ]
    },
    {
     "name": "stderr",
     "output_type": "stream",
     "text": [
      "Some weights of BertModel were not initialized from the model checkpoint at mavinsao/mi-bert-base and are newly initialized: ['bert.pooler.dense.bias', 'bert.pooler.dense.weight']\n",
      "You should probably TRAIN this model on a down-stream task to be able to use it for predictions and inference.\n",
      "Epoch 1/3 - Training: 100%|██████████| 1329/1329 [04:30<00:00,  4.91it/s]\n"
     ]
    },
    {
     "name": "stdout",
     "output_type": "stream",
     "text": [
      "Epoch 1 - Avg Train Loss: 0.6910\n",
      "Epoch 1 - Val Loss: 0.4998, Val Accuracy: 0.8379\n"
     ]
    },
    {
     "name": "stderr",
     "output_type": "stream",
     "text": [
      "Epoch 2/3 - Training: 100%|██████████| 1329/1329 [04:30<00:00,  4.91it/s]\n"
     ]
    },
    {
     "name": "stdout",
     "output_type": "stream",
     "text": [
      "Epoch 2 - Avg Train Loss: 0.3994\n",
      "Epoch 2 - Val Loss: 0.4913, Val Accuracy: 0.8464\n"
     ]
    },
    {
     "name": "stderr",
     "output_type": "stream",
     "text": [
      "Epoch 3/3 - Training: 100%|██████████| 1329/1329 [04:30<00:00,  4.91it/s]\n"
     ]
    },
    {
     "name": "stdout",
     "output_type": "stream",
     "text": [
      "Epoch 3 - Avg Train Loss: 0.2952\n",
      "Epoch 3 - Val Loss: 0.5210, Val Accuracy: 0.8445\n",
      "\n",
      "Training MiBERT - Batch Size: 32, Learning Rate: 1e-05\n"
     ]
    },
    {
     "name": "stderr",
     "output_type": "stream",
     "text": [
      "Some weights of BertModel were not initialized from the model checkpoint at mavinsao/mi-bert-base and are newly initialized: ['bert.pooler.dense.bias', 'bert.pooler.dense.weight']\n",
      "You should probably TRAIN this model on a down-stream task to be able to use it for predictions and inference.\n",
      "Epoch 1/3 - Training: 100%|██████████| 665/665 [04:11<00:00,  2.64it/s]\n"
     ]
    },
    {
     "name": "stdout",
     "output_type": "stream",
     "text": [
      "Epoch 1 - Avg Train Loss: 1.0682\n",
      "Epoch 1 - Val Loss: 0.5519, Val Accuracy: 0.8226\n"
     ]
    },
    {
     "name": "stderr",
     "output_type": "stream",
     "text": [
      "Epoch 2/3 - Training: 100%|██████████| 665/665 [04:11<00:00,  2.64it/s]\n"
     ]
    },
    {
     "name": "stdout",
     "output_type": "stream",
     "text": [
      "Epoch 2 - Avg Train Loss: 0.4885\n",
      "Epoch 2 - Val Loss: 0.4946, Val Accuracy: 0.8388\n"
     ]
    },
    {
     "name": "stderr",
     "output_type": "stream",
     "text": [
      "Epoch 3/3 - Training: 100%|██████████| 665/665 [04:11<00:00,  2.64it/s]\n"
     ]
    },
    {
     "name": "stdout",
     "output_type": "stream",
     "text": [
      "Epoch 3 - Avg Train Loss: 0.3953\n",
      "Epoch 3 - Val Loss: 0.4792, Val Accuracy: 0.8446\n",
      "\n",
      "Training MiBERT - Batch Size: 32, Learning Rate: 2e-05\n"
     ]
    },
    {
     "name": "stderr",
     "output_type": "stream",
     "text": [
      "Some weights of BertModel were not initialized from the model checkpoint at mavinsao/mi-bert-base and are newly initialized: ['bert.pooler.dense.bias', 'bert.pooler.dense.weight']\n",
      "You should probably TRAIN this model on a down-stream task to be able to use it for predictions and inference.\n",
      "Epoch 1/3 - Training: 100%|██████████| 665/665 [04:11<00:00,  2.64it/s]\n"
     ]
    },
    {
     "name": "stdout",
     "output_type": "stream",
     "text": [
      "Epoch 1 - Avg Train Loss: 0.8308\n",
      "Epoch 1 - Val Loss: 0.5351, Val Accuracy: 0.8262\n"
     ]
    },
    {
     "name": "stderr",
     "output_type": "stream",
     "text": [
      "Epoch 2/3 - Training: 100%|██████████| 665/665 [04:11<00:00,  2.64it/s]\n"
     ]
    },
    {
     "name": "stdout",
     "output_type": "stream",
     "text": [
      "Epoch 2 - Avg Train Loss: 0.4265\n",
      "Epoch 2 - Val Loss: 0.4886, Val Accuracy: 0.8415\n"
     ]
    },
    {
     "name": "stderr",
     "output_type": "stream",
     "text": [
      "Epoch 3/3 - Training: 100%|██████████| 665/665 [04:11<00:00,  2.64it/s]\n"
     ]
    },
    {
     "name": "stdout",
     "output_type": "stream",
     "text": [
      "Epoch 3 - Avg Train Loss: 0.3270\n",
      "Epoch 3 - Val Loss: 0.4886, Val Accuracy: 0.8459\n",
      "\n",
      "Training MiBERT - Batch Size: 32, Learning Rate: 3e-05\n"
     ]
    },
    {
     "name": "stderr",
     "output_type": "stream",
     "text": [
      "Some weights of BertModel were not initialized from the model checkpoint at mavinsao/mi-bert-base and are newly initialized: ['bert.pooler.dense.bias', 'bert.pooler.dense.weight']\n",
      "You should probably TRAIN this model on a down-stream task to be able to use it for predictions and inference.\n",
      "Epoch 1/3 - Training: 100%|██████████| 665/665 [04:11<00:00,  2.64it/s]\n"
     ]
    },
    {
     "name": "stdout",
     "output_type": "stream",
     "text": [
      "Epoch 1 - Avg Train Loss: 0.7467\n",
      "Epoch 1 - Val Loss: 0.5183, Val Accuracy: 0.8296\n"
     ]
    },
    {
     "name": "stderr",
     "output_type": "stream",
     "text": [
      "Epoch 2/3 - Training: 100%|██████████| 665/665 [04:11<00:00,  2.64it/s]\n"
     ]
    },
    {
     "name": "stdout",
     "output_type": "stream",
     "text": [
      "Epoch 2 - Avg Train Loss: 0.4072\n",
      "Epoch 2 - Val Loss: 0.4762, Val Accuracy: 0.8435\n"
     ]
    },
    {
     "name": "stderr",
     "output_type": "stream",
     "text": [
      "Epoch 3/3 - Training: 100%|██████████| 665/665 [04:11<00:00,  2.65it/s]\n"
     ]
    },
    {
     "name": "stdout",
     "output_type": "stream",
     "text": [
      "Epoch 3 - Avg Train Loss: 0.3146\n",
      "Epoch 3 - Val Loss: 0.5110, Val Accuracy: 0.8438\n"
     ]
    }
   ],
   "source": [
    "# --- MiBERT Model Training ---\n",
    "print(\"\\n=== Training MiBERT Model ===\")\n",
    "mibert_results = []\n",
    "for batch_size in batch_sizes:\n",
    "    for lr in learning_rates:\n",
    "        print(f\"\\nTraining MiBERT - Batch Size: {batch_size}, Learning Rate: {lr}\")\n",
    "        train_loader = DataLoader(train_dataset, batch_size=batch_size, shuffle=True)\n",
    "        val_loader = DataLoader(val_dataset, batch_size=batch_size)\n",
    "        \n",
    "        model = MiBertClassifier(num_labels=8)\n",
    "        trained_model, duration = train_model(model, train_loader, val_loader, lr)\n",
    "        acc, precision, recall, f1, preds, labels = evaluate_model(trained_model, val_loader)\n",
    "        \n",
    "        mibert_results.append({\n",
    "            \"Batch Size\": batch_size,\n",
    "            \"Learning Rate\": lr,\n",
    "            \"Accuracy\": acc,\n",
    "            \"Precision\": precision,\n",
    "            \"Recall\": recall,\n",
    "            \"F1\": f1,\n",
    "            \"Duration (min)\": duration,\n",
    "            \"Preds\": preds,\n",
    "            \"Labels\": labels\n",
    "        })"
   ]
  },
  {
   "cell_type": "code",
   "execution_count": 23,
   "id": "3369153b-ab9f-402e-a47f-dfa84d7b7dd4",
   "metadata": {},
   "outputs": [
    {
     "name": "stdout",
     "output_type": "stream",
     "text": [
      "\n",
      "MiBERT Results Summary:\n"
     ]
    },
    {
     "data": {
      "text/html": [
       "<div>\n",
       "<style scoped>\n",
       "    .dataframe tbody tr th:only-of-type {\n",
       "        vertical-align: middle;\n",
       "    }\n",
       "\n",
       "    .dataframe tbody tr th {\n",
       "        vertical-align: top;\n",
       "    }\n",
       "\n",
       "    .dataframe thead th {\n",
       "        text-align: right;\n",
       "    }\n",
       "</style>\n",
       "<table border=\"1\" class=\"dataframe\">\n",
       "  <thead>\n",
       "    <tr style=\"text-align: right;\">\n",
       "      <th></th>\n",
       "      <th>Batch Size</th>\n",
       "      <th>Learning Rate</th>\n",
       "      <th>Accuracy</th>\n",
       "      <th>Precision</th>\n",
       "      <th>Recall</th>\n",
       "      <th>F1</th>\n",
       "      <th>Duration (min)</th>\n",
       "    </tr>\n",
       "  </thead>\n",
       "  <tbody>\n",
       "    <tr>\n",
       "      <th>0</th>\n",
       "      <td>8</td>\n",
       "      <td>0.00001</td>\n",
       "      <td>0.845386</td>\n",
       "      <td>0.848116</td>\n",
       "      <td>0.845386</td>\n",
       "      <td>0.845487</td>\n",
       "      <td>16.727393</td>\n",
       "    </tr>\n",
       "    <tr>\n",
       "      <th>1</th>\n",
       "      <td>8</td>\n",
       "      <td>0.00002</td>\n",
       "      <td>0.842203</td>\n",
       "      <td>0.846174</td>\n",
       "      <td>0.842203</td>\n",
       "      <td>0.841897</td>\n",
       "      <td>16.732562</td>\n",
       "    </tr>\n",
       "    <tr>\n",
       "      <th>2</th>\n",
       "      <td>8</td>\n",
       "      <td>0.00003</td>\n",
       "      <td>0.839131</td>\n",
       "      <td>0.841128</td>\n",
       "      <td>0.839131</td>\n",
       "      <td>0.838534</td>\n",
       "      <td>16.740884</td>\n",
       "    </tr>\n",
       "    <tr>\n",
       "      <th>3</th>\n",
       "      <td>16</td>\n",
       "      <td>0.00001</td>\n",
       "      <td>0.844398</td>\n",
       "      <td>0.851546</td>\n",
       "      <td>0.844398</td>\n",
       "      <td>0.845150</td>\n",
       "      <td>15.468935</td>\n",
       "    </tr>\n",
       "    <tr>\n",
       "      <th>4</th>\n",
       "      <td>16</td>\n",
       "      <td>0.00002</td>\n",
       "      <td>0.847471</td>\n",
       "      <td>0.849485</td>\n",
       "      <td>0.847471</td>\n",
       "      <td>0.847393</td>\n",
       "      <td>15.477077</td>\n",
       "    </tr>\n",
       "    <tr>\n",
       "      <th>5</th>\n",
       "      <td>16</td>\n",
       "      <td>0.00003</td>\n",
       "      <td>0.844508</td>\n",
       "      <td>0.848359</td>\n",
       "      <td>0.844508</td>\n",
       "      <td>0.844689</td>\n",
       "      <td>15.469334</td>\n",
       "    </tr>\n",
       "    <tr>\n",
       "      <th>6</th>\n",
       "      <td>32</td>\n",
       "      <td>0.00001</td>\n",
       "      <td>0.844618</td>\n",
       "      <td>0.846323</td>\n",
       "      <td>0.844618</td>\n",
       "      <td>0.844955</td>\n",
       "      <td>14.480535</td>\n",
       "    </tr>\n",
       "    <tr>\n",
       "      <th>7</th>\n",
       "      <td>32</td>\n",
       "      <td>0.00002</td>\n",
       "      <td>0.845934</td>\n",
       "      <td>0.849954</td>\n",
       "      <td>0.845934</td>\n",
       "      <td>0.845957</td>\n",
       "      <td>14.477677</td>\n",
       "    </tr>\n",
       "    <tr>\n",
       "      <th>8</th>\n",
       "      <td>32</td>\n",
       "      <td>0.00003</td>\n",
       "      <td>0.843849</td>\n",
       "      <td>0.847587</td>\n",
       "      <td>0.843849</td>\n",
       "      <td>0.843289</td>\n",
       "      <td>14.474928</td>\n",
       "    </tr>\n",
       "  </tbody>\n",
       "</table>\n",
       "</div>"
      ],
      "text/plain": [
       "   Batch Size  Learning Rate  Accuracy  Precision    Recall        F1  \\\n",
       "0           8        0.00001  0.845386   0.848116  0.845386  0.845487   \n",
       "1           8        0.00002  0.842203   0.846174  0.842203  0.841897   \n",
       "2           8        0.00003  0.839131   0.841128  0.839131  0.838534   \n",
       "3          16        0.00001  0.844398   0.851546  0.844398  0.845150   \n",
       "4          16        0.00002  0.847471   0.849485  0.847471  0.847393   \n",
       "5          16        0.00003  0.844508   0.848359  0.844508  0.844689   \n",
       "6          32        0.00001  0.844618   0.846323  0.844618  0.844955   \n",
       "7          32        0.00002  0.845934   0.849954  0.845934  0.845957   \n",
       "8          32        0.00003  0.843849   0.847587  0.843849  0.843289   \n",
       "\n",
       "   Duration (min)  \n",
       "0       16.727393  \n",
       "1       16.732562  \n",
       "2       16.740884  \n",
       "3       15.468935  \n",
       "4       15.477077  \n",
       "5       15.469334  \n",
       "6       14.480535  \n",
       "7       14.477677  \n",
       "8       14.474928  "
      ]
     },
     "execution_count": 23,
     "metadata": {},
     "output_type": "execute_result"
    }
   ],
   "source": [
    "# MiBERT Results\n",
    "mibert_df = pd.DataFrame(mibert_results).drop(columns=[\"Preds\", \"Labels\"])\n",
    "print(\"\\nMiBERT Results Summary:\")\n",
    "mibert_df"
   ]
  },
  {
   "cell_type": "code",
   "execution_count": 24,
   "id": "93466236-8704-4cfc-8f72-ea09adc7946b",
   "metadata": {},
   "outputs": [
    {
     "name": "stdout",
     "output_type": "stream",
     "text": [
      "\n",
      "Best MiBERT Configuration: Batch Size 16.0, Learning Rate 2e-05\n",
      "Accuracy: 0.8475, Precision: 0.8495, Recall: 0.8475, F1: 0.8474\n"
     ]
    }
   ],
   "source": [
    "# Best MiBERT Configuration\n",
    "best_mibert_config = mibert_df.loc[mibert_df[\"F1\"].idxmax()]\n",
    "print(f\"\\nBest MiBERT Configuration: Batch Size {best_mibert_config['Batch Size']}, Learning Rate {best_mibert_config['Learning Rate']}\")\n",
    "print(f\"Accuracy: {best_mibert_config['Accuracy']:.4f}, Precision: {best_mibert_config['Precision']:.4f}, Recall: {best_mibert_config['Recall']:.4f}, F1: {best_mibert_config['F1']:.4f}\")"
   ]
  },
  {
   "cell_type": "code",
   "execution_count": 25,
   "id": "b3d4a06e-8c30-498f-b9d3-135a977333cb",
   "metadata": {},
   "outputs": [],
   "source": [
    "best_mibert_idx = mibert_df[\"F1\"].idxmax()\n",
    "best_mibert_preds = mibert_results[best_mibert_idx][\"Preds\"]\n",
    "best_mibert_labels = mibert_results[best_mibert_idx][\"Labels\"]"
   ]
  },
  {
   "cell_type": "code",
   "execution_count": 26,
   "id": "fa9b9b7c-7aa3-4d8c-834f-b4962990d965",
   "metadata": {},
   "outputs": [
    {
     "data": {
      "image/png": "[encoded data removed]",
      "text/plain": [
       "<Figure size 1000x800 with 2 Axes>"
      ]
     },
     "metadata": {},
     "output_type": "display_data"
    }
   ],
   "source": [
    "# MiBERT Confusion Matrix\n",
    "cm_mibert = confusion_matrix(best_mibert_labels, best_mibert_preds)\n",
    "plt.figure(figsize=(10, 8))\n",
    "sns.heatmap(cm_mibert, annot=True, fmt=\"d\", cmap=\"Blues\", xticklabels=label_names, yticklabels=label_names)\n",
    "plt.title(\"Confusion Matrix - Best MiBERT Configuration\")\n",
    "plt.xlabel(\"Predicted\")\n",
    "plt.ylabel(\"True\")\n",
    "plt.xticks(rotation=45, ha='right')\n",
    "plt.yticks(rotation=0)\n",
    "plt.tight_layout()\n",
    "plt.show()"
   ]
  },
  {
   "cell_type": "code",
   "execution_count": 27,
   "id": "133d7946-1fec-44c9-bc30-ffc3b856c7d9",
   "metadata": {},
   "outputs": [
    {
     "name": "stdout",
     "output_type": "stream",
     "text": [
      "\n",
      "Classification Report for Best MiBERT Configuration:\n",
      "              precision    recall  f1-score   support\n",
      "\n",
      "        adhd      0.878     0.919     0.898      1265\n",
      "     anxiety      0.812     0.845     0.828      1188\n",
      "     bipolar      0.765     0.794     0.780      1073\n",
      "         bpd      0.847     0.790     0.817      1233\n",
      "  depression      0.821     0.828     0.825      1066\n",
      "         ocd      0.945     0.842     0.890      1042\n",
      "        ptsd      0.884     0.821     0.851      1178\n",
      "        none      0.841     0.939     0.887      1068\n",
      "\n",
      "    accuracy                          0.847      9113\n",
      "   macro avg      0.849     0.847     0.847      9113\n",
      "weighted avg      0.849     0.847     0.847      9113\n",
      "\n"
     ]
    }
   ],
   "source": [
    "# MiBERT Classification Report\n",
    "print(\"\\nClassification Report for Best MiBERT Configuration:\")\n",
    "print(classification_report(best_mibert_labels, best_mibert_preds, target_names=label_names, digits=3))"
   ]
  },
  {
   "cell_type": "code",
   "execution_count": null,
   "id": "d9916b8e-6e30-4d12-bec0-d9c8b471d860",
   "metadata": {},
   "outputs": [],
   "source": []
  },
  {
   "cell_type": "markdown",
   "id": "825dc7ab-962d-4dc6-be1d-08a19096f4f6",
   "metadata": {},
   "source": [
    "## BioBERT"
   ]
  },
  {
   "cell_type": "code",
   "execution_count": 36,
   "id": "dd2f5fe5-5058-4385-9695-94f03f9349f6",
   "metadata": {},
   "outputs": [],
   "source": [
    "import os\n",
    "# Set CUDA_LAUNCH_BLOCKING for synchronous error reporting\n",
    "os.environ[\"CUDA_LAUNCH_BLOCKING\"] = \"1\""
   ]
  },
  {
   "cell_type": "code",
   "execution_count": 38,
   "id": "154c6744-d881-47f0-ae3a-f739f25f8d00",
   "metadata": {},
   "outputs": [
    {
     "name": "stdout",
     "output_type": "stream",
     "text": [
      "\n",
      "=== Training BioBERT Model ===\n",
      "\n",
      "Training BioBERT - Batch Size: 8, Learning Rate: 1e-05\n"
     ]
    },
    {
     "ename": "RuntimeError",
     "evalue": "CUDA error: device-side assert triggered\nCUDA kernel errors might be asynchronously reported at some other API call, so the stacktrace below might be incorrect.\nFor debugging consider passing CUDA_LAUNCH_BLOCKING=1\nCompile with `TORCH_USE_CUDA_DSA` to enable device-side assertions.\n",
     "output_type": "error",
     "traceback": [
      "\u001b[0;31m---------------------------------------------------------------------------\u001b[0m",
      "\u001b[0;31mRuntimeError\u001b[0m                              Traceback (most recent call last)",
      "Cell \u001b[0;32mIn[38], line 11\u001b[0m\n\u001b[1;32m      8\u001b[0m val_loader \u001b[38;5;241m=\u001b[39m DataLoader(val_dataset, batch_size\u001b[38;5;241m=\u001b[39mbatch_size)\n\u001b[1;32m     10\u001b[0m model \u001b[38;5;241m=\u001b[39m BioBertClassifier(num_labels\u001b[38;5;241m=\u001b[39m\u001b[38;5;241m8\u001b[39m)\n\u001b[0;32m---> 11\u001b[0m trained_model, duration \u001b[38;5;241m=\u001b[39m \u001b[43mtrain_model\u001b[49m\u001b[43m(\u001b[49m\u001b[43mmodel\u001b[49m\u001b[43m,\u001b[49m\u001b[43m \u001b[49m\u001b[43mtrain_loader\u001b[49m\u001b[43m,\u001b[49m\u001b[43m \u001b[49m\u001b[43mval_loader\u001b[49m\u001b[43m,\u001b[49m\u001b[43m \u001b[49m\u001b[43mlr\u001b[49m\u001b[43m)\u001b[49m\n\u001b[1;32m     12\u001b[0m acc, precision, recall, f1, preds, labels \u001b[38;5;241m=\u001b[39m evaluate_model(trained_model, val_loader)\n\u001b[1;32m     14\u001b[0m biobert_results\u001b[38;5;241m.\u001b[39mappend({\n\u001b[1;32m     15\u001b[0m     \u001b[38;5;124m\"\u001b[39m\u001b[38;5;124mBatch Size\u001b[39m\u001b[38;5;124m\"\u001b[39m: batch_size,\n\u001b[1;32m     16\u001b[0m     \u001b[38;5;124m\"\u001b[39m\u001b[38;5;124mLearning Rate\u001b[39m\u001b[38;5;124m\"\u001b[39m: lr,\n\u001b[0;32m   (...)\u001b[0m\n\u001b[1;32m     23\u001b[0m     \u001b[38;5;124m\"\u001b[39m\u001b[38;5;124mLabels\u001b[39m\u001b[38;5;124m\"\u001b[39m: labels\n\u001b[1;32m     24\u001b[0m })\n",
      "Cell \u001b[0;32mIn[13], line 6\u001b[0m, in \u001b[0;36mtrain_model\u001b[0;34m(model, train_loader, val_loader, learning_rate, epochs)\u001b[0m\n\u001b[1;32m      4\u001b[0m scheduler \u001b[38;5;241m=\u001b[39m torch\u001b[38;5;241m.\u001b[39moptim\u001b[38;5;241m.\u001b[39mlr_scheduler\u001b[38;5;241m.\u001b[39mReduceLROnPlateau(optimizer, mode\u001b[38;5;241m=\u001b[39m\u001b[38;5;124m'\u001b[39m\u001b[38;5;124mmin\u001b[39m\u001b[38;5;124m'\u001b[39m, patience\u001b[38;5;241m=\u001b[39m\u001b[38;5;241m1\u001b[39m, factor\u001b[38;5;241m=\u001b[39m\u001b[38;5;241m0.5\u001b[39m, verbose\u001b[38;5;241m=\u001b[39m\u001b[38;5;28;01mTrue\u001b[39;00m)\n\u001b[1;32m      5\u001b[0m criterion \u001b[38;5;241m=\u001b[39m nn\u001b[38;5;241m.\u001b[39mCrossEntropyLoss()\n\u001b[0;32m----> 6\u001b[0m \u001b[43mmodel\u001b[49m\u001b[38;5;241;43m.\u001b[39;49m\u001b[43mto\u001b[49m\u001b[43m(\u001b[49m\u001b[43mdevice\u001b[49m\u001b[43m)\u001b[49m\n\u001b[1;32m      7\u001b[0m accumulation_steps \u001b[38;5;241m=\u001b[39m \u001b[38;5;241m2\u001b[39m\n\u001b[1;32m      9\u001b[0m start_time \u001b[38;5;241m=\u001b[39m time\u001b[38;5;241m.\u001b[39mtime()\n",
      "File \u001b[0;32m~/anaconda3/lib/python3.12/site-packages/torch/nn/modules/module.py:1343\u001b[0m, in \u001b[0;36mModule.to\u001b[0;34m(self, *args, **kwargs)\u001b[0m\n\u001b[1;32m   1340\u001b[0m         \u001b[38;5;28;01melse\u001b[39;00m:\n\u001b[1;32m   1341\u001b[0m             \u001b[38;5;28;01mraise\u001b[39;00m\n\u001b[0;32m-> 1343\u001b[0m \u001b[38;5;28;01mreturn\u001b[39;00m \u001b[38;5;28;43mself\u001b[39;49m\u001b[38;5;241;43m.\u001b[39;49m\u001b[43m_apply\u001b[49m\u001b[43m(\u001b[49m\u001b[43mconvert\u001b[49m\u001b[43m)\u001b[49m\n",
      "File \u001b[0;32m~/anaconda3/lib/python3.12/site-packages/torch/nn/modules/module.py:903\u001b[0m, in \u001b[0;36mModule._apply\u001b[0;34m(self, fn, recurse)\u001b[0m\n\u001b[1;32m    901\u001b[0m \u001b[38;5;28;01mif\u001b[39;00m recurse:\n\u001b[1;32m    902\u001b[0m     \u001b[38;5;28;01mfor\u001b[39;00m module \u001b[38;5;129;01min\u001b[39;00m \u001b[38;5;28mself\u001b[39m\u001b[38;5;241m.\u001b[39mchildren():\n\u001b[0;32m--> 903\u001b[0m         \u001b[43mmodule\u001b[49m\u001b[38;5;241;43m.\u001b[39;49m\u001b[43m_apply\u001b[49m\u001b[43m(\u001b[49m\u001b[43mfn\u001b[49m\u001b[43m)\u001b[49m\n\u001b[1;32m    905\u001b[0m \u001b[38;5;28;01mdef\u001b[39;00m\u001b[38;5;250m \u001b[39m\u001b[38;5;21mcompute_should_use_set_data\u001b[39m(tensor, tensor_applied):\n\u001b[1;32m    906\u001b[0m     \u001b[38;5;28;01mif\u001b[39;00m torch\u001b[38;5;241m.\u001b[39m_has_compatible_shallow_copy_type(tensor, tensor_applied):\n\u001b[1;32m    907\u001b[0m         \u001b[38;5;66;03m# If the new tensor has compatible tensor type as the existing tensor,\u001b[39;00m\n\u001b[1;32m    908\u001b[0m         \u001b[38;5;66;03m# the current behavior is to change the tensor in-place using `.data =`,\u001b[39;00m\n\u001b[0;32m   (...)\u001b[0m\n\u001b[1;32m    913\u001b[0m         \u001b[38;5;66;03m# global flag to let the user control whether they want the future\u001b[39;00m\n\u001b[1;32m    914\u001b[0m         \u001b[38;5;66;03m# behavior of overwriting the existing tensor or not.\u001b[39;00m\n",
      "File \u001b[0;32m~/anaconda3/lib/python3.12/site-packages/torch/nn/modules/module.py:903\u001b[0m, in \u001b[0;36mModule._apply\u001b[0;34m(self, fn, recurse)\u001b[0m\n\u001b[1;32m    901\u001b[0m \u001b[38;5;28;01mif\u001b[39;00m recurse:\n\u001b[1;32m    902\u001b[0m     \u001b[38;5;28;01mfor\u001b[39;00m module \u001b[38;5;129;01min\u001b[39;00m \u001b[38;5;28mself\u001b[39m\u001b[38;5;241m.\u001b[39mchildren():\n\u001b[0;32m--> 903\u001b[0m         \u001b[43mmodule\u001b[49m\u001b[38;5;241;43m.\u001b[39;49m\u001b[43m_apply\u001b[49m\u001b[43m(\u001b[49m\u001b[43mfn\u001b[49m\u001b[43m)\u001b[49m\n\u001b[1;32m    905\u001b[0m \u001b[38;5;28;01mdef\u001b[39;00m\u001b[38;5;250m \u001b[39m\u001b[38;5;21mcompute_should_use_set_data\u001b[39m(tensor, tensor_applied):\n\u001b[1;32m    906\u001b[0m     \u001b[38;5;28;01mif\u001b[39;00m torch\u001b[38;5;241m.\u001b[39m_has_compatible_shallow_copy_type(tensor, tensor_applied):\n\u001b[1;32m    907\u001b[0m         \u001b[38;5;66;03m# If the new tensor has compatible tensor type as the existing tensor,\u001b[39;00m\n\u001b[1;32m    908\u001b[0m         \u001b[38;5;66;03m# the current behavior is to change the tensor in-place using `.data =`,\u001b[39;00m\n\u001b[0;32m   (...)\u001b[0m\n\u001b[1;32m    913\u001b[0m         \u001b[38;5;66;03m# global flag to let the user control whether they want the future\u001b[39;00m\n\u001b[1;32m    914\u001b[0m         \u001b[38;5;66;03m# behavior of overwriting the existing tensor or not.\u001b[39;00m\n",
      "File \u001b[0;32m~/anaconda3/lib/python3.12/site-packages/torch/nn/modules/module.py:903\u001b[0m, in \u001b[0;36mModule._apply\u001b[0;34m(self, fn, recurse)\u001b[0m\n\u001b[1;32m    901\u001b[0m \u001b[38;5;28;01mif\u001b[39;00m recurse:\n\u001b[1;32m    902\u001b[0m     \u001b[38;5;28;01mfor\u001b[39;00m module \u001b[38;5;129;01min\u001b[39;00m \u001b[38;5;28mself\u001b[39m\u001b[38;5;241m.\u001b[39mchildren():\n\u001b[0;32m--> 903\u001b[0m         \u001b[43mmodule\u001b[49m\u001b[38;5;241;43m.\u001b[39;49m\u001b[43m_apply\u001b[49m\u001b[43m(\u001b[49m\u001b[43mfn\u001b[49m\u001b[43m)\u001b[49m\n\u001b[1;32m    905\u001b[0m \u001b[38;5;28;01mdef\u001b[39;00m\u001b[38;5;250m \u001b[39m\u001b[38;5;21mcompute_should_use_set_data\u001b[39m(tensor, tensor_applied):\n\u001b[1;32m    906\u001b[0m     \u001b[38;5;28;01mif\u001b[39;00m torch\u001b[38;5;241m.\u001b[39m_has_compatible_shallow_copy_type(tensor, tensor_applied):\n\u001b[1;32m    907\u001b[0m         \u001b[38;5;66;03m# If the new tensor has compatible tensor type as the existing tensor,\u001b[39;00m\n\u001b[1;32m    908\u001b[0m         \u001b[38;5;66;03m# the current behavior is to change the tensor in-place using `.data =`,\u001b[39;00m\n\u001b[0;32m   (...)\u001b[0m\n\u001b[1;32m    913\u001b[0m         \u001b[38;5;66;03m# global flag to let the user control whether they want the future\u001b[39;00m\n\u001b[1;32m    914\u001b[0m         \u001b[38;5;66;03m# behavior of overwriting the existing tensor or not.\u001b[39;00m\n",
      "File \u001b[0;32m~/anaconda3/lib/python3.12/site-packages/torch/nn/modules/module.py:930\u001b[0m, in \u001b[0;36mModule._apply\u001b[0;34m(self, fn, recurse)\u001b[0m\n\u001b[1;32m    926\u001b[0m \u001b[38;5;66;03m# Tensors stored in modules are graph leaves, and we don't want to\u001b[39;00m\n\u001b[1;32m    927\u001b[0m \u001b[38;5;66;03m# track autograd history of `param_applied`, so we have to use\u001b[39;00m\n\u001b[1;32m    928\u001b[0m \u001b[38;5;66;03m# `with torch.no_grad():`\u001b[39;00m\n\u001b[1;32m    929\u001b[0m \u001b[38;5;28;01mwith\u001b[39;00m torch\u001b[38;5;241m.\u001b[39mno_grad():\n\u001b[0;32m--> 930\u001b[0m     param_applied \u001b[38;5;241m=\u001b[39m \u001b[43mfn\u001b[49m\u001b[43m(\u001b[49m\u001b[43mparam\u001b[49m\u001b[43m)\u001b[49m\n\u001b[1;32m    931\u001b[0m p_should_use_set_data \u001b[38;5;241m=\u001b[39m compute_should_use_set_data(param, param_applied)\n\u001b[1;32m    933\u001b[0m \u001b[38;5;66;03m# subclasses may have multiple child tensors so we need to use swap_tensors\u001b[39;00m\n",
      "File \u001b[0;32m~/anaconda3/lib/python3.12/site-packages/torch/nn/modules/module.py:1329\u001b[0m, in \u001b[0;36mModule.to.<locals>.convert\u001b[0;34m(t)\u001b[0m\n\u001b[1;32m   1322\u001b[0m     \u001b[38;5;28;01mif\u001b[39;00m convert_to_format \u001b[38;5;129;01mis\u001b[39;00m \u001b[38;5;129;01mnot\u001b[39;00m \u001b[38;5;28;01mNone\u001b[39;00m \u001b[38;5;129;01mand\u001b[39;00m t\u001b[38;5;241m.\u001b[39mdim() \u001b[38;5;129;01min\u001b[39;00m (\u001b[38;5;241m4\u001b[39m, \u001b[38;5;241m5\u001b[39m):\n\u001b[1;32m   1323\u001b[0m         \u001b[38;5;28;01mreturn\u001b[39;00m t\u001b[38;5;241m.\u001b[39mto(\n\u001b[1;32m   1324\u001b[0m             device,\n\u001b[1;32m   1325\u001b[0m             dtype \u001b[38;5;28;01mif\u001b[39;00m t\u001b[38;5;241m.\u001b[39mis_floating_point() \u001b[38;5;129;01mor\u001b[39;00m t\u001b[38;5;241m.\u001b[39mis_complex() \u001b[38;5;28;01melse\u001b[39;00m \u001b[38;5;28;01mNone\u001b[39;00m,\n\u001b[1;32m   1326\u001b[0m             non_blocking,\n\u001b[1;32m   1327\u001b[0m             memory_format\u001b[38;5;241m=\u001b[39mconvert_to_format,\n\u001b[1;32m   1328\u001b[0m         )\n\u001b[0;32m-> 1329\u001b[0m     \u001b[38;5;28;01mreturn\u001b[39;00m \u001b[43mt\u001b[49m\u001b[38;5;241;43m.\u001b[39;49m\u001b[43mto\u001b[49m\u001b[43m(\u001b[49m\n\u001b[1;32m   1330\u001b[0m \u001b[43m        \u001b[49m\u001b[43mdevice\u001b[49m\u001b[43m,\u001b[49m\n\u001b[1;32m   1331\u001b[0m \u001b[43m        \u001b[49m\u001b[43mdtype\u001b[49m\u001b[43m \u001b[49m\u001b[38;5;28;43;01mif\u001b[39;49;00m\u001b[43m \u001b[49m\u001b[43mt\u001b[49m\u001b[38;5;241;43m.\u001b[39;49m\u001b[43mis_floating_point\u001b[49m\u001b[43m(\u001b[49m\u001b[43m)\u001b[49m\u001b[43m \u001b[49m\u001b[38;5;129;43;01mor\u001b[39;49;00m\u001b[43m \u001b[49m\u001b[43mt\u001b[49m\u001b[38;5;241;43m.\u001b[39;49m\u001b[43mis_complex\u001b[49m\u001b[43m(\u001b[49m\u001b[43m)\u001b[49m\u001b[43m \u001b[49m\u001b[38;5;28;43;01melse\u001b[39;49;00m\u001b[43m \u001b[49m\u001b[38;5;28;43;01mNone\u001b[39;49;00m\u001b[43m,\u001b[49m\n\u001b[1;32m   1332\u001b[0m \u001b[43m        \u001b[49m\u001b[43mnon_blocking\u001b[49m\u001b[43m,\u001b[49m\n\u001b[1;32m   1333\u001b[0m \u001b[43m    \u001b[49m\u001b[43m)\u001b[49m\n\u001b[1;32m   1334\u001b[0m \u001b[38;5;28;01mexcept\u001b[39;00m \u001b[38;5;167;01mNotImplementedError\u001b[39;00m \u001b[38;5;28;01mas\u001b[39;00m e:\n\u001b[1;32m   1335\u001b[0m     \u001b[38;5;28;01mif\u001b[39;00m \u001b[38;5;28mstr\u001b[39m(e) \u001b[38;5;241m==\u001b[39m \u001b[38;5;124m\"\u001b[39m\u001b[38;5;124mCannot copy out of meta tensor; no data!\u001b[39m\u001b[38;5;124m\"\u001b[39m:\n",
      "\u001b[0;31mRuntimeError\u001b[0m: CUDA error: device-side assert triggered\nCUDA kernel errors might be asynchronously reported at some other API call, so the stacktrace below might be incorrect.\nFor debugging consider passing CUDA_LAUNCH_BLOCKING=1\nCompile with `TORCH_USE_CUDA_DSA` to enable device-side assertions.\n"
     ]
    }
   ],
   "source": [
    "# --- BioBERT Model Training ---\n",
    "print(\"\\n=== Training BioBERT Model ===\")\n",
    "biobert_results = []\n",
    "for batch_size in batch_sizes:\n",
    "    for lr in learning_rates:\n",
    "        print(f\"\\nTraining BioBERT - Batch Size: {batch_size}, Learning Rate: {lr}\")\n",
    "        train_loader = DataLoader(train_dataset, batch_size=batch_size, shuffle=True)\n",
    "        val_loader = DataLoader(val_dataset, batch_size=batch_size)\n",
    "        \n",
    "        model = BioBertClassifier(num_labels=8)\n",
    "        trained_model, duration = train_model(model, train_loader, val_loader, lr)\n",
    "        acc, precision, recall, f1, preds, labels = evaluate_model(trained_model, val_loader)\n",
    "        \n",
    "        biobert_results.append({\n",
    "            \"Batch Size\": batch_size,\n",
    "            \"Learning Rate\": lr,\n",
    "            \"Accuracy\": acc,\n",
    "            \"Precision\": precision,\n",
    "            \"Recall\": recall,\n",
    "            \"F1\": f1,\n",
    "            \"Duration (min)\": duration,\n",
    "            \"Preds\": preds,\n",
    "            \"Labels\": labels\n",
    "        })"
   ]
  },
  {
   "cell_type": "code",
   "execution_count": 30,
   "id": "da0e79bc-8707-4ba6-b92d-2a5cf6b077c6",
   "metadata": {},
   "outputs": [
    {
     "ename": "KeyError",
     "evalue": "\"['Preds', 'Labels'] not found in axis\"",
     "output_type": "error",
     "traceback": [
      "\u001b[0;31m---------------------------------------------------------------------------\u001b[0m",
      "\u001b[0;31mKeyError\u001b[0m                                  Traceback (most recent call last)",
      "Cell \u001b[0;32mIn[30], line 2\u001b[0m\n\u001b[1;32m      1\u001b[0m \u001b[38;5;66;03m# BioBERT Results\u001b[39;00m\n\u001b[0;32m----> 2\u001b[0m biobert_df \u001b[38;5;241m=\u001b[39m \u001b[43mpd\u001b[49m\u001b[38;5;241;43m.\u001b[39;49m\u001b[43mDataFrame\u001b[49m\u001b[43m(\u001b[49m\u001b[43mbiobert_results\u001b[49m\u001b[43m)\u001b[49m\u001b[38;5;241;43m.\u001b[39;49m\u001b[43mdrop\u001b[49m\u001b[43m(\u001b[49m\u001b[43mcolumns\u001b[49m\u001b[38;5;241;43m=\u001b[39;49m\u001b[43m[\u001b[49m\u001b[38;5;124;43m\"\u001b[39;49m\u001b[38;5;124;43mPreds\u001b[39;49m\u001b[38;5;124;43m\"\u001b[39;49m\u001b[43m,\u001b[49m\u001b[43m \u001b[49m\u001b[38;5;124;43m\"\u001b[39;49m\u001b[38;5;124;43mLabels\u001b[39;49m\u001b[38;5;124;43m\"\u001b[39;49m\u001b[43m]\u001b[49m\u001b[43m)\u001b[49m\n\u001b[1;32m      3\u001b[0m \u001b[38;5;28mprint\u001b[39m(\u001b[38;5;124m\"\u001b[39m\u001b[38;5;130;01m\\n\u001b[39;00m\u001b[38;5;124mBioBERT Results Summary:\u001b[39m\u001b[38;5;124m\"\u001b[39m)\n\u001b[1;32m      4\u001b[0m biobert_df\n",
      "File \u001b[0;32m~/anaconda3/lib/python3.12/site-packages/pandas/core/frame.py:5581\u001b[0m, in \u001b[0;36mDataFrame.drop\u001b[0;34m(self, labels, axis, index, columns, level, inplace, errors)\u001b[0m\n\u001b[1;32m   5433\u001b[0m \u001b[38;5;28;01mdef\u001b[39;00m\u001b[38;5;250m \u001b[39m\u001b[38;5;21mdrop\u001b[39m(\n\u001b[1;32m   5434\u001b[0m     \u001b[38;5;28mself\u001b[39m,\n\u001b[1;32m   5435\u001b[0m     labels: IndexLabel \u001b[38;5;241m|\u001b[39m \u001b[38;5;28;01mNone\u001b[39;00m \u001b[38;5;241m=\u001b[39m \u001b[38;5;28;01mNone\u001b[39;00m,\n\u001b[0;32m   (...)\u001b[0m\n\u001b[1;32m   5442\u001b[0m     errors: IgnoreRaise \u001b[38;5;241m=\u001b[39m \u001b[38;5;124m\"\u001b[39m\u001b[38;5;124mraise\u001b[39m\u001b[38;5;124m\"\u001b[39m,\n\u001b[1;32m   5443\u001b[0m ) \u001b[38;5;241m-\u001b[39m\u001b[38;5;241m>\u001b[39m DataFrame \u001b[38;5;241m|\u001b[39m \u001b[38;5;28;01mNone\u001b[39;00m:\n\u001b[1;32m   5444\u001b[0m \u001b[38;5;250m    \u001b[39m\u001b[38;5;124;03m\"\"\"\u001b[39;00m\n\u001b[1;32m   5445\u001b[0m \u001b[38;5;124;03m    Drop specified labels from rows or columns.\u001b[39;00m\n\u001b[1;32m   5446\u001b[0m \n\u001b[0;32m   (...)\u001b[0m\n\u001b[1;32m   5579\u001b[0m \u001b[38;5;124;03m            weight  1.0     0.8\u001b[39;00m\n\u001b[1;32m   5580\u001b[0m \u001b[38;5;124;03m    \"\"\"\u001b[39;00m\n\u001b[0;32m-> 5581\u001b[0m     \u001b[38;5;28;01mreturn\u001b[39;00m \u001b[38;5;28;43msuper\u001b[39;49m\u001b[43m(\u001b[49m\u001b[43m)\u001b[49m\u001b[38;5;241;43m.\u001b[39;49m\u001b[43mdrop\u001b[49m\u001b[43m(\u001b[49m\n\u001b[1;32m   5582\u001b[0m \u001b[43m        \u001b[49m\u001b[43mlabels\u001b[49m\u001b[38;5;241;43m=\u001b[39;49m\u001b[43mlabels\u001b[49m\u001b[43m,\u001b[49m\n\u001b[1;32m   5583\u001b[0m \u001b[43m        \u001b[49m\u001b[43maxis\u001b[49m\u001b[38;5;241;43m=\u001b[39;49m\u001b[43maxis\u001b[49m\u001b[43m,\u001b[49m\n\u001b[1;32m   5584\u001b[0m \u001b[43m        \u001b[49m\u001b[43mindex\u001b[49m\u001b[38;5;241;43m=\u001b[39;49m\u001b[43mindex\u001b[49m\u001b[43m,\u001b[49m\n\u001b[1;32m   5585\u001b[0m \u001b[43m        \u001b[49m\u001b[43mcolumns\u001b[49m\u001b[38;5;241;43m=\u001b[39;49m\u001b[43mcolumns\u001b[49m\u001b[43m,\u001b[49m\n\u001b[1;32m   5586\u001b[0m \u001b[43m        \u001b[49m\u001b[43mlevel\u001b[49m\u001b[38;5;241;43m=\u001b[39;49m\u001b[43mlevel\u001b[49m\u001b[43m,\u001b[49m\n\u001b[1;32m   5587\u001b[0m \u001b[43m        \u001b[49m\u001b[43minplace\u001b[49m\u001b[38;5;241;43m=\u001b[39;49m\u001b[43minplace\u001b[49m\u001b[43m,\u001b[49m\n\u001b[1;32m   5588\u001b[0m \u001b[43m        \u001b[49m\u001b[43merrors\u001b[49m\u001b[38;5;241;43m=\u001b[39;49m\u001b[43merrors\u001b[49m\u001b[43m,\u001b[49m\n\u001b[1;32m   5589\u001b[0m \u001b[43m    \u001b[49m\u001b[43m)\u001b[49m\n",
      "File \u001b[0;32m~/anaconda3/lib/python3.12/site-packages/pandas/core/generic.py:4788\u001b[0m, in \u001b[0;36mNDFrame.drop\u001b[0;34m(self, labels, axis, index, columns, level, inplace, errors)\u001b[0m\n\u001b[1;32m   4786\u001b[0m \u001b[38;5;28;01mfor\u001b[39;00m axis, labels \u001b[38;5;129;01min\u001b[39;00m axes\u001b[38;5;241m.\u001b[39mitems():\n\u001b[1;32m   4787\u001b[0m     \u001b[38;5;28;01mif\u001b[39;00m labels \u001b[38;5;129;01mis\u001b[39;00m \u001b[38;5;129;01mnot\u001b[39;00m \u001b[38;5;28;01mNone\u001b[39;00m:\n\u001b[0;32m-> 4788\u001b[0m         obj \u001b[38;5;241m=\u001b[39m \u001b[43mobj\u001b[49m\u001b[38;5;241;43m.\u001b[39;49m\u001b[43m_drop_axis\u001b[49m\u001b[43m(\u001b[49m\u001b[43mlabels\u001b[49m\u001b[43m,\u001b[49m\u001b[43m \u001b[49m\u001b[43maxis\u001b[49m\u001b[43m,\u001b[49m\u001b[43m \u001b[49m\u001b[43mlevel\u001b[49m\u001b[38;5;241;43m=\u001b[39;49m\u001b[43mlevel\u001b[49m\u001b[43m,\u001b[49m\u001b[43m \u001b[49m\u001b[43merrors\u001b[49m\u001b[38;5;241;43m=\u001b[39;49m\u001b[43merrors\u001b[49m\u001b[43m)\u001b[49m\n\u001b[1;32m   4790\u001b[0m \u001b[38;5;28;01mif\u001b[39;00m inplace:\n\u001b[1;32m   4791\u001b[0m     \u001b[38;5;28mself\u001b[39m\u001b[38;5;241m.\u001b[39m_update_inplace(obj)\n",
      "File \u001b[0;32m~/anaconda3/lib/python3.12/site-packages/pandas/core/generic.py:4830\u001b[0m, in \u001b[0;36mNDFrame._drop_axis\u001b[0;34m(self, labels, axis, level, errors, only_slice)\u001b[0m\n\u001b[1;32m   4828\u001b[0m         new_axis \u001b[38;5;241m=\u001b[39m axis\u001b[38;5;241m.\u001b[39mdrop(labels, level\u001b[38;5;241m=\u001b[39mlevel, errors\u001b[38;5;241m=\u001b[39merrors)\n\u001b[1;32m   4829\u001b[0m     \u001b[38;5;28;01melse\u001b[39;00m:\n\u001b[0;32m-> 4830\u001b[0m         new_axis \u001b[38;5;241m=\u001b[39m \u001b[43maxis\u001b[49m\u001b[38;5;241;43m.\u001b[39;49m\u001b[43mdrop\u001b[49m\u001b[43m(\u001b[49m\u001b[43mlabels\u001b[49m\u001b[43m,\u001b[49m\u001b[43m \u001b[49m\u001b[43merrors\u001b[49m\u001b[38;5;241;43m=\u001b[39;49m\u001b[43merrors\u001b[49m\u001b[43m)\u001b[49m\n\u001b[1;32m   4831\u001b[0m     indexer \u001b[38;5;241m=\u001b[39m axis\u001b[38;5;241m.\u001b[39mget_indexer(new_axis)\n\u001b[1;32m   4833\u001b[0m \u001b[38;5;66;03m# Case for non-unique axis\u001b[39;00m\n\u001b[1;32m   4834\u001b[0m \u001b[38;5;28;01melse\u001b[39;00m:\n",
      "File \u001b[0;32m~/anaconda3/lib/python3.12/site-packages/pandas/core/indexes/base.py:7070\u001b[0m, in \u001b[0;36mIndex.drop\u001b[0;34m(self, labels, errors)\u001b[0m\n\u001b[1;32m   7068\u001b[0m \u001b[38;5;28;01mif\u001b[39;00m mask\u001b[38;5;241m.\u001b[39many():\n\u001b[1;32m   7069\u001b[0m     \u001b[38;5;28;01mif\u001b[39;00m errors \u001b[38;5;241m!=\u001b[39m \u001b[38;5;124m\"\u001b[39m\u001b[38;5;124mignore\u001b[39m\u001b[38;5;124m\"\u001b[39m:\n\u001b[0;32m-> 7070\u001b[0m         \u001b[38;5;28;01mraise\u001b[39;00m \u001b[38;5;167;01mKeyError\u001b[39;00m(\u001b[38;5;124mf\u001b[39m\u001b[38;5;124m\"\u001b[39m\u001b[38;5;132;01m{\u001b[39;00mlabels[mask]\u001b[38;5;241m.\u001b[39mtolist()\u001b[38;5;132;01m}\u001b[39;00m\u001b[38;5;124m not found in axis\u001b[39m\u001b[38;5;124m\"\u001b[39m)\n\u001b[1;32m   7071\u001b[0m     indexer \u001b[38;5;241m=\u001b[39m indexer[\u001b[38;5;241m~\u001b[39mmask]\n\u001b[1;32m   7072\u001b[0m \u001b[38;5;28;01mreturn\u001b[39;00m \u001b[38;5;28mself\u001b[39m\u001b[38;5;241m.\u001b[39mdelete(indexer)\n",
      "\u001b[0;31mKeyError\u001b[0m: \"['Preds', 'Labels'] not found in axis\""
     ]
    }
   ],
   "source": [
    "# BioBERT Results\n",
    "biobert_df = pd.DataFrame(biobert_results).drop(columns=[\"Preds\", \"Labels\"])\n",
    "print(\"\\nBioBERT Results Summary:\")\n",
    "biobert_df"
   ]
  },
  {
   "cell_type": "code",
   "execution_count": null,
   "id": "6141fe9d-e9f5-43f6-8d07-88df392caf64",
   "metadata": {},
   "outputs": [],
   "source": [
    "# Best BioBERT Configuration\n",
    "best_biobert_config = biobert_df.loc[biobert_df[\"F1\"].idxmax()]\n",
    "print(f\"\\nBest BioBERT Configuration: Batch Size {best_biobert_config['Batch Size']}, Learning Rate {best_biobert_config['Learning Rate']}\")\n",
    "print(f\"Accuracy: {best_biobert_config['Accuracy']:.4f}, Precision: {best_biobert_config['Precision']:.4f}, Recall: {best_biobert_config['Recall']:.4f}, F1: {best_biobert_config['F1']:.4f}\")"
   ]
  },
  {
   "cell_type": "code",
   "execution_count": null,
   "id": "e7e4e9f6-6962-44c8-aeed-d8ff2a3b0155",
   "metadata": {},
   "outputs": [],
   "source": [
    "best_biobert_idx = biobert_df[\"F1\"].idxmax()\n",
    "best_biobert_preds = biobert_results[best_biobert_idx][\"Preds\"]\n",
    "best_biobert_labels = biobert_results[best_biobert_idx][\"Labels\"]"
   ]
  },
  {
   "cell_type": "code",
   "execution_count": null,
   "id": "ba628190-2be4-4221-8055-d863363893b3",
   "metadata": {},
   "outputs": [],
   "source": [
    "# BioBERT Confusion Matrix\n",
    "cm_biobert = confusion_matrix(best_biobert_labels, best_biobert_preds)\n",
    "plt.figure(figsize=(10, 8))\n",
    "sns.heatmap(cm_biobert, annot=True, fmt=\"d\", cmap=\"Blues\", xticklabels=label_names, yticklabels=label_names)\n",
    "plt.title(\"Confusion Matrix - Best BioBERT Configuration\")\n",
    "plt.xlabel(\"Predicted\")\n",
    "plt.ylabel(\"True\")\n",
    "plt.xticks(rotation=45, ha='right')\n",
    "plt.yticks(rotation=0)\n",
    "plt.tight_layout()\n",
    "plt.show()"
   ]
  },
  {
   "cell_type": "code",
   "execution_count": null,
   "id": "0a116c86-a660-42ff-ae66-ae2a82d2b0d2",
   "metadata": {},
   "outputs": [],
   "source": [
    "# BioBERT Classification Report\n",
    "print(\"\\nClassification Report for Best BioBERT Configuration:\")\n",
    "print(classification_report(best_biobert_labels, best_biobert_preds, target_names=label_names, digits=3))"
   ]
  },
  {
   "cell_type": "code",
   "execution_count": null,
   "id": "f5e12e64-4a5c-4ed1-8112-ff6415a6643b",
   "metadata": {},
   "outputs": [],
   "source": [
    "# --- ClinicalBERT Model Training ---\n",
    "print(\"\\n=== Training ClinicalBERT Model ===\")\n",
    "clinicalbert_results = []\n",
    "for batch_size in batch_sizes:\n",
    "    for lr in learning_rates:\n",
    "        print(f\"\\nTraining ClinicalBERT - Batch Size: {batch_size}, Learning Rate: {lr}\")\n",
    "        train_loader = DataLoader(train_dataset, batch_size=batch_size, shuffle=True)\n",
    "        val_loader = DataLoader(val_dataset, batch_size=batch_size)\n",
    "        \n",
    "        model = ClinicalBertClassifier(num_labels=8)\n",
    "        trained_model, duration = train_model(model, train_loader, val_loader, lr)\n",
    "        acc, precision, recall, f1, preds, labels = evaluate_model(trained_model, val_loader)\n",
    "        \n",
    "        clinicalbert_results.append({\n",
    "            \"Batch Size\": batch_size,\n",
    "            \"Learning Rate\": lr,\n",
    "            \"Accuracy\": acc,\n",
    "            \"Precision\": precision,\n",
    "            \"Recall\": recall,\n",
    "            \"F1\": f1,\n",
    "            \"Duration (min)\": duration,\n",
    "            \"Preds\": preds,\n",
    "            \"Labels\": labels\n",
    "        })"
   ]
  },
  {
   "cell_type": "code",
   "execution_count": null,
   "id": "7c3b7123-2ad8-4ebb-8948-fb5f2fbf0cea",
   "metadata": {},
   "outputs": [],
   "source": [
    "# ClinicalBERT Results\n",
    "clinicalbert_df = pd.DataFrame(clinicalbert_results).drop(columns=[\"Preds\", \"Labels\"])\n",
    "print(\"\\nClinicalBERT Results Summary:\")\n",
    "clinicalbert_df"
   ]
  },
  {
   "cell_type": "code",
   "execution_count": null,
   "id": "7cb5db0a-8391-4245-b387-adc71824887d",
   "metadata": {},
   "outputs": [],
   "source": [
    "# Best ClinicalBERT Configuration\n",
    "best_clinicalbert_config = clinicalbert_df.loc[clinicalbert_df[\"F1\"].idxmax()]\n",
    "print(f\"\\nBest ClinicalBERT Configuration: Batch Size {best_clinicalbert_config['Batch Size']}, Learning Rate {best_clinicalbert_config['Learning Rate']}\")\n",
    "print(f\"Accuracy: {best_clinicalbert_config['Accuracy']:.4f}, Precision: {best_clinicalbert_config['Precision']:.4f}, Recall: {best_clinicalbert_config['Recall']:.4f}, F1: {best_clinicalbert_config['F1']:.4f}\")"
   ]
  },
  {
   "cell_type": "code",
   "execution_count": null,
   "id": "91a7457c-7887-430f-a210-cd4d23fcd9d6",
   "metadata": {},
   "outputs": [],
   "source": [
    "best_clinicalbert_idx = clinicalbert_df[\"F1\"].idxmax()\n",
    "best_clinicalbert_preds = clinicalbert_results[best_clinicalbert_idx][\"Preds\"]\n",
    "best_clinicalbert_labels = clinicalbert_results[best_clinicalbert_idx][\"Labels\"]"
   ]
  },
  {
   "cell_type": "code",
   "execution_count": null,
   "id": "be609bd7-befe-434e-8d3d-83bbd7b5b1a8",
   "metadata": {},
   "outputs": [],
   "source": [
    "# ClinicalBERT Confusion Matrix\n",
    "cm_clinicalbert = confusion_matrix(best_clinicalbert_labels, best_clinicalbert_preds)\n",
    "plt.figure(figsize=(10, 8))\n",
    "sns.heatmap(cm_clinicalbert, annot=True, fmt=\"d\", cmap=\"Blues\", xticklabels=label_names, yticklabels=label_names)\n",
    "plt.title(\"Confusion Matrix - Best ClinicalBERT Configuration\")\n",
    "plt.xlabel(\"Predicted\")\n",
    "plt.ylabel(\"True\")\n",
    "plt.xticks(rotation=45, ha='right')\n",
    "plt.yticks(rotation=0)\n",
    "plt.tight_layout()\n",
    "plt.show()"
   ]
  },
  {
   "cell_type": "code",
   "execution_count": null,
   "id": "0639061f-74e1-440c-a411-454c21a63685",
   "metadata": {},
   "outputs": [],
   "source": [
    "# ClinicalBERT Classification Report\n",
    "print(\"\\nClassification Report for Best ClinicalBERT Configuration:\")\n",
    "print(classification_report(best_clinicalbert_labels, best_clinicalbert_preds, target_names=label_names, digits=3))"
   ]
  },
  {
   "cell_type": "markdown",
   "id": "d19c9120-9346-4a04-a341-263f439c8378",
   "metadata": {},
   "source": [
    "## MedBERT Model Training"
   ]
  },
  {
   "cell_type": "code",
   "execution_count": null,
   "id": "f1977594-849e-4ee1-ab8f-0b6c5e352931",
   "metadata": {},
   "outputs": [],
   "source": [
    "# --- MedBERT Model Training ---\n",
    "print(\"\\n=== Training MedBERT Model ===\")\n",
    "medbert_results = []\n",
    "for batch_size in batch_sizes:\n",
    "    for lr in learning_rates:\n",
    "        print(f\"\\nTraining MedBERT - Batch Size: {batch_size}, Learning Rate: {lr}\")\n",
    "        train_loader = DataLoader(train_dataset, batch_size=batch_size, shuffle=True)\n",
    "        val_loader = DataLoader(val_dataset, batch_size=batch_size)\n",
    "        \n",
    "        model = MedBertClassifier(num_labels=8)\n",
    "        trained_model, duration = train_model(model, train_loader, val_loader, lr)\n",
    "        acc, precision, recall, f1, preds, labels = evaluate_model(trained_model, val_loader)\n",
    "        \n",
    "        medbert_results.append({\n",
    "            \"Batch Size\": batch_size,\n",
    "            \"Learning Rate\": lr,\n",
    "            \"Accuracy\": acc,\n",
    "            \"Precision\": precision,\n",
    "            \"Recall\": recall,\n",
    "            \"F1\": f1,\n",
    "            \"Duration (min)\": duration,\n",
    "            \"Preds\": preds,\n",
    "            \"Labels\": labels\n",
    "        })"
   ]
  },
  {
   "cell_type": "code",
   "execution_count": null,
   "id": "af20b836-bacb-45f5-9d10-08a8a50604f7",
   "metadata": {},
   "outputs": [],
   "source": [
    "# MedBERT Results\n",
    "medbert_df = pd.DataFrame(medbert_results).drop(columns=[\"Preds\", \"Labels\"])\n",
    "print(\"\\nMedBERT Results Summary:\")\n",
    "medbert_df"
   ]
  },
  {
   "cell_type": "code",
   "execution_count": null,
   "id": "c43badaa-ca87-4d20-b6a5-5b35d652478d",
   "metadata": {},
   "outputs": [],
   "source": [
    "# Best MedBERT Configuration\n",
    "best_medbert_config = medbert_df.loc[medbert_df[\"F1\"].idxmax()]\n",
    "print(f\"\\nBest MedBERT Configuration: Batch Size {best_medbert_config['Batch Size']}, Learning Rate {best_medbert_config['Learning Rate']}\")\n",
    "print(f\"Accuracy: {best_medbert_config['Accuracy']:.4f}, Precision: {best_medbert_config['Precision']:.4f}, Recall: {best_medbert_config['Recall']:.4f}, F1: {best_medbert_config['F1']:.4f}\")"
   ]
  },
  {
   "cell_type": "code",
   "execution_count": null,
   "id": "f66dc604-9cbd-4fbe-a49e-2260bce49e0e",
   "metadata": {},
   "outputs": [],
   "source": [
    "best_medbert_idx = medbert_df[\"F1\"].idxmax()\n",
    "best_medbert_preds = medbert_results[best_medbert_idx][\"Preds\"]\n",
    "best_medbert_labels = medbert_results[best_medbert_idx][\"Labels\"]"
   ]
  },
  {
   "cell_type": "code",
   "execution_count": null,
   "id": "4e5f3021-d308-454a-b138-5e04089d0cc5",
   "metadata": {},
   "outputs": [],
   "source": [
    "# MedBERT Confusion Matrix\n",
    "cm_medbert = confusion_matrix(best_medbert_labels, best_medbert_preds)\n",
    "plt.figure(figsize=(10, 8))\n",
    "sns.heatmap(cm_medbert, annot=True, fmt=\"d\", cmap=\"Blues\", xticklabels=label_names, yticklabels=label_names)\n",
    "plt.title(\"Confusion Matrix - Best MedBERT Configuration\")\n",
    "plt.xlabel(\"Predicted\")\n",
    "plt.ylabel(\"True\")\n",
    "plt.xticks(rotation=45, ha='right')\n",
    "plt.yticks(rotation=0)\n",
    "plt.tight_layout()\n",
    "plt.show()"
   ]
  },
  {
   "cell_type": "code",
   "execution_count": null,
   "id": "95de4883-3271-462a-969c-cbda16149cb1",
   "metadata": {},
   "outputs": [],
   "source": [
    "# MedBERT Classification Report\n",
    "print(\"\\nClassification Report for Best MedBERT Configuration:\")\n",
    "print(classification_report(best_medbert_labels, best_medbert_preds, target_names=label_names, digits=3))"
   ]
  },
  {
   "cell_type": "markdown",
   "id": "e16516ad-cc55-44c2-aedc-c8be3024fb5f",
   "metadata": {},
   "source": [
    "## Save Results"
   ]
  },
  {
   "cell_type": "code",
   "execution_count": null,
   "id": "dcb0e14b-b338-45c4-af69-4a0d3a60511b",
   "metadata": {},
   "outputs": [],
   "source": [
    "import os\n",
    "from datetime import datetime"
   ]
  },
  {
   "cell_type": "code",
   "execution_count": null,
   "id": "3e785177-24cc-439b-ab10-daaba7c588de",
   "metadata": {},
   "outputs": [],
   "source": [
    "results_dir = \"./results\"\n",
    "os.makedirs(results_dir, exist_ok=True)"
   ]
  },
  {
   "cell_type": "code",
   "execution_count": null,
   "id": "5852722c-3dd9-4533-9f02-2990130da5d0",
   "metadata": {},
   "outputs": [],
   "source": [
    "bert_df.to_csv(os.path.join(results_dir, f\"bert_results_{timestamp}.csv\"), index=False)\n",
    "print(f\"BERT results saved to {results_dir}/bert_results_{timestamp}.csv\")"
   ]
  },
  {
   "cell_type": "code",
   "execution_count": null,
   "id": "dcc6b43d-8cd6-432a-a0f9-85a821569ae5",
   "metadata": {},
   "outputs": [],
   "source": [
    "mibert_df.to_csv(os.path.join(results_dir, f\"mibert_results_{timestamp}.csv\"), index=False)\n",
    "print(f\"MiBERT results saved to {results_dir}/mibert_results_{timestamp}.csv\")"
   ]
  },
  {
   "cell_type": "code",
   "execution_count": null,
   "id": "8f33dd08-ab4f-440a-8213-3050b1f748e7",
   "metadata": {},
   "outputs": [],
   "source": [
    "biobert_df.to_csv(os.path.join(results_dir, f\"biobert_results_{timestamp}.csv\"), index=False)\n",
    "print(f\"BioBERT results saved to {results_dir}/biobert_results_{timestamp}.csv\")"
   ]
  },
  {
   "cell_type": "code",
   "execution_count": null,
   "id": "87f9cd95-ff6c-4f59-92ac-949aa1d10fa9",
   "metadata": {},
   "outputs": [],
   "source": [
    "clinicalbert_df.to_csv(os.path.join(results_dir, f\"clinicalbert_results_{timestamp}.csv\"), index=False)\n",
    "print(f\"ClinicalBERT results saved to {results_dir}/clinicalbert_results_{timestamp}.csv\")"
   ]
  },
  {
   "cell_type": "code",
   "execution_count": null,
   "id": "cc0c0b32-daa4-498c-bb76-8fd6bd1ae8cc",
   "metadata": {},
   "outputs": [
    {
     "data": {
      "application/vnd.jupyter.widget-view+json": {
       "model_id": "4e529162e78e44dbb3b5ece5552859ed",
       "version_major": 2,
       "version_minor": 0
      },
      "text/plain": [
       "model.safetensors:   0%|          | 0.00/436M [00:00<?, ?B/s]"
      ]
     },
     "metadata": {},
     "output_type": "display_data"
    }
   ],
   "source": [
    "medbert_df.to_csv(os.path.join(results_dir, f\"medbert_results_{timestamp}.csv\"), index=False)\n",
    "print(f\"MedBERT results saved to {results_dir}/medbert_results_{timestamp}.csv\")"
   ]
  },
  {
   "cell_type": "code",
   "execution_count": null,
   "id": "a65392a1-6568-4ade-826f-cf2b5dddaace",
   "metadata": {},
   "outputs": [],
   "source": []
  }
 ],
 "metadata": {
  "kernelspec": {
   "display_name": "Python 3 (ipykernel)",
   "language": "python",
   "name": "python3"
  },
  "language_info": {
   "codemirror_mode": {
    "name": "ipython",
    "version": 3
   },
   "file_extension": ".py",
   "mimetype": "text/x-python",
   "name": "python",
   "nbconvert_exporter": "python",
   "pygments_lexer": "ipython3",
   "version": "3.12.3"
  }
 },
 "nbformat": 4,
 "nbformat_minor": 5
}
